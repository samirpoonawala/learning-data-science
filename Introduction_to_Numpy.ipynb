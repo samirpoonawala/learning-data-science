{
  "nbformat": 4,
  "nbformat_minor": 0,
  "metadata": {
    "colab": {
      "name": "Introduction to Numpy.ipynb",
      "version": "0.3.2",
      "provenance": [],
      "collapsed_sections": [],
      "include_colab_link": true
    }
  },
  "cells": [
    {
      "cell_type": "markdown",
      "metadata": {
        "id": "view-in-github",
        "colab_type": "text"
      },
      "source": [
        "[View in Colaboratory](https://colab.research.google.com/github/samirpoonawala/learning-data-science/blob/master/Introduction_to_Numpy.ipynb)"
      ]
    },
    {
      "metadata": {
        "id": "65lME3pVFrNq",
        "colab_type": "text"
      },
      "cell_type": "markdown",
      "source": [
        "# (Treehouse) Introduction to NumPy\n",
        "[Course Link](https://teamtreehouse.com/library/introduction-to-numpy)\n",
        "\n",
        "NumPy is short for Numerical Python. It is the fundamental package for scientific computing. You will see it at play in just about everywhere Python needs to deal with data. This course gives a gentle introduction to the powerful library.\n",
        "\n",
        "What you'll learn:\n",
        "* use the N-dimensional array to organize and report on data\n",
        "* describe the fundamentals of array programming\n",
        "* explore fundamental concepts and terminology"
      ]
    },
    {
      "metadata": {
        "id": "F9VT8igYV-UF",
        "colab_type": "text"
      },
      "cell_type": "markdown",
      "source": [
        "## Meet Numpy\n",
        "\n",
        "Let's discuss what Numpy is, why you should learn it and get it all set up."
      ]
    },
    {
      "metadata": {
        "id": "aWubmV4uF2Ho",
        "colab_type": "code",
        "colab": {
          "base_uri": "https://localhost:8080/",
          "height": 34
        },
        "outputId": "73a368c5-a14e-4774-8b8f-460c42794b00"
      },
      "cell_type": "code",
      "source": [
        "import numpy as np\n",
        "np.__version__"
      ],
      "execution_count": 2,
      "outputs": [
        {
          "output_type": "execute_result",
          "data": {
            "text/plain": [
              "'1.14.5'"
            ]
          },
          "metadata": {
            "tags": []
          },
          "execution_count": 2
        }
      ]
    },
    {
      "metadata": {
        "id": "Z-bwz7H5gNJD",
        "colab_type": "text"
      },
      "cell_type": "markdown",
      "source": [
        "### Differences between lists and NumPy Arrays\n",
        "\n",
        "\n",
        "*   an array's size is immutable. You can't append, insert or remove elements, like you can with a list\n",
        "*   all of an array's elements must be of the same data type\n",
        "*   a NumPy array behaves in a Pythonic fashion. You can ```len(my_array)``` just like you would assume\n",
        "\n"
      ]
    },
    {
      "metadata": {
        "id": "aRTSUulTIrRr",
        "colab_type": "code",
        "colab": {}
      },
      "cell_type": "code",
      "source": [
        "gpas_as_list = [4.0, 3.286, 3.5]"
      ],
      "execution_count": 0,
      "outputs": []
    },
    {
      "metadata": {
        "id": "BFgY7YWoehgI",
        "colab_type": "code",
        "colab": {
          "base_uri": "https://localhost:8080/",
          "height": 34
        },
        "outputId": "0ff69fb0-e9da-419b-d056-48ddc7ec71ef"
      },
      "cell_type": "code",
      "source": [
        "# can have elements appended to it\n",
        "gpas_as_list.append(4.0)\n",
        "\n",
        "# can have multiple datatypes in it\n",
        "gpas_as_list.insert(1, \"Whatevs\")\n",
        "\n",
        "# can have items removed\n",
        "gpas_as_list.pop(1)"
      ],
      "execution_count": 4,
      "outputs": [
        {
          "output_type": "execute_result",
          "data": {
            "text/plain": [
              "'Whatevs'"
            ]
          },
          "metadata": {
            "tags": []
          },
          "execution_count": 4
        }
      ]
    },
    {
      "metadata": {
        "id": "xoPZ0KkpetPP",
        "colab_type": "code",
        "colab": {
          "base_uri": "https://localhost:8080/",
          "height": 34
        },
        "outputId": "e01d8306-93f8-4358-a0bb-d47809407559"
      },
      "cell_type": "code",
      "source": [
        "gpas_as_list"
      ],
      "execution_count": 5,
      "outputs": [
        {
          "output_type": "execute_result",
          "data": {
            "text/plain": [
              "[4.0, 3.286, 3.5, 4.0]"
            ]
          },
          "metadata": {
            "tags": []
          },
          "execution_count": 5
        }
      ]
    },
    {
      "metadata": {
        "id": "V5QCFfppevIz",
        "colab_type": "code",
        "colab": {}
      },
      "cell_type": "code",
      "source": [
        "# create numpy array\n",
        "\n",
        "gpas = np.array(gpas_as_list)"
      ],
      "execution_count": 0,
      "outputs": []
    },
    {
      "metadata": {
        "id": "FkFQ1h9yfx77",
        "colab_type": "code",
        "colab": {}
      },
      "cell_type": "code",
      "source": [
        "?gpas"
      ],
      "execution_count": 0,
      "outputs": []
    },
    {
      "metadata": {
        "id": "j7AUbGiHfzOj",
        "colab_type": "code",
        "colab": {
          "base_uri": "https://localhost:8080/",
          "height": 34
        },
        "outputId": "3563ca8d-1b0c-4df6-87cf-107f74da63b7"
      },
      "cell_type": "code",
      "source": [
        "gpas.dtype"
      ],
      "execution_count": 8,
      "outputs": [
        {
          "output_type": "execute_result",
          "data": {
            "text/plain": [
              "dtype('float64')"
            ]
          },
          "metadata": {
            "tags": []
          },
          "execution_count": 8
        }
      ]
    },
    {
      "metadata": {
        "id": "2KorLYPzf4ko",
        "colab_type": "code",
        "colab": {
          "base_uri": "https://localhost:8080/",
          "height": 34
        },
        "outputId": "c0d8a85b-0846-41ce-89ca-f23a5c2445b6"
      },
      "cell_type": "code",
      "source": [
        "gpas.itemsize"
      ],
      "execution_count": 9,
      "outputs": [
        {
          "output_type": "execute_result",
          "data": {
            "text/plain": [
              "8"
            ]
          },
          "metadata": {
            "tags": []
          },
          "execution_count": 9
        }
      ]
    },
    {
      "metadata": {
        "id": "MvFr0I53f8o-",
        "colab_type": "code",
        "colab": {
          "base_uri": "https://localhost:8080/",
          "height": 34
        },
        "outputId": "4ea6386d-7e51-4636-eb4a-350f4d0ea0ce"
      },
      "cell_type": "code",
      "source": [
        "gpas.size"
      ],
      "execution_count": 10,
      "outputs": [
        {
          "output_type": "execute_result",
          "data": {
            "text/plain": [
              "4"
            ]
          },
          "metadata": {
            "tags": []
          },
          "execution_count": 10
        }
      ]
    },
    {
      "metadata": {
        "id": "uxSJvEHDf_Zc",
        "colab_type": "code",
        "colab": {
          "base_uri": "https://localhost:8080/",
          "height": 34
        },
        "outputId": "95881454-0392-4aa8-cc1d-8cd971953c25"
      },
      "cell_type": "code",
      "source": [
        "len(gpas)"
      ],
      "execution_count": 11,
      "outputs": [
        {
          "output_type": "execute_result",
          "data": {
            "text/plain": [
              "4"
            ]
          },
          "metadata": {
            "tags": []
          },
          "execution_count": 11
        }
      ]
    },
    {
      "metadata": {
        "id": "3xth8wEZgA_7",
        "colab_type": "code",
        "colab": {
          "base_uri": "https://localhost:8080/",
          "height": 34
        },
        "outputId": "6338b41a-33ee-45d0-cf6a-cc14675b7fd8"
      },
      "cell_type": "code",
      "source": [
        "gpas.nbytes"
      ],
      "execution_count": 12,
      "outputs": [
        {
          "output_type": "execute_result",
          "data": {
            "text/plain": [
              "32"
            ]
          },
          "metadata": {
            "tags": []
          },
          "execution_count": 12
        }
      ]
    },
    {
      "metadata": {
        "id": "s8btA6YXgHPU",
        "colab_type": "text"
      },
      "cell_type": "markdown",
      "source": [
        "### Creating the Study Log\n",
        "Let's create a study log that we will use to track the minutes we will study during the #100DaysOfCode challenge"
      ]
    },
    {
      "metadata": {
        "id": "JZI6PCP3vn5H",
        "colab_type": "text"
      },
      "cell_type": "markdown",
      "source": [
        "#### About data types\n",
        "\n",
        "\n",
        "*   By choosing the proper data type, you can greatly reduce the size required to store objects\n",
        "*   Data types are maintained by wrapping values in a scalar representation\n",
        "*   ```np.zeros``` is a handy way to create an empty array filled with zeros\n",
        "\n"
      ]
    },
    {
      "metadata": {
        "id": "IMV2HNfFgJQj",
        "colab_type": "code",
        "colab": {
          "base_uri": "https://localhost:8080/",
          "height": 102
        },
        "outputId": "3c26699e-c385-4038-c607-3f3bd2d177cf"
      },
      "cell_type": "code",
      "source": [
        "# the zeros function will create a new float64 array initialized to zeros\n",
        "study_minutes = np.zeros(100, np.uint16)\n",
        "study_minutes"
      ],
      "execution_count": 13,
      "outputs": [
        {
          "output_type": "execute_result",
          "data": {
            "text/plain": [
              "array([0, 0, 0, 0, 0, 0, 0, 0, 0, 0, 0, 0, 0, 0, 0, 0, 0, 0, 0, 0, 0, 0,\n",
              "       0, 0, 0, 0, 0, 0, 0, 0, 0, 0, 0, 0, 0, 0, 0, 0, 0, 0, 0, 0, 0, 0,\n",
              "       0, 0, 0, 0, 0, 0, 0, 0, 0, 0, 0, 0, 0, 0, 0, 0, 0, 0, 0, 0, 0, 0,\n",
              "       0, 0, 0, 0, 0, 0, 0, 0, 0, 0, 0, 0, 0, 0, 0, 0, 0, 0, 0, 0, 0, 0,\n",
              "       0, 0, 0, 0, 0, 0, 0, 0, 0, 0, 0, 0], dtype=uint16)"
            ]
          },
          "metadata": {
            "tags": []
          },
          "execution_count": 13
        }
      ]
    },
    {
      "metadata": {
        "id": "dScnhUFJhb3g",
        "colab_type": "code",
        "colab": {
          "base_uri": "https://localhost:8080/",
          "height": 119
        },
        "outputId": "2ae66e00-cd28-4ab4-da06-c623a50c73b1"
      },
      "cell_type": "code",
      "source": [
        "%whos"
      ],
      "execution_count": 14,
      "outputs": [
        {
          "output_type": "stream",
          "text": [
            "Variable        Type       Data/Info\n",
            "------------------------------------\n",
            "gpas            ndarray    4: 4 elems, type `float64`, 32 bytes\n",
            "gpas_as_list    list       n=4\n",
            "np              module     <module 'numpy' from '/us<...>ages/numpy/__init__.pyc'>\n",
            "study_minutes   ndarray    100: 100 elems, type `uint16`, 200 bytes\n"
          ],
          "name": "stdout"
        }
      ]
    },
    {
      "metadata": {
        "id": "h_sYUWc1kbkr",
        "colab_type": "code",
        "colab": {
          "base_uri": "https://localhost:8080/",
          "height": 34
        },
        "outputId": "0ce4f1b5-8eda-47b8-8a72-1c6cc44356c2"
      },
      "cell_type": "code",
      "source": [
        "# minutes per day\n",
        "\n",
        "60 * 24"
      ],
      "execution_count": 15,
      "outputs": [
        {
          "output_type": "execute_result",
          "data": {
            "text/plain": [
              "1440"
            ]
          },
          "metadata": {
            "tags": []
          },
          "execution_count": 15
        }
      ]
    },
    {
      "metadata": {
        "id": "sJVCybVcsrO0",
        "colab_type": "code",
        "colab": {
          "base_uri": "https://localhost:8080/",
          "height": 153
        },
        "outputId": "a3830bfd-8209-477e-fc6b-1ac4e0282a6c"
      },
      "cell_type": "code",
      "source": [
        "# set first day study minutes\n",
        "\n",
        "study_minutes[0] = 150\n",
        "study_minutes"
      ],
      "execution_count": 16,
      "outputs": [
        {
          "output_type": "execute_result",
          "data": {
            "text/plain": [
              "array([150,   0,   0,   0,   0,   0,   0,   0,   0,   0,   0,   0,   0,\n",
              "         0,   0,   0,   0,   0,   0,   0,   0,   0,   0,   0,   0,   0,\n",
              "         0,   0,   0,   0,   0,   0,   0,   0,   0,   0,   0,   0,   0,\n",
              "         0,   0,   0,   0,   0,   0,   0,   0,   0,   0,   0,   0,   0,\n",
              "         0,   0,   0,   0,   0,   0,   0,   0,   0,   0,   0,   0,   0,\n",
              "         0,   0,   0,   0,   0,   0,   0,   0,   0,   0,   0,   0,   0,\n",
              "         0,   0,   0,   0,   0,   0,   0,   0,   0,   0,   0,   0,   0,\n",
              "         0,   0,   0,   0,   0,   0,   0,   0,   0], dtype=uint16)"
            ]
          },
          "metadata": {
            "tags": []
          },
          "execution_count": 16
        }
      ]
    },
    {
      "metadata": {
        "id": "eah_d2-Wsya3",
        "colab_type": "code",
        "colab": {
          "base_uri": "https://localhost:8080/",
          "height": 34
        },
        "outputId": "ba7a9ed5-7b3e-4149-d525-50d7cf7de343"
      },
      "cell_type": "code",
      "source": [
        "first_day_minutes = study_minutes[0]\n",
        "first_day_minutes"
      ],
      "execution_count": 17,
      "outputs": [
        {
          "output_type": "execute_result",
          "data": {
            "text/plain": [
              "150"
            ]
          },
          "metadata": {
            "tags": []
          },
          "execution_count": 17
        }
      ]
    },
    {
      "metadata": {
        "id": "IpxSyVqYtES9",
        "colab_type": "code",
        "colab": {
          "base_uri": "https://localhost:8080/",
          "height": 34
        },
        "outputId": "86f4dee1-77d4-4ae8-941a-c00125aeb5aa"
      },
      "cell_type": "code",
      "source": [
        "# scalar objects\n",
        "\n",
        "type(first_day_minutes)"
      ],
      "execution_count": 18,
      "outputs": [
        {
          "output_type": "execute_result",
          "data": {
            "text/plain": [
              "numpy.uint16"
            ]
          },
          "metadata": {
            "tags": []
          },
          "execution_count": 18
        }
      ]
    },
    {
      "metadata": {
        "id": "OLRpTezBtHAY",
        "colab_type": "code",
        "colab": {
          "base_uri": "https://localhost:8080/",
          "height": 153
        },
        "outputId": "79f1b851-971e-427d-a6a9-fcb0c4ecbf52"
      },
      "cell_type": "code",
      "source": [
        "# TODO: add 60 minutes to the second day in the study_minutes array\n",
        "\n",
        "study_minutes[1] = 60\n",
        "study_minutes"
      ],
      "execution_count": 19,
      "outputs": [
        {
          "output_type": "execute_result",
          "data": {
            "text/plain": [
              "array([150,  60,   0,   0,   0,   0,   0,   0,   0,   0,   0,   0,   0,\n",
              "         0,   0,   0,   0,   0,   0,   0,   0,   0,   0,   0,   0,   0,\n",
              "         0,   0,   0,   0,   0,   0,   0,   0,   0,   0,   0,   0,   0,\n",
              "         0,   0,   0,   0,   0,   0,   0,   0,   0,   0,   0,   0,   0,\n",
              "         0,   0,   0,   0,   0,   0,   0,   0,   0,   0,   0,   0,   0,\n",
              "         0,   0,   0,   0,   0,   0,   0,   0,   0,   0,   0,   0,   0,\n",
              "         0,   0,   0,   0,   0,   0,   0,   0,   0,   0,   0,   0,   0,\n",
              "         0,   0,   0,   0,   0,   0,   0,   0,   0], dtype=uint16)"
            ]
          },
          "metadata": {
            "tags": []
          },
          "execution_count": 19
        }
      ]
    },
    {
      "metadata": {
        "id": "3YvI9H2Ft6mU",
        "colab_type": "code",
        "colab": {
          "base_uri": "https://localhost:8080/",
          "height": 153
        },
        "outputId": "b0fc1752-213b-4b3b-c253-726f58033ee3"
      },
      "cell_type": "code",
      "source": [
        "# assign values for multiple days\n",
        "study_minutes[2:6] = [80, 60, 30, 90]\n",
        "study_minutes"
      ],
      "execution_count": 20,
      "outputs": [
        {
          "output_type": "execute_result",
          "data": {
            "text/plain": [
              "array([150,  60,  80,  60,  30,  90,   0,   0,   0,   0,   0,   0,   0,\n",
              "         0,   0,   0,   0,   0,   0,   0,   0,   0,   0,   0,   0,   0,\n",
              "         0,   0,   0,   0,   0,   0,   0,   0,   0,   0,   0,   0,   0,\n",
              "         0,   0,   0,   0,   0,   0,   0,   0,   0,   0,   0,   0,   0,\n",
              "         0,   0,   0,   0,   0,   0,   0,   0,   0,   0,   0,   0,   0,\n",
              "         0,   0,   0,   0,   0,   0,   0,   0,   0,   0,   0,   0,   0,\n",
              "         0,   0,   0,   0,   0,   0,   0,   0,   0,   0,   0,   0,   0,\n",
              "         0,   0,   0,   0,   0,   0,   0,   0,   0], dtype=uint16)"
            ]
          },
          "metadata": {
            "tags": []
          },
          "execution_count": 20
        }
      ]
    },
    {
      "metadata": {
        "id": "5Y7BTMeluxAR",
        "colab_type": "text"
      },
      "cell_type": "markdown",
      "source": [
        "### Multidimensional Arrays\n",
        "\n",
        "Arrays can have multiple dimensions, let's see how to create and use them to our advantage.\n",
        "\n",
        "*    A multidimensional array is just an array of arrays\n",
        "*   2D array is referred to as a matrix\n",
        "\n",
        "\n",
        "\n",
        "**Study log notes:**\n",
        "* The data structure is actually called `ndarray`, representing any **n**umber of **d**imensions\n",
        "* Arrays can have multiple dimensions, you declare them on creation\n",
        "* Dimensions help define what each element in the array represents.  A two dimensional array is just an array of arrays\n",
        "* **Rank** defines how many dimensions an array contains \n",
        "* **Shape** defines the length of each of the array's dimensions\n",
        "* Each dimension is also referred to as an **axis**, and they are zero-indexed. Multiples are called **axes**.\n",
        "* A 2d array is AKA **matrix**."
      ]
    },
    {
      "metadata": {
        "id": "ZFnePWijuDg4",
        "colab_type": "code",
        "colab": {
          "base_uri": "https://localhost:8080/",
          "height": 68
        },
        "outputId": "3fe7b8ba-939f-4a50-94b0-87279c681999"
      },
      "cell_type": "code",
      "source": [
        "# two dimensional array\n",
        "students_gpas = np.array([\n",
        "    [4.0, 3.286, 3.5, 4.0],\n",
        "    [3.2, 3.8, 4.0, 4.0],\n",
        "    [3.96, 3.92, 4.0, 4.0]\n",
        "], np.float16)\n",
        "students_gpas"
      ],
      "execution_count": 21,
      "outputs": [
        {
          "output_type": "execute_result",
          "data": {
            "text/plain": [
              "array([[4.   , 3.285, 3.5  , 4.   ],\n",
              "       [3.2  , 3.8  , 4.   , 4.   ],\n",
              "       [3.96 , 3.92 , 4.   , 4.   ]], dtype=float16)"
            ]
          },
          "metadata": {
            "tags": []
          },
          "execution_count": 21
        }
      ]
    },
    {
      "metadata": {
        "id": "0MrI0e5owrIO",
        "colab_type": "code",
        "colab": {
          "base_uri": "https://localhost:8080/",
          "height": 34
        },
        "outputId": "eda8967f-654d-4f21-9d89-2b62ffe4d8f6"
      },
      "cell_type": "code",
      "source": [
        "# number of dimensions\n",
        "students_gpas.ndim"
      ],
      "execution_count": 22,
      "outputs": [
        {
          "output_type": "execute_result",
          "data": {
            "text/plain": [
              "2"
            ]
          },
          "metadata": {
            "tags": []
          },
          "execution_count": 22
        }
      ]
    },
    {
      "metadata": {
        "id": "mw-BlzKuwu66",
        "colab_type": "code",
        "colab": {
          "base_uri": "https://localhost:8080/",
          "height": 34
        },
        "outputId": "2d437006-ac78-4112-e09c-357e7d789f1e"
      },
      "cell_type": "code",
      "source": [
        "# how many elements are in each dimension\n",
        "students_gpas.shape"
      ],
      "execution_count": 23,
      "outputs": [
        {
          "output_type": "execute_result",
          "data": {
            "text/plain": [
              "(3, 4)"
            ]
          },
          "metadata": {
            "tags": []
          },
          "execution_count": 23
        }
      ]
    },
    {
      "metadata": {
        "id": "wpYTnxTOxMyo",
        "colab_type": "code",
        "colab": {
          "base_uri": "https://localhost:8080/",
          "height": 34
        },
        "outputId": "1e7cb8ec-c373-4ff8-c056-8ee5ec8c6249"
      },
      "cell_type": "code",
      "source": [
        "students_gpas.size"
      ],
      "execution_count": 24,
      "outputs": [
        {
          "output_type": "execute_result",
          "data": {
            "text/plain": [
              "12"
            ]
          },
          "metadata": {
            "tags": []
          },
          "execution_count": 24
        }
      ]
    },
    {
      "metadata": {
        "id": "7AAgm1f8xP5v",
        "colab_type": "code",
        "colab": {
          "base_uri": "https://localhost:8080/",
          "height": 34
        },
        "outputId": "e91af665-ede2-4a5a-cf7c-e1a6b3b53418"
      },
      "cell_type": "code",
      "source": [
        "len(students_gpas)"
      ],
      "execution_count": 25,
      "outputs": [
        {
          "output_type": "execute_result",
          "data": {
            "text/plain": [
              "3"
            ]
          },
          "metadata": {
            "tags": []
          },
          "execution_count": 25
        }
      ]
    },
    {
      "metadata": {
        "id": "KWb_2yrYxgxu",
        "colab_type": "code",
        "colab": {
          "base_uri": "https://localhost:8080/",
          "height": 34
        },
        "outputId": "9300a969-84ca-4ebd-cd18-473044c9c1a9"
      },
      "cell_type": "code",
      "source": [
        "# how many bytes are being used for each item\n",
        "students_gpas.itemsize * students_gpas.size"
      ],
      "execution_count": 26,
      "outputs": [
        {
          "output_type": "execute_result",
          "data": {
            "text/plain": [
              "24"
            ]
          },
          "metadata": {
            "tags": []
          },
          "execution_count": 26
        }
      ]
    },
    {
      "metadata": {
        "id": "ObZUhT3lxt1D",
        "colab_type": "code",
        "colab": {
          "base_uri": "https://localhost:8080/",
          "height": 34
        },
        "outputId": "ad18cdcb-bdc9-4a93-fca1-15e357e7b24e"
      },
      "cell_type": "code",
      "source": [
        "# third student's records\n",
        "students_gpas[2]"
      ],
      "execution_count": 27,
      "outputs": [
        {
          "output_type": "execute_result",
          "data": {
            "text/plain": [
              "array([3.96, 3.92, 4.  , 4.  ], dtype=float16)"
            ]
          },
          "metadata": {
            "tags": []
          },
          "execution_count": 27
        }
      ]
    },
    {
      "metadata": {
        "id": "WGSA6qK6x8Rn",
        "colab_type": "code",
        "colab": {
          "base_uri": "https://localhost:8080/",
          "height": 34
        },
        "outputId": "9350d99e-85fc-4324-fe95-d5c037a01d44"
      },
      "cell_type": "code",
      "source": [
        "# third student's senior year gpa\n",
        "students_gpas[2][3]"
      ],
      "execution_count": 28,
      "outputs": [
        {
          "output_type": "execute_result",
          "data": {
            "text/plain": [
              "4.0"
            ]
          },
          "metadata": {
            "tags": []
          },
          "execution_count": 28
        }
      ]
    },
    {
      "metadata": {
        "id": "usok2GeouNtP",
        "colab_type": "text"
      },
      "cell_type": "markdown",
      "source": [
        "### Array Organization\n",
        "\n",
        "You are going to want to manipulate and bend your data into the proper shape to meet your needs. Let's explore some best practices."
      ]
    },
    {
      "metadata": {
        "id": "U1oPjrzzxb5W",
        "colab_type": "text"
      },
      "cell_type": "markdown",
      "source": [
        "### Indexing\n",
        "The ndarry data structure is quite Pythonic, so indexing works as expected. NumPy introduces some handy shortcuts and powerful indexing options. Fancy."
      ]
    },
    {
      "metadata": {
        "id": "Z-NixDGjuO6-",
        "colab_type": "code",
        "colab": {}
      },
      "cell_type": "code",
      "source": [
        "study_minutes[1] = 60\n",
        "study_minutes[2:6] = [80, 60, 30, 90]"
      ],
      "execution_count": 0,
      "outputs": []
    },
    {
      "metadata": {
        "id": "F3FjGSc107xW",
        "colab_type": "code",
        "colab": {
          "base_uri": "https://localhost:8080/",
          "height": 34
        },
        "outputId": "b69dd841-36ed-4146-c413-abcbea1bb922"
      },
      "cell_type": "code",
      "source": [
        "study_minutes = np.array([\n",
        "    study_minutes,\n",
        "    np.zeros(100, np.uint16)\n",
        "])\n",
        "\n",
        "#\n",
        "study_minutes.shape"
      ],
      "execution_count": 30,
      "outputs": [
        {
          "output_type": "execute_result",
          "data": {
            "text/plain": [
              "(2, 100)"
            ]
          },
          "metadata": {
            "tags": []
          },
          "execution_count": 30
        }
      ]
    },
    {
      "metadata": {
        "id": "GUtSTaEP3N74",
        "colab_type": "code",
        "colab": {
          "base_uri": "https://localhost:8080/",
          "height": 289
        },
        "outputId": "29ca11b5-d533-46db-fca7-37d2a7c1f5bc"
      },
      "cell_type": "code",
      "source": [
        "study_minutes"
      ],
      "execution_count": 31,
      "outputs": [
        {
          "output_type": "execute_result",
          "data": {
            "text/plain": [
              "array([[150,  60,  80,  60,  30,  90,   0,   0,   0,   0,   0,   0,   0,\n",
              "          0,   0,   0,   0,   0,   0,   0,   0,   0,   0,   0,   0,   0,\n",
              "          0,   0,   0,   0,   0,   0,   0,   0,   0,   0,   0,   0,   0,\n",
              "          0,   0,   0,   0,   0,   0,   0,   0,   0,   0,   0,   0,   0,\n",
              "          0,   0,   0,   0,   0,   0,   0,   0,   0,   0,   0,   0,   0,\n",
              "          0,   0,   0,   0,   0,   0,   0,   0,   0,   0,   0,   0,   0,\n",
              "          0,   0,   0,   0,   0,   0,   0,   0,   0,   0,   0,   0,   0,\n",
              "          0,   0,   0,   0,   0,   0,   0,   0,   0],\n",
              "       [  0,   0,   0,   0,   0,   0,   0,   0,   0,   0,   0,   0,   0,\n",
              "          0,   0,   0,   0,   0,   0,   0,   0,   0,   0,   0,   0,   0,\n",
              "          0,   0,   0,   0,   0,   0,   0,   0,   0,   0,   0,   0,   0,\n",
              "          0,   0,   0,   0,   0,   0,   0,   0,   0,   0,   0,   0,   0,\n",
              "          0,   0,   0,   0,   0,   0,   0,   0,   0,   0,   0,   0,   0,\n",
              "          0,   0,   0,   0,   0,   0,   0,   0,   0,   0,   0,   0,   0,\n",
              "          0,   0,   0,   0,   0,   0,   0,   0,   0,   0,   0,   0,   0,\n",
              "          0,   0,   0,   0,   0,   0,   0,   0,   0]], dtype=uint16)"
            ]
          },
          "metadata": {
            "tags": []
          },
          "execution_count": 31
        }
      ]
    },
    {
      "metadata": {
        "id": "ZmGO-BDc3JDc",
        "colab_type": "code",
        "colab": {
          "base_uri": "https://localhost:8080/",
          "height": 289
        },
        "outputId": "53769fdd-4718-4b94-a539-5436fab040fa"
      },
      "cell_type": "code",
      "source": [
        "# set round 2 day 1 to 60\n",
        "study_minutes[1][0] = 60\n",
        "study_minutes"
      ],
      "execution_count": 32,
      "outputs": [
        {
          "output_type": "execute_result",
          "data": {
            "text/plain": [
              "array([[150,  60,  80,  60,  30,  90,   0,   0,   0,   0,   0,   0,   0,\n",
              "          0,   0,   0,   0,   0,   0,   0,   0,   0,   0,   0,   0,   0,\n",
              "          0,   0,   0,   0,   0,   0,   0,   0,   0,   0,   0,   0,   0,\n",
              "          0,   0,   0,   0,   0,   0,   0,   0,   0,   0,   0,   0,   0,\n",
              "          0,   0,   0,   0,   0,   0,   0,   0,   0,   0,   0,   0,   0,\n",
              "          0,   0,   0,   0,   0,   0,   0,   0,   0,   0,   0,   0,   0,\n",
              "          0,   0,   0,   0,   0,   0,   0,   0,   0,   0,   0,   0,   0,\n",
              "          0,   0,   0,   0,   0,   0,   0,   0,   0],\n",
              "       [ 60,   0,   0,   0,   0,   0,   0,   0,   0,   0,   0,   0,   0,\n",
              "          0,   0,   0,   0,   0,   0,   0,   0,   0,   0,   0,   0,   0,\n",
              "          0,   0,   0,   0,   0,   0,   0,   0,   0,   0,   0,   0,   0,\n",
              "          0,   0,   0,   0,   0,   0,   0,   0,   0,   0,   0,   0,   0,\n",
              "          0,   0,   0,   0,   0,   0,   0,   0,   0,   0,   0,   0,   0,\n",
              "          0,   0,   0,   0,   0,   0,   0,   0,   0,   0,   0,   0,   0,\n",
              "          0,   0,   0,   0,   0,   0,   0,   0,   0,   0,   0,   0,   0,\n",
              "          0,   0,   0,   0,   0,   0,   0,   0,   0]], dtype=uint16)"
            ]
          },
          "metadata": {
            "tags": []
          },
          "execution_count": 32
        }
      ]
    },
    {
      "metadata": {
        "id": "A7a3o97b35Ct",
        "colab_type": "code",
        "colab": {
          "base_uri": "https://localhost:8080/",
          "height": 34
        },
        "outputId": "4a7863cc-1a34-440e-c313-5206a3c144b7"
      },
      "cell_type": "code",
      "source": [
        "study_minutes[1,0]"
      ],
      "execution_count": 33,
      "outputs": [
        {
          "output_type": "execute_result",
          "data": {
            "text/plain": [
              "60"
            ]
          },
          "metadata": {
            "tags": []
          },
          "execution_count": 33
        }
      ]
    },
    {
      "metadata": {
        "id": "uuSC6zOZ35Ux",
        "colab_type": "code",
        "colab": {
          "base_uri": "https://localhost:8080/",
          "height": 153
        },
        "outputId": "1082bf11-6b2e-402b-9a20-964cd9d6671a"
      },
      "cell_type": "code",
      "source": [
        "# use random number generator to generate fake log\n",
        "\n",
        "rand = np.random.RandomState(42)\n",
        "fake_log = rand.randint(30,180,size=100, dtype=np.uint16)\n",
        "fake_log"
      ],
      "execution_count": 34,
      "outputs": [
        {
          "output_type": "execute_result",
          "data": {
            "text/plain": [
              "array([132, 122, 128,  44, 136, 129, 101,  95,  50, 132, 151,  64, 104,\n",
              "       175, 117, 146, 139, 129, 133, 176,  98, 160, 179,  99,  82, 142,\n",
              "        31, 106, 117,  56,  98,  67, 121, 159,  81, 170,  31,  50,  49,\n",
              "        87, 179,  51, 116, 177, 118,  78, 171, 117,  88, 123, 102,  44,\n",
              "        79,  31, 108,  80,  59, 137,  84,  93, 155, 160,  67,  80, 166,\n",
              "       164,  70,  50, 102, 113,  47, 131, 161, 118,  82,  89,  81,  43,\n",
              "        81,  38, 119,  52,  82,  31, 159,  57, 113,  71, 121, 140,  91,\n",
              "        70,  37, 106,  64, 127, 110,  58,  93,  79], dtype=uint16)"
            ]
          },
          "metadata": {
            "tags": []
          },
          "execution_count": 34
        }
      ]
    },
    {
      "metadata": {
        "id": "Zcll9ias43S8",
        "colab_type": "code",
        "colab": {
          "base_uri": "https://localhost:8080/",
          "height": 34
        },
        "outputId": "81b8efd4-bbc8-4f74-dbb7-75706200c01d"
      },
      "cell_type": "code",
      "source": [
        "# close to an hour of study time\n",
        "\n",
        "[fake_log[3], fake_log[8]]"
      ],
      "execution_count": 35,
      "outputs": [
        {
          "output_type": "execute_result",
          "data": {
            "text/plain": [
              "[44, 50]"
            ]
          },
          "metadata": {
            "tags": []
          },
          "execution_count": 35
        }
      ]
    },
    {
      "metadata": {
        "id": "aYBBaVAw44Ep",
        "colab_type": "code",
        "colab": {
          "base_uri": "https://localhost:8080/",
          "height": 34
        },
        "outputId": "e07a34a6-abe1-461e-a8c5-20596c0d3f62"
      },
      "cell_type": "code",
      "source": [
        "# easier way to do above (using list of lists)\n",
        "\n",
        "fake_log[[3,8]]"
      ],
      "execution_count": 36,
      "outputs": [
        {
          "output_type": "execute_result",
          "data": {
            "text/plain": [
              "array([44, 50], dtype=uint16)"
            ]
          },
          "metadata": {
            "tags": []
          },
          "execution_count": 36
        }
      ]
    },
    {
      "metadata": {
        "id": "8A6z8xPa5R2s",
        "colab_type": "code",
        "colab": {
          "base_uri": "https://localhost:8080/",
          "height": 51
        },
        "outputId": "76da5de2-5ebe-41cd-8e46-76c668ec191a"
      },
      "cell_type": "code",
      "source": [
        "index = np.array([\n",
        "    [3,8],\n",
        "    [0,1]\n",
        "])\n",
        "\n",
        "fake_log[index]"
      ],
      "execution_count": 37,
      "outputs": [
        {
          "output_type": "execute_result",
          "data": {
            "text/plain": [
              "array([[ 44,  50],\n",
              "       [132, 122]], dtype=uint16)"
            ]
          },
          "metadata": {
            "tags": []
          },
          "execution_count": 37
        }
      ]
    },
    {
      "metadata": {
        "id": "DJ-SQ4As5SIm",
        "colab_type": "code",
        "colab": {
          "base_uri": "https://localhost:8080/",
          "height": 425
        },
        "outputId": "e590f139-071f-4a07-86bc-4426fb859e9d"
      },
      "cell_type": "code",
      "source": [
        "# append fake_log to study_minutes log\n",
        "\n",
        "study_minutes = np.append(study_minutes, [fake_log], axis=0)\n",
        "study_minutes"
      ],
      "execution_count": 38,
      "outputs": [
        {
          "output_type": "execute_result",
          "data": {
            "text/plain": [
              "array([[150,  60,  80,  60,  30,  90,   0,   0,   0,   0,   0,   0,   0,\n",
              "          0,   0,   0,   0,   0,   0,   0,   0,   0,   0,   0,   0,   0,\n",
              "          0,   0,   0,   0,   0,   0,   0,   0,   0,   0,   0,   0,   0,\n",
              "          0,   0,   0,   0,   0,   0,   0,   0,   0,   0,   0,   0,   0,\n",
              "          0,   0,   0,   0,   0,   0,   0,   0,   0,   0,   0,   0,   0,\n",
              "          0,   0,   0,   0,   0,   0,   0,   0,   0,   0,   0,   0,   0,\n",
              "          0,   0,   0,   0,   0,   0,   0,   0,   0,   0,   0,   0,   0,\n",
              "          0,   0,   0,   0,   0,   0,   0,   0,   0],\n",
              "       [ 60,   0,   0,   0,   0,   0,   0,   0,   0,   0,   0,   0,   0,\n",
              "          0,   0,   0,   0,   0,   0,   0,   0,   0,   0,   0,   0,   0,\n",
              "          0,   0,   0,   0,   0,   0,   0,   0,   0,   0,   0,   0,   0,\n",
              "          0,   0,   0,   0,   0,   0,   0,   0,   0,   0,   0,   0,   0,\n",
              "          0,   0,   0,   0,   0,   0,   0,   0,   0,   0,   0,   0,   0,\n",
              "          0,   0,   0,   0,   0,   0,   0,   0,   0,   0,   0,   0,   0,\n",
              "          0,   0,   0,   0,   0,   0,   0,   0,   0,   0,   0,   0,   0,\n",
              "          0,   0,   0,   0,   0,   0,   0,   0,   0],\n",
              "       [132, 122, 128,  44, 136, 129, 101,  95,  50, 132, 151,  64, 104,\n",
              "        175, 117, 146, 139, 129, 133, 176,  98, 160, 179,  99,  82, 142,\n",
              "         31, 106, 117,  56,  98,  67, 121, 159,  81, 170,  31,  50,  49,\n",
              "         87, 179,  51, 116, 177, 118,  78, 171, 117,  88, 123, 102,  44,\n",
              "         79,  31, 108,  80,  59, 137,  84,  93, 155, 160,  67,  80, 166,\n",
              "        164,  70,  50, 102, 113,  47, 131, 161, 118,  82,  89,  81,  43,\n",
              "         81,  38, 119,  52,  82,  31, 159,  57, 113,  71, 121, 140,  91,\n",
              "         70,  37, 106,  64, 127, 110,  58,  93,  79]], dtype=uint16)"
            ]
          },
          "metadata": {
            "tags": []
          },
          "execution_count": 38
        }
      ]
    },
    {
      "metadata": {
        "id": "tWhYJDea5Rs2",
        "colab_type": "code",
        "colab": {}
      },
      "cell_type": "code",
      "source": [
        "# round two, day two\n",
        "\n",
        "#study_minutes[1][1] = 360\n",
        "\n",
        "study_minutes[1,1] = 360"
      ],
      "execution_count": 0,
      "outputs": []
    },
    {
      "metadata": {
        "id": "4izNqGFK87ov",
        "colab_type": "code",
        "colab": {
          "base_uri": "https://localhost:8080/",
          "height": 425
        },
        "outputId": "eb5662e2-f3a8-4730-bc18-5480c366912b"
      },
      "cell_type": "code",
      "source": [
        "study_minutes"
      ],
      "execution_count": 40,
      "outputs": [
        {
          "output_type": "execute_result",
          "data": {
            "text/plain": [
              "array([[150,  60,  80,  60,  30,  90,   0,   0,   0,   0,   0,   0,   0,\n",
              "          0,   0,   0,   0,   0,   0,   0,   0,   0,   0,   0,   0,   0,\n",
              "          0,   0,   0,   0,   0,   0,   0,   0,   0,   0,   0,   0,   0,\n",
              "          0,   0,   0,   0,   0,   0,   0,   0,   0,   0,   0,   0,   0,\n",
              "          0,   0,   0,   0,   0,   0,   0,   0,   0,   0,   0,   0,   0,\n",
              "          0,   0,   0,   0,   0,   0,   0,   0,   0,   0,   0,   0,   0,\n",
              "          0,   0,   0,   0,   0,   0,   0,   0,   0,   0,   0,   0,   0,\n",
              "          0,   0,   0,   0,   0,   0,   0,   0,   0],\n",
              "       [ 60, 360,   0,   0,   0,   0,   0,   0,   0,   0,   0,   0,   0,\n",
              "          0,   0,   0,   0,   0,   0,   0,   0,   0,   0,   0,   0,   0,\n",
              "          0,   0,   0,   0,   0,   0,   0,   0,   0,   0,   0,   0,   0,\n",
              "          0,   0,   0,   0,   0,   0,   0,   0,   0,   0,   0,   0,   0,\n",
              "          0,   0,   0,   0,   0,   0,   0,   0,   0,   0,   0,   0,   0,\n",
              "          0,   0,   0,   0,   0,   0,   0,   0,   0,   0,   0,   0,   0,\n",
              "          0,   0,   0,   0,   0,   0,   0,   0,   0,   0,   0,   0,   0,\n",
              "          0,   0,   0,   0,   0,   0,   0,   0,   0],\n",
              "       [132, 122, 128,  44, 136, 129, 101,  95,  50, 132, 151,  64, 104,\n",
              "        175, 117, 146, 139, 129, 133, 176,  98, 160, 179,  99,  82, 142,\n",
              "         31, 106, 117,  56,  98,  67, 121, 159,  81, 170,  31,  50,  49,\n",
              "         87, 179,  51, 116, 177, 118,  78, 171, 117,  88, 123, 102,  44,\n",
              "         79,  31, 108,  80,  59, 137,  84,  93, 155, 160,  67,  80, 166,\n",
              "        164,  70,  50, 102, 113,  47, 131, 161, 118,  82,  89,  81,  43,\n",
              "         81,  38, 119,  52,  82,  31, 159,  57, 113,  71, 121, 140,  91,\n",
              "         70,  37, 106,  64, 127, 110,  58,  93,  79]], dtype=uint16)"
            ]
          },
          "metadata": {
            "tags": []
          },
          "execution_count": 40
        }
      ]
    },
    {
      "metadata": {
        "id": "kRRuAjLOXA-u",
        "colab_type": "text"
      },
      "cell_type": "markdown",
      "source": [
        "### Notes\n",
        "\n",
        "**Creation**\n",
        "* you can create a random but bound grouping for values using the `np.random` package\n",
        "* `RandomState` lets you seed your randomness is a way that is repeatable\n",
        "* you can append a row in a coule of ways\n",
        "  * you can use the 'np.append' method. Make sure the new row is the same shape\n",
        "  * you can create / reassign a new array bt including the existing array as part of the iterable in creation\n",
        "\n",
        "**Indexing**\n",
        "* you can use an indexing shortcut by separating dimensions with a comma\n",
        "* you can index using a `list` or `np.array`. Values will be pulled out at that specific index. This is knpown as fancy indexing\n",
        "* resulting array shape matches the index array layout. Be careful to distinguish between the tuple shortcut and fancy indexing"
      ]
    },
    {
      "metadata": {
        "id": "jmcpQfTXyOXu",
        "colab_type": "text"
      },
      "cell_type": "markdown",
      "source": [
        "### Boolean Array Indexing\n",
        "You can create an array of booleans and then use that to index them into your array. Let's use this to filter our values.\n",
        "\n",
        "Learn more:\n",
        "*  [Boolean or \"mask\" array indexing](https://docs.scipy.org/doc/numpy-1.14.0/user/basics.indexing.html#boolean-or-mask-index-arrays)\n",
        "*  [Python Data Science Handbook - Boolean Operators](https://jakevdp.github.io/PythonDataScienceHandbook/02.06-boolean-arrays-and-masks.html#Boolean-operators)"
      ]
    },
    {
      "metadata": {
        "id": "3KwYhb05yR7O",
        "colab_type": "code",
        "colab": {
          "base_uri": "https://localhost:8080/",
          "height": 51
        },
        "outputId": "1042a2db-b303-4c5c-a2fd-2057ae54103e"
      },
      "cell_type": "code",
      "source": [
        "# boolean indexing to filter\n",
        "fake_log[fake_log < 60]"
      ],
      "execution_count": 42,
      "outputs": [
        {
          "output_type": "execute_result",
          "data": {
            "text/plain": [
              "array([44, 50, 31, 56, 31, 50, 49, 51, 44, 31, 59, 50, 47, 43, 38, 52, 31,\n",
              "       57, 37, 58], dtype=uint16)"
            ]
          },
          "metadata": {
            "tags": []
          },
          "execution_count": 42
        }
      ]
    },
    {
      "metadata": {
        "id": "GCvCXKuJYyYU",
        "colab_type": "code",
        "colab": {
          "base_uri": "https://localhost:8080/",
          "height": 51
        },
        "outputId": "4fe69e25-0d0f-4a6f-f7bc-5fdd06fb6841"
      },
      "cell_type": "code",
      "source": [
        "# same (less efficient) as version of cell above\n",
        "results = []\n",
        "for value in fake_log:\n",
        "  if value < 60:\n",
        "    results.append(value)\n",
        "np.array(results)"
      ],
      "execution_count": 43,
      "outputs": [
        {
          "output_type": "execute_result",
          "data": {
            "text/plain": [
              "array([44, 50, 31, 56, 31, 50, 49, 51, 44, 31, 59, 50, 47, 43, 38, 52, 31,\n",
              "       57, 37, 58], dtype=uint16)"
            ]
          },
          "metadata": {
            "tags": []
          },
          "execution_count": 43
        }
      ]
    },
    {
      "metadata": {
        "id": "9_wxy-0GZMth",
        "colab_type": "code",
        "colab": {
          "base_uri": "https://localhost:8080/",
          "height": 238
        },
        "outputId": "dcc909e0-4c1d-4f0d-dbfd-18ae98c24b2d"
      },
      "cell_type": "code",
      "source": [
        "study_minutes[study_minutes < 60]"
      ],
      "execution_count": 44,
      "outputs": [
        {
          "output_type": "execute_result",
          "data": {
            "text/plain": [
              "array([30,  0,  0,  0,  0,  0,  0,  0,  0,  0,  0,  0,  0,  0,  0,  0,  0,\n",
              "        0,  0,  0,  0,  0,  0,  0,  0,  0,  0,  0,  0,  0,  0,  0,  0,  0,\n",
              "        0,  0,  0,  0,  0,  0,  0,  0,  0,  0,  0,  0,  0,  0,  0,  0,  0,\n",
              "        0,  0,  0,  0,  0,  0,  0,  0,  0,  0,  0,  0,  0,  0,  0,  0,  0,\n",
              "        0,  0,  0,  0,  0,  0,  0,  0,  0,  0,  0,  0,  0,  0,  0,  0,  0,\n",
              "        0,  0,  0,  0,  0,  0,  0,  0,  0,  0,  0,  0,  0,  0,  0,  0,  0,\n",
              "        0,  0,  0,  0,  0,  0,  0,  0,  0,  0,  0,  0,  0,  0,  0,  0,  0,\n",
              "        0,  0,  0,  0,  0,  0,  0,  0,  0,  0,  0,  0,  0,  0,  0,  0,  0,\n",
              "        0,  0,  0,  0,  0,  0,  0,  0,  0,  0,  0,  0,  0,  0,  0,  0,  0,\n",
              "        0,  0,  0,  0,  0,  0,  0,  0,  0,  0,  0,  0,  0,  0,  0,  0,  0,\n",
              "        0,  0,  0,  0,  0,  0,  0,  0,  0,  0,  0,  0,  0,  0,  0,  0,  0,\n",
              "        0,  0,  0,  0,  0,  0, 44, 50, 31, 56, 31, 50, 49, 51, 44, 31, 59,\n",
              "       50, 47, 43, 38, 52, 31, 57, 37, 58], dtype=uint16)"
            ]
          },
          "metadata": {
            "tags": []
          },
          "execution_count": 44
        }
      ]
    },
    {
      "metadata": {
        "id": "HGqnZnU7av5b",
        "colab_type": "code",
        "colab": {
          "base_uri": "https://localhost:8080/",
          "height": 34
        },
        "outputId": "80022ff1-9238-435b-c992-ee7ffd360bd8"
      },
      "cell_type": "code",
      "source": [
        "np.array([False, True, True]) & np.array([True, False, True])"
      ],
      "execution_count": 45,
      "outputs": [
        {
          "output_type": "execute_result",
          "data": {
            "text/plain": [
              "array([False, False,  True])"
            ]
          },
          "metadata": {
            "tags": []
          },
          "execution_count": 45
        }
      ]
    },
    {
      "metadata": {
        "id": "cjR0EI3Uav0Y",
        "colab_type": "code",
        "colab": {
          "base_uri": "https://localhost:8080/",
          "height": 51
        },
        "outputId": "87767aaf-8f9e-489b-c876-e58093463706"
      },
      "cell_type": "code",
      "source": [
        "study_minutes[(study_minutes < 60) & (study_minutes > 0)]"
      ],
      "execution_count": 47,
      "outputs": [
        {
          "output_type": "execute_result",
          "data": {
            "text/plain": [
              "array([30, 44, 50, 31, 56, 31, 50, 49, 51, 44, 31, 59, 50, 47, 43, 38, 52,\n",
              "       31, 57, 37, 58], dtype=uint16)"
            ]
          },
          "metadata": {
            "tags": []
          },
          "execution_count": 47
        }
      ]
    },
    {
      "metadata": {
        "id": "s_ByanbFavv-",
        "colab_type": "code",
        "colab": {
          "base_uri": "https://localhost:8080/",
          "height": 425
        },
        "outputId": "28f070ed-26a2-487e-b3f4-284fd5540eae"
      },
      "cell_type": "code",
      "source": [
        "study_minutes[(study_minutes < 60) & (study_minutes > 0)] = 0\n",
        "\n",
        "study_minutes"
      ],
      "execution_count": 48,
      "outputs": [
        {
          "output_type": "execute_result",
          "data": {
            "text/plain": [
              "array([[150,  60,  80,  60,   0,  90,   0,   0,   0,   0,   0,   0,   0,\n",
              "          0,   0,   0,   0,   0,   0,   0,   0,   0,   0,   0,   0,   0,\n",
              "          0,   0,   0,   0,   0,   0,   0,   0,   0,   0,   0,   0,   0,\n",
              "          0,   0,   0,   0,   0,   0,   0,   0,   0,   0,   0,   0,   0,\n",
              "          0,   0,   0,   0,   0,   0,   0,   0,   0,   0,   0,   0,   0,\n",
              "          0,   0,   0,   0,   0,   0,   0,   0,   0,   0,   0,   0,   0,\n",
              "          0,   0,   0,   0,   0,   0,   0,   0,   0,   0,   0,   0,   0,\n",
              "          0,   0,   0,   0,   0,   0,   0,   0,   0],\n",
              "       [ 60, 360,   0,   0,   0,   0,   0,   0,   0,   0,   0,   0,   0,\n",
              "          0,   0,   0,   0,   0,   0,   0,   0,   0,   0,   0,   0,   0,\n",
              "          0,   0,   0,   0,   0,   0,   0,   0,   0,   0,   0,   0,   0,\n",
              "          0,   0,   0,   0,   0,   0,   0,   0,   0,   0,   0,   0,   0,\n",
              "          0,   0,   0,   0,   0,   0,   0,   0,   0,   0,   0,   0,   0,\n",
              "          0,   0,   0,   0,   0,   0,   0,   0,   0,   0,   0,   0,   0,\n",
              "          0,   0,   0,   0,   0,   0,   0,   0,   0,   0,   0,   0,   0,\n",
              "          0,   0,   0,   0,   0,   0,   0,   0,   0],\n",
              "       [132, 122, 128,   0, 136, 129, 101,  95,   0, 132, 151,  64, 104,\n",
              "        175, 117, 146, 139, 129, 133, 176,  98, 160, 179,  99,  82, 142,\n",
              "          0, 106, 117,   0,  98,  67, 121, 159,  81, 170,   0,   0,   0,\n",
              "         87, 179,   0, 116, 177, 118,  78, 171, 117,  88, 123, 102,   0,\n",
              "         79,   0, 108,  80,   0, 137,  84,  93, 155, 160,  67,  80, 166,\n",
              "        164,  70,   0, 102, 113,   0, 131, 161, 118,  82,  89,  81,   0,\n",
              "         81,   0, 119,   0,  82,   0, 159,   0, 113,  71, 121, 140,  91,\n",
              "         70,   0, 106,  64, 127, 110,   0,  93,  79]], dtype=uint16)"
            ]
          },
          "metadata": {
            "tags": []
          },
          "execution_count": 48
        }
      ]
    },
    {
      "metadata": {
        "id": "qo8uOYAqcNx5",
        "colab_type": "text"
      },
      "cell_type": "markdown",
      "source": [
        "#### Boolean Array Indexing Notes\n",
        "* You can create a boolean array by using comparison operators on an array.\n",
        "  * You can use boolean arrays for fancy indexing\n",
        "  * Boolean arrays can be compared by using bitwise operators (`&`, `|`)\n",
        "      * Do not use the `and` keyword\n",
        "      * Remember to mind the order of operations when combining\n",
        "* Even though boolean indexing returns a new array, you can update an existing array using a boolean index"
      ]
    },
    {
      "metadata": {
        "id": "0s67HLBgyTuD",
        "colab_type": "text"
      },
      "cell_type": "markdown",
      "source": [
        "### Slicing\n",
        "\n",
        "Slicing an ndarray is similar to slicing a list. In NumPy, however, slicing creates a view instead of a copy."
      ]
    },
    {
      "metadata": {
        "id": "EueBYBxjyVdz",
        "colab_type": "code",
        "colab": {}
      },
      "cell_type": "code",
      "source": [
        "fruit = ['apple', 'banana', 'cherry', 'durian']"
      ],
      "execution_count": 0,
      "outputs": []
    },
    {
      "metadata": {
        "id": "mNctFAWBO7wZ",
        "colab_type": "code",
        "colab": {
          "base_uri": "https://localhost:8080/",
          "height": 34
        },
        "outputId": "5f6b7411-8cba-4d3d-f2cc-ab01b238c4e3"
      },
      "cell_type": "code",
      "source": [
        "fruit[1:3]"
      ],
      "execution_count": 50,
      "outputs": [
        {
          "output_type": "execute_result",
          "data": {
            "text/plain": [
              "['banana', 'cherry']"
            ]
          },
          "metadata": {
            "tags": []
          },
          "execution_count": 50
        }
      ]
    },
    {
      "metadata": {
        "id": "RTluOm1LO7sV",
        "colab_type": "code",
        "colab": {
          "base_uri": "https://localhost:8080/",
          "height": 34
        },
        "outputId": "296d6770-8114-4d75-8011-73f41edc0d48"
      },
      "cell_type": "code",
      "source": [
        "fruit[:3]"
      ],
      "execution_count": 51,
      "outputs": [
        {
          "output_type": "execute_result",
          "data": {
            "text/plain": [
              "['apple', 'banana', 'cherry']"
            ]
          },
          "metadata": {
            "tags": []
          },
          "execution_count": 51
        }
      ]
    },
    {
      "metadata": {
        "id": "HN9jkhw3O7m8",
        "colab_type": "code",
        "colab": {
          "base_uri": "https://localhost:8080/",
          "height": 34
        },
        "outputId": "dc08106a-c4d9-4b19-948b-a1f383595740"
      },
      "cell_type": "code",
      "source": [
        "fruit[3:]"
      ],
      "execution_count": 52,
      "outputs": [
        {
          "output_type": "execute_result",
          "data": {
            "text/plain": [
              "['durian']"
            ]
          },
          "metadata": {
            "tags": []
          },
          "execution_count": 52
        }
      ]
    },
    {
      "metadata": {
        "id": "jqaJaiZLO7h2",
        "colab_type": "code",
        "colab": {
          "base_uri": "https://localhost:8080/",
          "height": 51
        },
        "outputId": "6de6c47b-73ea-441a-8d6d-0e05d2be7e5f"
      },
      "cell_type": "code",
      "source": [
        "copied = fruit[:]\n",
        "copied[3] = \"cheese\"\n",
        "# slicing a list returns a copy\n",
        "fruit, copied"
      ],
      "execution_count": 53,
      "outputs": [
        {
          "output_type": "execute_result",
          "data": {
            "text/plain": [
              "(['apple', 'banana', 'cherry', 'durian'],\n",
              " ['apple', 'banana', 'cherry', 'cheese'])"
            ]
          },
          "metadata": {
            "tags": []
          },
          "execution_count": 53
        }
      ]
    },
    {
      "metadata": {
        "id": "eG6hpiKXPqHs",
        "colab_type": "code",
        "colab": {
          "base_uri": "https://localhost:8080/",
          "height": 34
        },
        "outputId": "2ce94403-e5ef-4668-d5c3-0dc109da0979"
      },
      "cell_type": "code",
      "source": [
        "# step\n",
        "\n",
        "fruit[::2]"
      ],
      "execution_count": 54,
      "outputs": [
        {
          "output_type": "execute_result",
          "data": {
            "text/plain": [
              "['apple', 'cherry']"
            ]
          },
          "metadata": {
            "tags": []
          },
          "execution_count": 54
        }
      ]
    },
    {
      "metadata": {
        "id": "9wdRNK8dPp97",
        "colab_type": "code",
        "colab": {
          "base_uri": "https://localhost:8080/",
          "height": 34
        },
        "outputId": "6e075648-87c1-463e-a5c8-da3181f6e46d"
      },
      "cell_type": "code",
      "source": [
        "fruit[::-1]"
      ],
      "execution_count": 55,
      "outputs": [
        {
          "output_type": "execute_result",
          "data": {
            "text/plain": [
              "['durian', 'cherry', 'banana', 'apple']"
            ]
          },
          "metadata": {
            "tags": []
          },
          "execution_count": 55
        }
      ]
    },
    {
      "metadata": {
        "id": "CjPzrbMePp0D",
        "colab_type": "code",
        "colab": {
          "base_uri": "https://localhost:8080/",
          "height": 51
        },
        "outputId": "a8981c4e-ba3d-4755-d196-73ccb05fa903"
      },
      "cell_type": "code",
      "source": [
        "np.arange(20)"
      ],
      "execution_count": 56,
      "outputs": [
        {
          "output_type": "execute_result",
          "data": {
            "text/plain": [
              "array([ 0,  1,  2,  3,  4,  5,  6,  7,  8,  9, 10, 11, 12, 13, 14, 15, 16,\n",
              "       17, 18, 19])"
            ]
          },
          "metadata": {
            "tags": []
          },
          "execution_count": 56
        }
      ]
    },
    {
      "metadata": {
        "id": "zip7zC40Ppm0",
        "colab_type": "code",
        "colab": {
          "base_uri": "https://localhost:8080/",
          "height": 136
        },
        "outputId": "2b4d0ebb-2c10-45a1-d92e-32746682ecc1"
      },
      "cell_type": "code",
      "source": [
        "practice = np.arange(42)\n",
        "practice.shape = (7,6)\n",
        "practice"
      ],
      "execution_count": 57,
      "outputs": [
        {
          "output_type": "execute_result",
          "data": {
            "text/plain": [
              "array([[ 0,  1,  2,  3,  4,  5],\n",
              "       [ 6,  7,  8,  9, 10, 11],\n",
              "       [12, 13, 14, 15, 16, 17],\n",
              "       [18, 19, 20, 21, 22, 23],\n",
              "       [24, 25, 26, 27, 28, 29],\n",
              "       [30, 31, 32, 33, 34, 35],\n",
              "       [36, 37, 38, 39, 40, 41]])"
            ]
          },
          "metadata": {
            "tags": []
          },
          "execution_count": 57
        }
      ]
    },
    {
      "metadata": {
        "id": "DpG7cDn6PpWs",
        "colab_type": "code",
        "colab": {
          "base_uri": "https://localhost:8080/",
          "height": 34
        },
        "outputId": "66ed47ae-0146-43a0-d9d7-4f8ef9d35399"
      },
      "cell_type": "code",
      "source": [
        "practice[2][1]"
      ],
      "execution_count": 59,
      "outputs": [
        {
          "output_type": "execute_result",
          "data": {
            "text/plain": [
              "13"
            ]
          },
          "metadata": {
            "tags": []
          },
          "execution_count": 59
        }
      ]
    },
    {
      "metadata": {
        "id": "V3NjlFVhRkg3",
        "colab_type": "code",
        "colab": {
          "base_uri": "https://localhost:8080/",
          "height": 68
        },
        "outputId": "5e0d905b-8a56-467d-8c68-50f53a2867e0"
      },
      "cell_type": "code",
      "source": [
        "practice[2:5,3::2]"
      ],
      "execution_count": 62,
      "outputs": [
        {
          "output_type": "execute_result",
          "data": {
            "text/plain": [
              "array([[15, 17],\n",
              "       [21, 23],\n",
              "       [27, 29]])"
            ]
          },
          "metadata": {
            "tags": []
          },
          "execution_count": 62
        }
      ]
    },
    {
      "metadata": {
        "id": "2hQkFDyvRzpn",
        "colab_type": "code",
        "colab": {
          "base_uri": "https://localhost:8080/",
          "height": 255
        },
        "outputId": "0090f949-20d1-42ca-ce04-06212f703c1c"
      },
      "cell_type": "code",
      "source": [
        "# slicing of ndarray return a copy rather than a view\n",
        "not_copied = practice[:]\n",
        "not_copied[0,0] = 90210\n",
        "practice, not_copied\n",
        "# both of them changed (changed the original array)"
      ],
      "execution_count": 63,
      "outputs": [
        {
          "output_type": "execute_result",
          "data": {
            "text/plain": [
              "(array([[90210,     1,     2,     3,     4,     5],\n",
              "        [    6,     7,     8,     9,    10,    11],\n",
              "        [   12,    13,    14,    15,    16,    17],\n",
              "        [   18,    19,    20,    21,    22,    23],\n",
              "        [   24,    25,    26,    27,    28,    29],\n",
              "        [   30,    31,    32,    33,    34,    35],\n",
              "        [   36,    37,    38,    39,    40,    41]]),\n",
              " array([[90210,     1,     2,     3,     4,     5],\n",
              "        [    6,     7,     8,     9,    10,    11],\n",
              "        [   12,    13,    14,    15,    16,    17],\n",
              "        [   18,    19,    20,    21,    22,    23],\n",
              "        [   24,    25,    26,    27,    28,    29],\n",
              "        [   30,    31,    32,    33,    34,    35],\n",
              "        [   36,    37,    38,    39,    40,    41]]))"
            ]
          },
          "metadata": {
            "tags": []
          },
          "execution_count": 63
        }
      ]
    },
    {
      "metadata": {
        "id": "xFNkSA0qSdXe",
        "colab_type": "code",
        "colab": {
          "base_uri": "https://localhost:8080/",
          "height": 34
        },
        "outputId": "a7504827-a620-471b-fb83-626f7b0eb503"
      },
      "cell_type": "code",
      "source": [
        "practice.base is None"
      ],
      "execution_count": 64,
      "outputs": [
        {
          "output_type": "execute_result",
          "data": {
            "text/plain": [
              "True"
            ]
          },
          "metadata": {
            "tags": []
          },
          "execution_count": 64
        }
      ]
    },
    {
      "metadata": {
        "id": "uvTrQx9NSdwr",
        "colab_type": "code",
        "colab": {
          "base_uri": "https://localhost:8080/",
          "height": 34
        },
        "outputId": "b32be68e-8a9c-43a8-e623-e42357cbafe3"
      },
      "cell_type": "code",
      "source": [
        "practice.base is None"
      ],
      "execution_count": 65,
      "outputs": [
        {
          "output_type": "execute_result",
          "data": {
            "text/plain": [
              "True"
            ]
          },
          "metadata": {
            "tags": []
          },
          "execution_count": 65
        }
      ]
    },
    {
      "metadata": {
        "id": "4eZyiyLbSeV3",
        "colab_type": "code",
        "colab": {
          "base_uri": "https://localhost:8080/",
          "height": 34
        },
        "outputId": "ffe4a604-5404-44e5-9f5c-ffd2be20b234"
      },
      "cell_type": "code",
      "source": [
        "not_copied.base is practice"
      ],
      "execution_count": 66,
      "outputs": [
        {
          "output_type": "execute_result",
          "data": {
            "text/plain": [
              "True"
            ]
          },
          "metadata": {
            "tags": []
          },
          "execution_count": 66
        }
      ]
    },
    {
      "metadata": {
        "id": "KaXFLvNKVZsi",
        "colab_type": "code",
        "colab": {
          "base_uri": "https://localhost:8080/",
          "height": 34
        },
        "outputId": "d5bc9bd6-1d25-4703-d824-7ef37d2ef341"
      },
      "cell_type": "code",
      "source": [
        "practice.flags[\"OWNDATA\"], not_copied.flags[\"OWNDATA\"]"
      ],
      "execution_count": 68,
      "outputs": [
        {
          "output_type": "execute_result",
          "data": {
            "text/plain": [
              "(True, False)"
            ]
          },
          "metadata": {
            "tags": []
          },
          "execution_count": 68
        }
      ]
    },
    {
      "metadata": {
        "id": "7c7YtJl-WPiD",
        "colab_type": "text"
      },
      "cell_type": "markdown",
      "source": [
        "Slicing\n",
        "* works a lot like normal list slicing\n",
        "* you can use commas to separate each dimension slice\n",
        "* always returns a data view\n",
        "* you can access the base object using the 'ndarray.base' property"
      ]
    },
    {
      "metadata": {
        "id": "fXFXVyVxyWDx",
        "colab_type": "text"
      },
      "cell_type": "markdown",
      "source": [
        "### Manipulation\n",
        "Let's look at some common array manipulation functions"
      ]
    },
    {
      "metadata": {
        "id": "vT62IN-oQv4X",
        "colab_type": "code",
        "colab": {
          "base_uri": "https://localhost:8080/",
          "height": 255
        },
        "outputId": "c790de7d-6d81-4274-cc2c-17c6e01faa8e"
      },
      "cell_type": "code",
      "source": [
        "# create a view using reshape\n",
        "\n",
        "practice_view = practice.reshape(3,14)\n",
        "practice, practice_view, practice_view.base is practice"
      ],
      "execution_count": 69,
      "outputs": [
        {
          "output_type": "execute_result",
          "data": {
            "text/plain": [
              "(array([[90210,     1,     2,     3,     4,     5],\n",
              "        [    6,     7,     8,     9,    10,    11],\n",
              "        [   12,    13,    14,    15,    16,    17],\n",
              "        [   18,    19,    20,    21,    22,    23],\n",
              "        [   24,    25,    26,    27,    28,    29],\n",
              "        [   30,    31,    32,    33,    34,    35],\n",
              "        [   36,    37,    38,    39,    40,    41]]),\n",
              " array([[90210,     1,     2,     3,     4,     5,     6,     7,     8,\n",
              "             9,    10,    11,    12,    13],\n",
              "        [   14,    15,    16,    17,    18,    19,    20,    21,    22,\n",
              "            23,    24,    25,    26,    27],\n",
              "        [   28,    29,    30,    31,    32,    33,    34,    35,    36,\n",
              "            37,    38,    39,    40,    41]]),\n",
              " True)"
            ]
          },
          "metadata": {
            "tags": []
          },
          "execution_count": 69
        }
      ]
    },
    {
      "metadata": {
        "id": "KDKA0nQcyX2b",
        "colab_type": "code",
        "colab": {
          "base_uri": "https://localhost:8080/",
          "height": 34
        },
        "outputId": "b79faa94-6e6f-42df-986a-ef92bc7209ce"
      },
      "cell_type": "code",
      "source": [
        "practice.reshape(-1,2).shape"
      ],
      "execution_count": 71,
      "outputs": [
        {
          "output_type": "execute_result",
          "data": {
            "text/plain": [
              "(21, 2)"
            ]
          },
          "metadata": {
            "tags": []
          },
          "execution_count": 71
        }
      ]
    },
    {
      "metadata": {
        "id": "WdQT9Kr7t-Wn",
        "colab_type": "code",
        "colab": {
          "base_uri": "https://localhost:8080/",
          "height": 102
        },
        "outputId": "2aa815a7-3d43-4b2b-f34f-811664e1a8de"
      },
      "cell_type": "code",
      "source": [
        "# make it a one-dimensional array\n",
        "practice.ravel()"
      ],
      "execution_count": 72,
      "outputs": [
        {
          "output_type": "execute_result",
          "data": {
            "text/plain": [
              "array([90210,     1,     2,     3,     4,     5,     6,     7,     8,\n",
              "           9,    10,    11,    12,    13,    14,    15,    16,    17,\n",
              "          18,    19,    20,    21,    22,    23,    24,    25,    26,\n",
              "          27,    28,    29,    30,    31,    32,    33,    34,    35,\n",
              "          36,    37,    38,    39,    40,    41])"
            ]
          },
          "metadata": {
            "tags": []
          },
          "execution_count": 72
        }
      ]
    },
    {
      "metadata": {
        "id": "pn9WvdsPuKG9",
        "colab_type": "code",
        "colab": {
          "base_uri": "https://localhost:8080/",
          "height": 3927
        },
        "outputId": "06adb64c-9a84-4739-aae7-af2bef307fc2"
      },
      "cell_type": "code",
      "source": [
        "# flatten(): returns a COPY of the array collapsed into one dimension\n",
        "np.lookfor(\"flatt\")\n"
      ],
      "execution_count": 73,
      "outputs": [
        {
          "output_type": "stream",
          "text": [
            "Search results for 'flatt'\n",
            "--------------------------\n",
            "numpy.put\n",
            "    Replaces specified elements of an array with given values.\n",
            "numpy.ravel\n",
            "    Return a contiguous flattened array.\n",
            "numpy.diagflat\n",
            "    Create a two-dimensional array with the flattened input as a diagonal.\n",
            "numpy.flatnonzero\n",
            "    Return indices that are non-zero in the flattened version of a.\n",
            "numpy.matrix.flatten\n",
            "    Return a flattened copy of the matrix.\n",
            "numpy.ma.flatten_mask\n",
            "    Returns a completely flattened version of the mask, where nested fields\n",
            "numpy.chararray.flatten\n",
            "    Return a copy of the array collapsed into one dimension.\n",
            "numpy.ma.diagflat\n",
            "    Create a two-dimensional array with the flattened input as a diagonal.\n",
            "numpy.matrix.getA1\n",
            "    Return `self` as a flattened `ndarray`.\n",
            "numpy.matrix.ravel\n",
            "    Return a flattened matrix.\n",
            "numpy.chararray.ravel\n",
            "    a.ravel([order])\n",
            "numpy.ma.mvoid.flatten\n",
            "    Return a copy of the array collapsed into one dimension.\n",
            "numpy.ma.flatten_structured_array\n",
            "    Flatten a structured array.\n",
            "numpy.ma.MaskedArray.flatten\n",
            "    Return a copy of the array collapsed into one dimension.\n",
            "numpy.ma.mvoid._set_flat\n",
            "    Set a flattened version of self to value.\n",
            "numpy.ma.MaskedArray._set_flat\n",
            "    Set a flattened version of self to value.\n",
            "numpy.ptp\n",
            "    Range of values (maximum - minimum) along an axis.\n",
            "numpy.std\n",
            "    Compute the standard deviation along the specified axis.\n",
            "numpy.var\n",
            "    Compute the variance along the specified axis.\n",
            "numpy.amax\n",
            "    Return the maximum of an array or maximum along an axis.\n",
            "numpy.amin\n",
            "    Return the minimum of an array or minimum along an axis.\n",
            "numpy.diag\n",
            "    Extract a diagonal or construct a diagonal array.\n",
            "numpy.isin\n",
            "    Calculates `element in test_elements`, broadcasting over `element` only.\n",
            "numpy.mean\n",
            "    Compute the arithmetic mean along the specified axis.\n",
            "numpy.roll\n",
            "    Roll array elements along a given axis.\n",
            "numpy.sort\n",
            "    Return a sorted copy of an array.\n",
            "numpy.take\n",
            "    Take elements from an array along an axis.\n",
            "numpy.vdot\n",
            "    Return the dot product of two vectors.\n",
            "numpy.outer\n",
            "    Compute the outer product of two vectors.\n",
            "numpy.append\n",
            "    Append values to the end of an array.\n",
            "numpy.argmax\n",
            "    Returns the indices of the maximum values along an axis.\n",
            "numpy.argmin\n",
            "    Returns the indices of the minimum values along an axis.\n",
            "numpy.cumsum\n",
            "    Return the cumulative sum of the elements along a given axis.\n",
            "numpy.delete\n",
            "    Return a new array with sub-arrays along an axis deleted. For a one\n",
            "numpy.insert\n",
            "    Insert values along the given axis before the given indices.\n",
            "numpy.median\n",
            "    Compute the median along the specified axis.\n",
            "numpy.nanmax\n",
            "    Return the maximum of an array or maximum along an axis, ignoring any\n",
            "numpy.nanmin\n",
            "    Return minimum of an array or minimum along an axis, ignoring any NaNs.\n",
            "numpy.nanstd\n",
            "    Compute the standard deviation along the specified axis, while\n",
            "numpy.nansum\n",
            "    Return the sum of array elements over a given axis treating Not a\n",
            "numpy.nanvar\n",
            "    Compute the variance along the specified axis, while ignoring NaNs.\n",
            "numpy.repeat\n",
            "    Repeat elements of an array.\n",
            "numpy.unique\n",
            "    Find the unique elements of an array.\n",
            "numpy.argsort\n",
            "    Returns the indices that would sort an array.\n",
            "numpy.cumprod\n",
            "    Return the cumulative product of elements along a given axis.\n",
            "numpy.ediff1d\n",
            "    The differences between consecutive elements of an array.\n",
            "numpy.nanmean\n",
            "    Compute the arithmetic mean along the specified axis, ignoring NaNs.\n",
            "numpy.nanprod\n",
            "    Return the product of array elements over a given axis treating Not a\n",
            "numpy.ndarray\n",
            "    ndarray(shape, dtype=float, buffer=None, offset=0,\n",
            "numpy.nonzero\n",
            "    Return the indices of the elements that are non-zero.\n",
            "numpy.union1d\n",
            "    Find the union of two arrays.\n",
            "numpy.compress\n",
            "    Return selected slices of an array along given axis.\n",
            "numpy.flatiter\n",
            "    Flat iterator object to iterate over arrays.\n",
            "numpy.packbits\n",
            "    Packs the elements of a binary-valued array into bits in a uint8 array.\n",
            "numpy.chararray\n",
            "    chararray(shape, itemsize=1, unicode=False, buffer=None, offset=0,\n",
            "numpy.histogram\n",
            "    Compute the histogram of a set of data.\n",
            "numpy.nanargmax\n",
            "    Return the indices of the maximum values in the specified axis ignoring\n",
            "numpy.nanargmin\n",
            "    Return the indices of the minimum values in the specified axis ignoring\n",
            "numpy.nancumsum\n",
            "    Return the cumulative sum of array elements over a given axis treating Not a\n",
            "numpy.nanmedian\n",
            "    Compute the median along the specified axis, while ignoring NaNs.\n",
            "numpy.partition\n",
            "    Return a partitioned copy of an array.\n",
            "numpy.nancumprod\n",
            "    Return the cumulative product of array elements over a given axis treating Not a\n",
            "numpy.percentile\n",
            "    Compute the qth percentile of the data along the specified axis.\n",
            "numpy.unpackbits\n",
            "    Unpacks elements of a uint8 array into a binary-valued output array.\n",
            "numpy.argpartition\n",
            "    Perform an indirect partition along the given axis using the\n",
            "numpy.ma.max\n",
            "    Return the maximum along a given axis.\n",
            "numpy.ma.min\n",
            "    Return the minimum along a given axis.\n",
            "numpy.ma.ptp\n",
            "    Return (maximum - minimum) along the given dimension\n",
            "numpy.ma.var\n",
            "    Compute the variance along the specified axis.\n",
            "numpy.ma.anom\n",
            "    Compute the anomalies (deviations from the arithmetic mean)\n",
            "numpy.ma.isin\n",
            "    Calculates `element in test_elements`, broadcasting over\n",
            "numpy.ma.sort\n",
            "    Sort the array, in-place\n",
            "numpy.count_nonzero\n",
            "    Counts the number of non-zero values in the array ``a``.\n",
            "numpy.nanpercentile\n",
            "    Compute the qth percentile of the data along the specified axis,\n",
            "numpy.unravel_index\n",
            "    Converts a flat index or array of flat indices into a tuple\n",
            "numpy.ma.outer\n",
            "    Compute the outer product of two vectors.\n",
            "numpy.ma.append\n",
            "    Append values to the end of an array.\n",
            "numpy.ma.argmax\n",
            "    Returns array of indices of the maximum values along the given axis.\n",
            "numpy.ma.argmin\n",
            "    Return array of indices to the minimum values along the given axis.\n",
            "numpy.ma.median\n",
            "    Compute the median along the specified axis.\n",
            "numpy.ma.argsort\n",
            "    Return an ndarray of indices that sort the array along the\n",
            "numpy.ma.average\n",
            "    Return the weighted average of array over the given axis.\n",
            "numpy.ma.nonzero\n",
            "    nonzero(self)\n",
            "numpy.ravel_multi_index\n",
            "    Converts a tuple of index arrays into an array of flat\n",
            "numpy.matrix.argmax\n",
            "    Indexes of the maximum values along an axis.\n",
            "numpy.matrix.argmin\n",
            "    Indexes of the minimum values along an axis.\n",
            "numpy.chararray.resize\n",
            "    Change shape and size of array in-place.\n",
            "numpy.ma.count_masked\n",
            "    Count the number of masked elements along the given axis.\n",
            "numpy.ma.mask_rowcols\n",
            "    Mask rows and/or columns of a 2D array that contain masked values.\n",
            "numpy.ma.notmasked_edges\n",
            "    Find the indices of the first and last unmasked values along an axis.\n",
            "numpy.ma.mvoid.max\n",
            "    Return the maximum along a given axis.\n",
            "numpy.ma.mvoid.min\n",
            "    Return the minimum along a given axis.\n",
            "numpy.ma.mvoid.ptp\n",
            "    Return (maximum - minimum) along the given dimension\n",
            "numpy.ma.mvoid.var\n",
            "    Compute the variance along the specified axis.\n",
            "numpy.ma.mvoid.anom\n",
            "    Compute the anomalies (deviations from the arithmetic mean)\n",
            "numpy.ma.mvoid.sort\n",
            "    Sort the array, in-place\n",
            "numpy.ma.mvoid.argmax\n",
            "    Returns array of indices of the maximum values along the given axis.\n",
            "numpy.ma.mvoid.argmin\n",
            "    Return array of indices to the minimum values along the given axis.\n",
            "numpy.ma.mvoid.argsort\n",
            "    Return an ndarray of indices that sort the array along the\n",
            "numpy.ma.mvoid.nonzero\n",
            "    Return the indices of unmasked elements that are not zero.\n",
            "numpy.ma.notmasked_contiguous\n",
            "    Find contiguous unmasked data in a masked array along the given axis.\n",
            "numpy.ma.MaskedArray.max\n",
            "    Return the maximum along a given axis.\n",
            "numpy.ma.MaskedArray.min\n",
            "    Return the minimum along a given axis.\n",
            "numpy.ma.MaskedArray.ptp\n",
            "    Return (maximum - minimum) along the given dimension\n",
            "numpy.ma.MaskedArray.var\n",
            "    Compute the variance along the specified axis.\n",
            "numpy.ma.MaskedArray.anom\n",
            "    Compute the anomalies (deviations from the arithmetic mean)\n",
            "numpy.ma.MaskedArray.sort\n",
            "    Sort the array, in-place\n",
            "numpy.lib._iotools.flatten_dtype\n",
            "    Unpack a structured data-type by collapsing nested fields and/or fields\n",
            "numpy.ma.MaskedArray.argmax\n",
            "    Returns array of indices of the maximum values along the given axis.\n",
            "numpy.ma.MaskedArray.argmin\n",
            "    Return array of indices to the minimum values along the given axis.\n",
            "numpy.ma.MaskedArray.argsort\n",
            "    Return an ndarray of indices that sort the array along the\n",
            "numpy.ma.MaskedArray.nonzero\n",
            "    Return the indices of unmasked elements that are not zero.\n",
            "numpy.lib.recfunctions.merge_arrays\n",
            "    Merge arrays field by field.\n",
            "numpy.ma.mrecords.MaskedRecords.var\n",
            "    Compute the variance along the specified axis."
          ],
          "name": "stdout"
        }
      ]
    },
    {
      "metadata": {
        "id": "A6QIL-JwypYw",
        "colab_type": "code",
        "colab": {}
      },
      "cell_type": "code",
      "source": [
        "?np.ravel"
      ],
      "execution_count": 0,
      "outputs": []
    },
    {
      "metadata": {
        "id": "DNN0uDjTyshL",
        "colab_type": "code",
        "colab": {}
      },
      "cell_type": "code",
      "source": [
        "# transpose (flip rows and columns)\n",
        "\n",
        "# ndarray.T"
      ],
      "execution_count": 0,
      "outputs": []
    },
    {
      "metadata": {
        "id": "mL9kryQBzVc8",
        "colab_type": "text"
      },
      "cell_type": "markdown",
      "source": [
        "## Array Programming\n",
        "\n",
        "Array Programming is a different type of paradigm than we've been using in standard Python. Let's learn how to perform vectorized operations,. and what that means too!"
      ]
    },
    {
      "metadata": {
        "id": "SMDpYLSBzxjk",
        "colab_type": "text"
      },
      "cell_type": "markdown",
      "source": [
        "### New way of thinking\n",
        "Let's take a look at a detailed example that uses the new array programming paradim. We'll have NumPy do some linear algebra for us!"
      ]
    },
    {
      "metadata": {
        "id": "k4rKy_YizWRM",
        "colab_type": "code",
        "colab": {
          "base_uri": "https://localhost:8080/",
          "height": 34
        },
        "outputId": "0a37b13f-6f0a-4a88-ff72-6f412979267e"
      },
      "cell_type": "code",
      "source": [
        "# each row represents an order\n",
        "orders = np.array([\n",
        "    [2, 0, 0, 0],\n",
        "    [4, 1, 2, 2],\n",
        "    [0, 1, 0, 1],\n",
        "    [6, 0, 1, 2]\n",
        "])\n",
        "\n",
        "# totals for each order\n",
        "totals = np.array([3, 20.50, 10, 14.25])\n",
        "\n",
        "# returns prices of each item\n",
        "prices = np.linalg.solve(orders, totals)\n",
        "prices\n"
      ],
      "execution_count": 80,
      "outputs": [
        {
          "output_type": "execute_result",
          "data": {
            "text/plain": [
              "array([1.5 , 8.  , 1.25, 2.  ])"
            ]
          },
          "metadata": {
            "tags": []
          },
          "execution_count": 80
        }
      ]
    },
    {
      "metadata": {
        "id": "OaLGqOkG0NTf",
        "colab_type": "code",
        "colab": {}
      },
      "cell_type": "code",
      "source": [
        "# inner product\n",
        "# totals\n",
        "# orders.dot(prices)\n",
        "orders @ prices\n",
        "\n",
        "# why am I getting an error message? is it b/c this functionality was introduced in Python 3.5?"
      ],
      "execution_count": 0,
      "outputs": []
    },
    {
      "metadata": {
        "id": "3rgtEKCL6SyY",
        "colab_type": "text"
      },
      "cell_type": "markdown",
      "source": [
        "**Linear Algebra notes**\n",
        "\n",
        "* There is a module for linear algebra, [linalg](https://docs.scipy.org/doc/numpy/reference/routines.linalg.html)\n",
        "* You can solve for a system of equations using the [solve function](https://docs.scipy.org/doc/numpy/reference/generated/numpy.linalg.solve.html#numpy.linalg.solve)\n",
        "    * You can create a square 2 dimensional matrix and a constant row vector and solve for each variable column\n",
        "    * You can double check the answer using the inner product or [dot](https://docs.scipy.org/doc/numpy/reference/generated/numpy.dot.html#numpy.dot).\n",
        "* You can use the `@` to produce the dot product of two arrays."
      ]
    },
    {
      "metadata": {
        "id": "bu5xrWkb6CZS",
        "colab_type": "text"
      },
      "cell_type": "markdown",
      "source": [
        "### Universal Functions\n",
        "Universal functions are vectorized functions that can work on all values in an array at once. This is part of the magic of how things work so fast in NumPy. Let's explore the common ones."
      ]
    },
    {
      "metadata": {
        "id": "vpzgz-j20gkE",
        "colab_type": "code",
        "colab": {
          "base_uri": "https://localhost:8080/",
          "height": 34
        },
        "outputId": "295635fd-b107-428c-87f6-7d1fb70943c7"
      },
      "cell_type": "code",
      "source": [
        "a, b = np.split(np.arange(1,11), 2)\n",
        "a, b"
      ],
      "execution_count": 85,
      "outputs": [
        {
          "output_type": "execute_result",
          "data": {
            "text/plain": [
              "(array([1, 2, 3, 4, 5]), array([ 6,  7,  8,  9, 10]))"
            ]
          },
          "metadata": {
            "tags": []
          },
          "execution_count": 85
        }
      ]
    },
    {
      "metadata": {
        "id": "jy9VX9Fm8sin",
        "colab_type": "code",
        "colab": {
          "base_uri": "https://localhost:8080/",
          "height": 34
        },
        "outputId": "e58161a5-9cf6-43b1-f036-2f152e003c31"
      },
      "cell_type": "code",
      "source": [
        "a + b"
      ],
      "execution_count": 86,
      "outputs": [
        {
          "output_type": "execute_result",
          "data": {
            "text/plain": [
              "array([ 7,  9, 11, 13, 15])"
            ]
          },
          "metadata": {
            "tags": []
          },
          "execution_count": 86
        }
      ]
    },
    {
      "metadata": {
        "id": "L3YWdeMX8xB9",
        "colab_type": "code",
        "colab": {
          "base_uri": "https://localhost:8080/",
          "height": 34
        },
        "outputId": "bca1beb2-e01d-4a99-a259-f0661aaeb61a"
      },
      "cell_type": "code",
      "source": [
        "b - a"
      ],
      "execution_count": 87,
      "outputs": [
        {
          "output_type": "execute_result",
          "data": {
            "text/plain": [
              "array([5, 5, 5, 5, 5])"
            ]
          },
          "metadata": {
            "tags": []
          },
          "execution_count": 87
        }
      ]
    },
    {
      "metadata": {
        "id": "KKSxjYnd80Dz",
        "colab_type": "code",
        "colab": {
          "base_uri": "https://localhost:8080/",
          "height": 34
        },
        "outputId": "77f03826-80ae-46bc-ea28-05a4e71832fe"
      },
      "cell_type": "code",
      "source": [
        "np.repeat(2, 5)"
      ],
      "execution_count": 88,
      "outputs": [
        {
          "output_type": "execute_result",
          "data": {
            "text/plain": [
              "array([2, 2, 2, 2, 2])"
            ]
          },
          "metadata": {
            "tags": []
          },
          "execution_count": 88
        }
      ]
    },
    {
      "metadata": {
        "id": "MxxJuzxM8-JT",
        "colab_type": "code",
        "colab": {
          "base_uri": "https://localhost:8080/",
          "height": 34
        },
        "outputId": "1178c282-644e-4172-842e-c2dfb86a1169"
      },
      "cell_type": "code",
      "source": [
        "# broadcasting\n",
        "\n",
        "a + np.repeat(2,5)"
      ],
      "execution_count": 90,
      "outputs": [
        {
          "output_type": "execute_result",
          "data": {
            "text/plain": [
              "array([3, 4, 5, 6, 7])"
            ]
          },
          "metadata": {
            "tags": []
          },
          "execution_count": 90
        }
      ]
    },
    {
      "metadata": {
        "id": "R8TQnXQu9QZt",
        "colab_type": "code",
        "colab": {
          "base_uri": "https://localhost:8080/",
          "height": 68
        },
        "outputId": "295ec41b-64f4-4b36-d095-ca370c296129"
      },
      "cell_type": "code",
      "source": [
        "x1 = np.arange(9.0).reshape((3, 3))\n",
        "x2 = np.arange(3.0)\n",
        "x1, x2"
      ],
      "execution_count": 93,
      "outputs": [
        {
          "output_type": "execute_result",
          "data": {
            "text/plain": [
              "(array([[0., 1., 2.],\n",
              "        [3., 4., 5.],\n",
              "        [6., 7., 8.]]), array([0., 1., 2.]))"
            ]
          },
          "metadata": {
            "tags": []
          },
          "execution_count": 93
        }
      ]
    },
    {
      "metadata": {
        "id": "XNnP5Wlp9d73",
        "colab_type": "code",
        "colab": {
          "base_uri": "https://localhost:8080/",
          "height": 68
        },
        "outputId": "699ef3d2-253a-4ea0-c0b2-58be8630b1aa"
      },
      "cell_type": "code",
      "source": [
        "np.add(x1, x2)"
      ],
      "execution_count": 94,
      "outputs": [
        {
          "output_type": "execute_result",
          "data": {
            "text/plain": [
              "array([[ 0.,  2.,  4.],\n",
              "       [ 3.,  5.,  7.],\n",
              "       [ 6.,  8., 10.]])"
            ]
          },
          "metadata": {
            "tags": []
          },
          "execution_count": 94
        }
      ]
    },
    {
      "metadata": {
        "id": "lU1VvCCG-oMP",
        "colab_type": "text"
      },
      "cell_type": "markdown",
      "source": [
        "**Universal Functions notes**\n",
        "* ufuncs are commonly needed vectorized functions\n",
        "  * vectorized functions allow you to operate element by element without using a loop\n",
        "  * the standard math and comparison operators have all been overloaded so that they can make use of vectorization\n",
        "  * values can be broadcasted, or stretched to be applied to the ufuncs"
      ]
    },
    {
      "metadata": {
        "id": "l47WRTau99b1",
        "colab_type": "text"
      },
      "cell_type": "markdown",
      "source": [
        "### Routines in Action\n",
        "\n",
        "There are a ton of routines that are already written for you, saving the work for you. Let's take a look at how to find them. Also let's dive into reduction a bit"
      ]
    },
    {
      "metadata": {
        "id": "Zqv_PyaW_CNx",
        "colab_type": "code",
        "colab": {
          "base_uri": "https://localhost:8080/",
          "height": 68
        },
        "outputId": "19872e15-56c0-40a5-ebfb-93bb92355cee"
      },
      "cell_type": "code",
      "source": [
        "students_gpas"
      ],
      "execution_count": 95,
      "outputs": [
        {
          "output_type": "execute_result",
          "data": {
            "text/plain": [
              "array([[4.   , 3.285, 3.5  , 4.   ],\n",
              "       [3.2  , 3.8  , 4.   , 4.   ],\n",
              "       [3.96 , 3.92 , 4.   , 4.   ]], dtype=float16)"
            ]
          },
          "metadata": {
            "tags": []
          },
          "execution_count": 95
        }
      ]
    },
    {
      "metadata": {
        "id": "ExuBmp6Y_P6W",
        "colab_type": "code",
        "colab": {
          "base_uri": "https://localhost:8080/",
          "height": 34
        },
        "outputId": "feb90023-2fd0-4d9d-d5da-4947aa8a9b33"
      },
      "cell_type": "code",
      "source": [
        "# average gpa for each student\n",
        "# example of a reduction operation\n",
        "\n",
        "students_gpas.mean(axis=1)"
      ],
      "execution_count": 96,
      "outputs": [
        {
          "output_type": "execute_result",
          "data": {
            "text/plain": [
              "array([3.695, 3.75 , 3.97 ], dtype=float16)"
            ]
          },
          "metadata": {
            "tags": []
          },
          "execution_count": 96
        }
      ]
    },
    {
      "metadata": {
        "id": "tBgKyhJ9BggI",
        "colab_type": "code",
        "colab": {
          "base_uri": "https://localhost:8080/",
          "height": 153
        },
        "outputId": "5eba97a1-2c22-4841-b56e-e342ca7e2a3b"
      },
      "cell_type": "code",
      "source": [
        "study_minutes[0]"
      ],
      "execution_count": 97,
      "outputs": [
        {
          "output_type": "execute_result",
          "data": {
            "text/plain": [
              "array([150,  60,  80,  60,   0,  90,   0,   0,   0,   0,   0,   0,   0,\n",
              "         0,   0,   0,   0,   0,   0,   0,   0,   0,   0,   0,   0,   0,\n",
              "         0,   0,   0,   0,   0,   0,   0,   0,   0,   0,   0,   0,   0,\n",
              "         0,   0,   0,   0,   0,   0,   0,   0,   0,   0,   0,   0,   0,\n",
              "         0,   0,   0,   0,   0,   0,   0,   0,   0,   0,   0,   0,   0,\n",
              "         0,   0,   0,   0,   0,   0,   0,   0,   0,   0,   0,   0,   0,\n",
              "         0,   0,   0,   0,   0,   0,   0,   0,   0,   0,   0,   0,   0,\n",
              "         0,   0,   0,   0,   0,   0,   0,   0,   0], dtype=uint16)"
            ]
          },
          "metadata": {
            "tags": []
          },
          "execution_count": 97
        }
      ]
    },
    {
      "metadata": {
        "id": "BreUPXF3CwmS",
        "colab_type": "code",
        "colab": {
          "base_uri": "https://localhost:8080/",
          "height": 34
        },
        "outputId": "7d2060db-9d25-4811-c07d-1ad92e40e8da"
      },
      "cell_type": "code",
      "source": [
        "np.add.reduce(study_minutes[0])"
      ],
      "execution_count": 98,
      "outputs": [
        {
          "output_type": "execute_result",
          "data": {
            "text/plain": [
              "440"
            ]
          },
          "metadata": {
            "tags": []
          },
          "execution_count": 98
        }
      ]
    },
    {
      "metadata": {
        "id": "8EoctoptDi_F",
        "colab_type": "code",
        "colab": {
          "base_uri": "https://localhost:8080/",
          "height": 153
        },
        "outputId": "25d1e4ab-7256-4a6c-eaeb-32be57bd8c0e"
      },
      "cell_type": "code",
      "source": [
        "# shows us each step through\n",
        "np.add.accumulate(study_minutes[0])"
      ],
      "execution_count": 99,
      "outputs": [
        {
          "output_type": "execute_result",
          "data": {
            "text/plain": [
              "array([150, 210, 290, 350, 350, 440, 440, 440, 440, 440, 440, 440, 440,\n",
              "       440, 440, 440, 440, 440, 440, 440, 440, 440, 440, 440, 440, 440,\n",
              "       440, 440, 440, 440, 440, 440, 440, 440, 440, 440, 440, 440, 440,\n",
              "       440, 440, 440, 440, 440, 440, 440, 440, 440, 440, 440, 440, 440,\n",
              "       440, 440, 440, 440, 440, 440, 440, 440, 440, 440, 440, 440, 440,\n",
              "       440, 440, 440, 440, 440, 440, 440, 440, 440, 440, 440, 440, 440,\n",
              "       440, 440, 440, 440, 440, 440, 440, 440, 440, 440, 440, 440, 440,\n",
              "       440, 440, 440, 440, 440, 440, 440, 440, 440], dtype=uint64)"
            ]
          },
          "metadata": {
            "tags": []
          },
          "execution_count": 99
        }
      ]
    },
    {
      "metadata": {
        "id": "_hbrXFUTDm7S",
        "colab_type": "code",
        "colab": {
          "base_uri": "https://localhost:8080/",
          "height": 34
        },
        "outputId": "cd014bfe-0c3c-47a7-b27f-19b73630f30d"
      },
      "cell_type": "code",
      "source": [
        "np.sum(study_minutes)"
      ],
      "execution_count": 100,
      "outputs": [
        {
          "output_type": "execute_result",
          "data": {
            "text/plain": [
              "10150"
            ]
          },
          "metadata": {
            "tags": []
          },
          "execution_count": 100
        }
      ]
    },
    {
      "metadata": {
        "id": "w2QcQlFQDr3J",
        "colab_type": "code",
        "colab": {
          "base_uri": "https://localhost:8080/",
          "height": 34
        },
        "outputId": "adc14f1c-5389-4706-a9ac-b3c856efe1e8"
      },
      "cell_type": "code",
      "source": [
        " # sum of all minutes by round\n",
        "  np.sum(study_minutes, axis=1)"
      ],
      "execution_count": 101,
      "outputs": [
        {
          "output_type": "execute_result",
          "data": {
            "text/plain": [
              "array([ 440,  420, 9290], dtype=uint64)"
            ]
          },
          "metadata": {
            "tags": []
          },
          "execution_count": 101
        }
      ]
    },
    {
      "metadata": {
        "id": "tj4Od4fLIv_4",
        "colab_type": "text"
      },
      "cell_type": "markdown",
      "source": [
        "**Common Routines Notes**\n",
        "\n",
        "* Common [mathematical](https://docs.scipy.org/doc/numpy-1.14.0/reference/routines.math.html) [routines](https://docs.scipy.org/doc/numpy-1.14.0/reference/routines.html) are exposed so the formula can be abstracted away.\n",
        "    * [`mean`](https://docs.scipy.org/doc/numpy-1.14.0/reference/generated/numpy.mean.html#numpy.mean) is a [statistics](https://docs.scipy.org/doc/numpy-1.14.0/reference/routines.statistics.html) routine used to calculate the average.\n",
        "* Reduction functions take a dimension and collapse it into a single value.\n",
        "    * These functions define an axis parameter, and you should remember that the function works across the dimension."
      ]
    },
    {
      "metadata": {
        "id": "FBEu-vfxJEsV",
        "colab_type": "text"
      },
      "cell_type": "markdown",
      "source": [
        "## Plotting\n",
        "\n",
        "NumPy integrates with a whole slew of external packages and tools. Let's take a look at the plotting library, matplotlib"
      ]
    },
    {
      "metadata": {
        "id": "I39P6KvrJCZ2",
        "colab_type": "code",
        "colab": {}
      },
      "cell_type": "code",
      "source": [
        "import matplotlib.pyplot as plt"
      ],
      "execution_count": 0,
      "outputs": []
    },
    {
      "metadata": {
        "id": "Fq9IU49CEmzg",
        "colab_type": "code",
        "colab": {
          "base_uri": "https://localhost:8080/",
          "height": 364
        },
        "outputId": "fc0370a6-5b05-4337-ae96-af9b215eb11b"
      },
      "cell_type": "code",
      "source": [
        "plt.boxplot(students_gpas)\n",
        "plt.plot()"
      ],
      "execution_count": 106,
      "outputs": [
        {
          "output_type": "execute_result",
          "data": {
            "text/plain": [
              "[]"
            ]
          },
          "metadata": {
            "tags": []
          },
          "execution_count": 106
        },
        {
          "output_type": "display_data",
          "data": {
            "image/png": "[encoded data removed]",
            "text/plain": [
              "<matplotlib.figure.Figure at 0x7f8b5e407cd0>"
            ]
          },
          "metadata": {
            "tags": []
          }
        }
      ]
    },
    {
      "metadata": {
        "id": "irtfZ3DBJpRq",
        "colab_type": "code",
        "colab": {
          "base_uri": "https://localhost:8080/",
          "height": 364
        },
        "outputId": "99388db6-afbe-4ed2-d947-f061acc529c5"
      },
      "cell_type": "code",
      "source": [
        "# pass in a one dimensional array of alll minutes that are greater than zero\n",
        "plt.hist(study_minutes[study_minutes > 0])\n",
        "plt.plot()"
      ],
      "execution_count": 107,
      "outputs": [
        {
          "output_type": "execute_result",
          "data": {
            "text/plain": [
              "[]"
            ]
          },
          "metadata": {
            "tags": []
          },
          "execution_count": 107
        },
        {
          "output_type": "display_data",
          "data": {
            "image/png": "[encoded data removed]",
            "text/plain": [
              "<matplotlib.figure.Figure at 0x7f8b5e3761d0>"
            ]
          },
          "metadata": {
            "tags": []
          }
        }
      ]
    },
    {
      "metadata": {
        "id": "b-YR-lNFKzyt",
        "colab_type": "text"
      },
      "cell_type": "markdown",
      "source": [
        "[NumPy Treehouse cheat sheet](https://github.com/treehouse-projects/python-intro-to-numpy/blob/master/Introduction%20to%20NumPy.ipynb)"
      ]
    }
  ]
}