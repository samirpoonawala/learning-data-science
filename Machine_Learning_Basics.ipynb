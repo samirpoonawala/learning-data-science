{
  "nbformat": 4,
  "nbformat_minor": 0,
  "metadata": {
    "colab": {
      "name": "Machine Learning Basics.ipynb",
      "version": "0.3.2",
      "provenance": [],
      "collapsed_sections": []
    },
    "kernelspec": {
      "name": "python3",
      "display_name": "Python 3"
    }
  },
  "cells": [
    {
      "metadata": {
        "id": "7QLbDQ6NpKBt",
        "colab_type": "text"
      },
      "cell_type": "markdown",
      "source": [
        "\n",
        "# (Treehouse) Machine Learning Basics\n",
        "\n",
        "About this course\n",
        "\n",
        "Machine learning encompasses many different ideas, progamming languages, frameworks, and approaches to the subject, so the term \"machine learning\" is difficult to define in just a sentence or two. But essentially, machine learning is giving a computer the ability to write its own rules and learn about new things, on its own. In this course, we'll explore some of the big ideasm and toward the end, we'll even write a little bit of code in Python that can make some intelligent predictions.\n",
        "\n",
        "What you'll learn:\n",
        "* fundamental concepts in machine learning\n",
        "* supervised vs. unsupervised learning\n",
        "* machine learning frameworks\n",
        "* machine learning using Python and scikit-learn"
      ]
    },
    {
      "metadata": {
        "id": "i78lU2V1rxiJ",
        "colab_type": "text"
      },
      "cell_type": "markdown",
      "source": [
        "## Introduction to Machine Learning\n",
        "Machine learning actually is not as difficult as you might believem, and its applications are far reaching. You might be surprised where machine learning could show up in your life, and how it might be useful to you both now and in the years to come."
      ]
    },
    {
      "metadata": {
        "id": "oZKLriP7r_il",
        "colab_type": "text"
      },
      "cell_type": "markdown",
      "source": [
        "### What is machine learning?\n",
        "\n",
        "Machine learning encompasses many different ideas, programming languages, frameworks, and approaches to the subject, so the term \"machine learning\" is difficult to define in just a sentence or two. But essentially, machine learning is giving a computer the ability to write its own rules and learn about new things, on its own."
      ]
    },
    {
      "metadata": {
        "id": "gjnPsiytk1gO",
        "colab_type": "text"
      },
      "cell_type": "markdown",
      "source": [
        "### Supervised and unsupervised learning\n",
        "There are many different approaches or models in machine learning, but generally, they can be broken down into two major categories called supervised learning and unsupervised learning.\n",
        "\n",
        "Vocabulary and definitions\n",
        "* **model**: an algorithm or an approach to a problem\n",
        "* **probability**: a means of expressing how likely it is that an event will occur, or a way of measuring how close a value might be to the actual correct value\n",
        "* **supervised learning**: a case wehere a machine intelligence is tasked with predicting a category or a quantity\n",
        "* **unsupervised learning**: a case where a computer analyzes unlabeled data and has no previous examples, and tries to identify patterns in the data\n",
        "  * e.g., clustering (models that attempt to group similar items together)\n",
        "* **classification**: a supervised machine learning modeln that makes a prediction about how a piece of data should be categorized\n",
        "  * example: classify an email as spam or not spam\n",
        "* **regression**: a supervised machine learning model that attempts to predict a quantity or a number\n",
        "* **clustering**: an unsupervised machine learning model that attempts to group similar examples together"
      ]
    },
    {
      "metadata": {
        "id": "nJIl_JYdmdX-",
        "colab_type": "text"
      },
      "cell_type": "markdown",
      "source": [
        "### Machine learning frameworks\n",
        "\n",
        "Most approaches to machine learning can be described using statistical analysis and math, which means that some of the componetns for a spamn filter that classifies something as spam or not spam can be reapplied to another similar problem, like classifying different types of zoo animals based on their physical apprearance. For this reason, there are many high level machine learning frameworks that already have all the low level code written, so you can just plug your code and your data into pre-existing models\n",
        "\n",
        "Machine learning frameworks:\n",
        "* scikit learn\n",
        "* TensorFlow\n",
        "* Machine Learning on AWS\n",
        "* IBM Watson\n",
        "* Microsoft Cognitive Toolkit\n",
        "* Google's Cloud AI\n",
        "* PyTorch'* Caffe2\n",
        "* Keras\n",
        "* Apache MXNet"
      ]
    },
    {
      "metadata": {
        "id": "DmTPKKrWpIQG",
        "colab_type": "text"
      },
      "cell_type": "markdown",
      "source": [
        "## Machine Learning Vocabulary\n",
        "\n",
        "Machine learning is a huge topic with many new vocabulary terms. In order to learn more, we should formally define some of these new terms first."
      ]
    },
    {
      "metadata": {
        "id": "SHkDlR_ZpRRP",
        "colab_type": "text"
      },
      "cell_type": "markdown",
      "source": [
        "### Examples and features\n",
        "Before we continue, we should formally define some of the terms I've been using to describe machine learningm and then break them don further with more examples\n",
        "* **example**: a single element in a dataset\n",
        "* **feature**: one characteristic of an example"
      ]
    },
    {
      "metadata": {
        "id": "spSIzx9HpUfN",
        "colab_type": "text"
      },
      "cell_type": "markdown",
      "source": [
        "### Labels and classifiers\n",
        "\n",
        "Let's continue defining some machine learning terms so that we hve the vocabulary to discuss these ideasw in more detail\n",
        "\n",
        "* **label**: a category for data, or prediction from a classification algorith\n",
        "* **classifier**: a supervised machine learning model that makes a prediction about how a piece of data should be categorized"
      ]
    },
    {
      "metadata": {
        "id": "C7uqDJPDpUtO",
        "colab_type": "text"
      },
      "cell_type": "markdown",
      "source": [
        "## Writing a Classifier\n",
        "\n",
        "We'ren going to be using a Python library called scikit-learn, which includes a lot of well designed tools for performing common machine learning tasks. We're going to install scikit learn and its dependencies using Anacondam which is a Pyrhon=based platform focused on data science and machine learning"
      ]
    },
    {
      "metadata": {
        "id": "s99AzALIpU_V",
        "colab_type": "text"
      },
      "cell_type": "markdown",
      "source": [
        "### Installing scikit-learn using Anaconda\n",
        "\n",
        "We're going to use a Python library called scikit-learn, which includes lots of well designed tools for performing common machine learning tasks. We're going to install scikit-learn and its dependencies using Anaconda, which is a Python-based platform focused on data science and machine learning."
      ]
    },
    {
      "metadata": {
        "id": "kI-tC9NbpsIC",
        "colab_type": "code",
        "colab": {}
      },
      "cell_type": "code",
      "source": [
        "# http://scikit-learn.org/stable/modules/generated/sklearn.tree.DecisionTreeClassifier.html"
      ],
      "execution_count": 0,
      "outputs": []
    },
    {
      "metadata": {
        "id": "toCYBmE4ptCA",
        "colab_type": "text"
      },
      "cell_type": "markdown",
      "source": [
        "### Loading a dataset\n",
        "\n",
        "Before we can write a classifier, we need something to classify. That is, we need a dataset.\n",
        "\n",
        "* The data set consists of 50 sampkles from each of three species of Iris (Iris setosa, Iris virginica and Iris versicolor)\n",
        "* Four features were measured from each sample: the length and width of the sepals and pedals, in cm. Based on the combination of these four features, Fisher develoepd a linear discriminant model to distinguishn the species from each other"
      ]
    },
    {
      "metadata": {
        "id": "5Z-HPWKUpusY",
        "colab_type": "code",
        "colab": {
          "base_uri": "https://localhost:8080/",
          "height": 34
        },
        "outputId": "4f97a6e0-7a3a-4663-a9e0-e4b67611c453"
      },
      "cell_type": "code",
      "source": [
        "from sklearn.datasets import load_iris # import iris dataset\n",
        "iris = load_iris() # assign dataset to a variable\n",
        "print(list(iris.target_names)) # print labels (i.e., target names) list"
      ],
      "execution_count": 11,
      "outputs": [
        {
          "output_type": "stream",
          "text": [
            "['setosa', 'versicolor', 'virginica']\n"
          ],
          "name": "stdout"
        }
      ]
    },
    {
      "metadata": {
        "id": "bi7z1l4jpvG2",
        "colab_type": "text"
      },
      "cell_type": "markdown",
      "source": [
        "### Making predictions with a classifier\n",
        "\n",
        "A classifier looks at a piece of data and tries to categorize it. In this video, we'll use scikit-learn to write a classifier using the dataset we loaded previously"
      ]
    },
    {
      "metadata": {
        "id": "JyJxr6DcpxzD",
        "colab_type": "code",
        "colab": {
          "base_uri": "https://localhost:8080/",
          "height": 51
        },
        "outputId": "745f2180-b696-456a-d1ba-dcb6665beb96"
      },
      "cell_type": "code",
      "source": [
        "# import dataset\n",
        "from sklearn.datasets import load_iris\n",
        "iris = load_iris()\n",
        "print(list(iris.target_names))\n",
        "\n",
        "# make predictions with classifier\n",
        "from sklearn import tree\n",
        "classifier = tree.DecisionTreeClassifier()\n",
        "\n",
        "# fit data to model\n",
        "classifier = classifier.fit(iris.data, iris.target)\n",
        "\n",
        "# make predictions\n",
        "print(classifier.predict([[5.1,3.5,1.4,1.5]]))"
      ],
      "execution_count": 14,
      "outputs": [
        {
          "output_type": "stream",
          "text": [
            "['setosa', 'versicolor', 'virginica']\n",
            "[0]\n"
          ],
          "name": "stdout"
        }
      ]
    },
    {
      "metadata": {
        "id": "RGVLhZi9BkLY",
        "colab_type": "text"
      },
      "cell_type": "markdown",
      "source": [
        "### Machine learning review\n",
        "\n",
        "This course has been a broad overview of machine learning. We looked at a lot of big ideas and we ecen explored some code. Let's do a quick review\n",
        "\n",
        "Two major categories:\n",
        "*   **Supervised learning**: machine intelligence predicts a category or a quantity, using models of classification and regresssion, respectively\n",
        "*   **Unsupervised learning**: a computer analyzes unlabeled data and attempts to recognize patterns\n",
        "\n",
        "* an example is a single element in a dataset\n",
        "* a feature is one characteristic of an example\n",
        "\n"
      ]
    }
  ]
}