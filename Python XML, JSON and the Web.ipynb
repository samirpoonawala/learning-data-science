{
 "cells": [
  {
   "cell_type": "markdown",
   "metadata": {
    "collapsed": true
   },
   "source": [
    "# (Lynda) Python: XML, JSON and the Web\n",
    "[course link](https://www.lynda.com/Python-tutorials/Python-XML-JSON-Web/699338-2.html)"
   ]
  },
  {
   "cell_type": "markdown",
   "metadata": {},
   "source": [
    "# (1) Overview"
   ]
  },
  {
   "cell_type": "markdown",
   "metadata": {},
   "source": [
    "**Working with Internet data**\n",
    "* XML\n",
    "    * extensible markup language and related technologies\n",
    "    * similar to HTML with some changes to better suit general data\n",
    "    * rich and expressive but more complex than JSON\n",
    "* JSON\n",
    "    * very concise format for serializing object data\n",
    "    * derived from JavaScript but supported by most modern languages\n",
    "    * compact and easy to read, write and process\n",
    "* Both data formats are platform and language independent"
   ]
  },
  {
   "cell_type": "markdown",
   "metadata": {},
   "source": [
    "**XML Overview**\n",
    "* Mature data format widely used in many applications\n",
    "* W3C published standard since 1998\n",
    "* Similar in structure to HTML\n",
    "* Rules for XML formatting are more strict than HTML\n",
    "* Usually used for complex, document-like data\n",
    "    * examples: Android app resources, RSS and ATOM blog feeds\n",
    "* XML documents must always have a single root tag\n",
    "* XML documents can have an optional document declaration\n",
    "* Empty tags must have a closing slash: <tag />\n",
    "* Attributes must have values that are enclosed in quotes\n",
    "* Tags must be properly nested within each other\n",
    "* Tags and attributes starting with \"xml\" are reserved"
   ]
  },
  {
   "cell_type": "markdown",
   "metadata": {},
   "source": [
    "** JSON Overview **\n",
    "* JavaScript Object Notation\n",
    "* Lightweight, text-based format for data interchange\n",
    "* Easy for humans to read and machines to use\n",
    "* JSON nature datatypes:\n",
    "    * **number**: signed decimal number, no Integer / Float distinction\n",
    "    * **string**: unicode or escaped characters inside double quotes \n",
    "    * **boolean**: true or false value\n",
    "    * **null**: null value\n",
    "    * **array**: list of ordered values\n",
    "    * **object**: collection of key-value pairs, keys are strings"
   ]
  },
  {
   "cell_type": "markdown",
   "metadata": {},
   "source": [
    "**Internet Data Python Modules**\n",
    "* **urllib**: contains several modules for working with urls\n",
    "* **http**: contains code for working with cookies, servers and other low level HTTP protocols\n",
    "* **JSON**: gives us a way of converting Python data into JSON and from JSON into native Python data types\n",
    "* **XML**: Python's interfaces for processing XML are grouped into the xml package"
   ]
  },
  {
   "cell_type": "markdown",
   "metadata": {},
   "source": [
    "**Using httpbin.org**\n"
   ]
  },
  {
   "cell_type": "markdown",
   "metadata": {},
   "source": [
    "# (2) Accessing the Internet"
   ]
  },
  {
   "cell_type": "markdown",
   "metadata": {},
   "source": [
    "**Introducing urllib**\n",
    "* **urllib.request**: handles the opening and reading of urls\n",
    "* **urllib.error**: which defines the exception classes for errors raised by the request module\n",
    "* **urllib.parse**: for parsing url structures\n",
    "* **urllib.robotparser**: for working with robots.txt files"
   ]
  },
  {
   "cell_type": "markdown",
   "metadata": {},
   "source": [
    "### Retrieving Data\n",
    "\n",
    "```\n",
    "response = urllib.request.urlopen(\n",
    "    url,\n",
    "    data=None,\n",
    "    [timeout, ]*,\n",
    "    cafile=None,\n",
    "    capath=None,\n",
    "    cadefault=False,\n",
    "    context=None\n",
    ")\n",
    "```\n",
    "\n",
    "**HTTPResponse Object**\n",
    "* **URL**: the URL that data was ultimately retrieved from (may have been redirected)\n",
    "* **status**: HTTP status code of result, such as 200 or 404\n",
    "* **getheader() / getheaders()**: functions for accessing a single header or all headers as a group of 2-tuples\n",
    "* **read()**: function to read the data from the result"
   ]
  },
  {
   "cell_type": "code",
   "execution_count": 3,
   "metadata": {},
   "outputs": [
    {
     "name": "stdout",
     "output_type": "stream",
     "text": [
      "Result code: 200\n",
      "Headers: ----------------------\n",
      "[('Server', 'gunicorn/19.9.0'), ('Date', 'Sun, 26 Aug 2018 18:24:30 GMT'), ('Content-Type', 'application/xml'), ('Content-Length', '522'), ('Access-Control-Allow-Origin', '*'), ('Access-Control-Allow-Credentials', 'true'), ('X-Cache', 'MISS from ansprod4868nb'), ('Via', '1.1 vegur, 1.1 ansprod4868nb (squid/3.5.27)'), ('Connection', 'close')]\n",
      "\n",
      "Returned data: ----------------------\n",
      "<?xml version='1.0' encoding='us-ascii'?>\n",
      "\n",
      "<!--  A SAMPLE set of slides  -->\n",
      "\n",
      "<slideshow \n",
      "    title=\"Sample Slide Show\"\n",
      "    date=\"Date of publication\"\n",
      "    author=\"Yours Truly\"\n",
      "    >\n",
      "\n",
      "    <!-- TITLE SLIDE -->\n",
      "    <slide type=\"all\">\n",
      "      <title>Wake up to WonderWidgets!</title>\n",
      "    </slide>\n",
      "\n",
      "    <!-- OVERVIEW -->\n",
      "    <slide type=\"all\">\n",
      "        <title>Overview</title>\n",
      "        <item>Why <em>WonderWidgets</em> are great</item>\n",
      "        <item/>\n",
      "        <item>Who <em>buys</em> WonderWidgets</item>\n",
      "    </slide>\n",
      "\n",
      "</slideshow>\n"
     ]
    }
   ],
   "source": [
    "# urllib_start.py\n",
    "\n",
    "# using urllib to request data\n",
    "\n",
    "# TODO: import the urllib request class\n",
    "import urllib.request\n",
    "\n",
    "def main():\n",
    "    # the url to retrieve our sample data from\n",
    "    url = \"http://httpbin.org/xml\"\n",
    "    \n",
    "    # TODO: open the URL and retrieve some data\n",
    "    result = urllib.request.urlopen(url)\n",
    "    \n",
    "    # TODO: print the result code from the request, should be 200 OK\n",
    "    print(\"Result code: {}\".format(result.status))\n",
    "    \n",
    "    # TODO: print the returned data headers\n",
    "    print(\"Headers: ----------------------\")\n",
    "    print(result.getheaders())\n",
    "    \n",
    "    # TODO: pritn the returned data itself\n",
    "    print(\"\\nReturned data: ----------------------\")\n",
    "        # decode returns data as text\n",
    "    print(result.read().decode('utf-8'))\n",
    "    \n",
    "if __name__ == \"__main__\":\n",
    "    main()\n",
    "    "
   ]
  },
  {
   "cell_type": "markdown",
   "metadata": {},
   "source": [
    "### Sending data with urllib\n",
    "\n",
    "* GET: retrieve data from a web service\n",
    "* POST: create or update data on a web service\n",
    "* PUT: create or update a specific data resource on a web service\n",
    "* PATCH: perform a partial data update or edit on a web service\n",
    "* DELETE: delete data on a web service"
   ]
  },
  {
   "cell_type": "code",
   "execution_count": 13,
   "metadata": {
    "scrolled": false
   },
   "outputs": [
    {
     "name": "stdout",
     "output_type": "stream",
     "text": [
      "Result code: 200\n",
      "\n",
      "Returned data: ----------\n",
      "{\n",
      "  \"args\": {}, \n",
      "  \"data\": \"\", \n",
      "  \"files\": {}, \n",
      "  \"form\": {\n",
      "    \"is_author\": \"True\", \n",
      "    \"name\": \"Samir\"\n",
      "  }, \n",
      "  \"headers\": {\n",
      "    \"Accept-Encoding\": \"identity\", \n",
      "    \"Cache-Control\": \"max-age=259200\", \n",
      "    \"Connection\": \"close\", \n",
      "    \"Content-Length\": \"25\", \n",
      "    \"Content-Type\": \"application/x-www-form-urlencoded\", \n",
      "    \"Host\": \"httpbin.org\", \n",
      "    \"User-Agent\": \"Python-urllib/3.6\"\n",
      "  }, \n",
      "  \"json\": null, \n",
      "  \"origin\": \"10.36.24.156, 70.37.54.151\", \n",
      "  \"url\": \"http://httpbin.org/post\"\n",
      "}\n",
      "\n"
     ]
    }
   ],
   "source": [
    "# urllibdata_start.py\n",
    "\n",
    "# TODO: import the request and parse modules\n",
    "import urllib.request\n",
    "import urllib.parse\n",
    "\n",
    "def main():\n",
    "    url = \"http://httpbin.org/get\"\n",
    "    \n",
    "    # TODO: create some data to pass to the GET request\n",
    "    args = {\n",
    "        \"name\": \"Samir\",\n",
    "        \"is_author\": True\n",
    "    }\n",
    "    \n",
    "    # TODO: the data needs to be url-encoded before parsing\n",
    "    data = urllib.parse.urlencode(args)\n",
    "    \n",
    "    # TODO: issue the request with the data params as part of the URL\n",
    "#    result = urllib.request.urlopen(url + \"?\" + data)\n",
    "    \n",
    "    #TODO: issue the request with a data parameter to use POST\n",
    "    url = \"http://httpbin.org/post\"\n",
    "    data = data.encode()\n",
    "    result = urllib.request.urlopen(url, data=data)\n",
    "    \n",
    "    print(\"Result code: {0}\".format(result.status))\n",
    "    print(\"\\nReturned data: ----------\")\n",
    "    print(result.read().decode(\"utf-8\"))\n",
    "\n",
    "if __name__ == \"__main__\":\n",
    "    main()"
   ]
  },
  {
   "cell_type": "markdown",
   "metadata": {},
   "source": [
    "### Handling errors"
   ]
  },
  {
   "cell_type": "code",
   "execution_count": 23,
   "metadata": {
    "scrolled": true
   },
   "outputs": [
    {
     "name": "stdout",
     "output_type": "stream",
     "text": [
      "Error: 503\n"
     ]
    }
   ],
   "source": [
    "# urlliberr_start.py\n",
    "\n",
    "# handling errors and status codes\n",
    "\n",
    "# TODO: import the request, error, and status modules\n",
    "import urllib.request\n",
    "from http import HTTPStatus\n",
    "from urllib.error import HTTPError, URLError\n",
    "\n",
    "def main():\n",
    "    url = \"http://no-such-server.org\" # will generate a URLError\n",
    "    #url = \"http://httpbin.org/status/404\" # will generate an HTTPError\n",
    "    #url = \"http://httpbin.org/html\" # should work with no errors\n",
    "    \n",
    "    try:\n",
    "        # TODO: use exception handling to attempt the URL access\n",
    "        result = urllib.request.urlopen(url)\n",
    "        print(\"Result code: {0}\".format(result.status))\n",
    "        if (result.getcode() == HTTPStatus.OK):\n",
    "            print(result.read().decode('utf-8'))\n",
    "    except HTTPError as err:\n",
    "        print(\"Error: {0}\".format(err.code))\n",
    "    except URLError as err:\n",
    "        print(\"Yeah, that server is bunk. {0}\".format(err.reason))\n",
    "        \n",
    "main()"
   ]
  },
  {
   "cell_type": "markdown",
   "metadata": {},
   "source": [
    "### Drawbacks of urllib\n",
    "* only supports a subset of HTTP by default\n",
    "* doesn't automatically decode returned data\n",
    "* common features, such as cookies or authentication, require more modules\n",
    "* difficult to implement advanced features, such as timeouts\n",
    "* processing returned data, such as JSON, is cumbersome"
   ]
  },
  {
   "cell_type": "markdown",
   "metadata": {},
   "source": [
    "## (3) Using the Requests Library\n",
    "Documentation [link](http://docs.python-requests.org/en/master)"
   ]
  },
  {
   "cell_type": "markdown",
   "metadata": {},
   "source": [
    "### Overview of the Requests library\n",
    "* simple API - each HTTP verb is a method name\n",
    "* makes working with parameters, headers and cookies easier\n",
    "* automatically decodes returned content\n",
    "* automatically parses JSON content when decoded\n",
    "* handles redirects, timeouts, and errors\n",
    "* advanced features like authentication and sessions"
   ]
  },
  {
   "cell_type": "code",
   "execution_count": null,
   "metadata": {},
   "outputs": [],
   "source": [
    "# run if you need to install requests library\n",
    "# !pip install requests"
   ]
  },
  {
   "cell_type": "markdown",
   "metadata": {},
   "source": [
    "### Making a simple request\n",
    "\n",
    "response = requests.get(url)\n",
    "\n",
    "* **params**: key-value pairs that will be sent in the query string\n",
    "* **headers**: dictionary of header values to send along with the request\n",
    "* **auth**: authentication tuple to enable different forms of authentication\n",
    "* **timeout**: value in seconds to wait for the server to respond"
   ]
  },
  {
   "cell_type": "markdown",
   "metadata": {},
   "source": [
    "### Retrieve and send data"
   ]
  },
  {
   "cell_type": "code",
   "execution_count": 33,
   "metadata": {},
   "outputs": [
    {
     "name": "stdout",
     "output_type": "stream",
     "text": [
      "Result code: 200\n",
      "\n",
      "\n",
      "Headers: ------------------------------\n",
      "{'Server': 'gunicorn/19.9.0', 'Date': 'Sun, 26 Aug 2018 21:14:37 GMT', 'Content-Type': 'application/json', 'Content-Length': '324', 'Access-Control-Allow-Origin': '*', 'Access-Control-Allow-Credentials': 'true', 'X-Cache': 'MISS from ansprod4868nb', 'Via': '1.1 vegur, 1.1 ansprod4868nb (squid/3.5.27)', 'Connection': 'keep-alive'}\n",
      "\n",
      "\n",
      "Returned data: -------------\n",
      "{\n",
      "  \"args\": {}, \n",
      "  \"headers\": {\n",
      "    \"Accept\": \"*/*\", \n",
      "    \"Accept-Encoding\": \"gzip, deflate\", \n",
      "    \"Cache-Control\": \"max-age=259200\", \n",
      "    \"Connection\": \"close\", \n",
      "    \"Host\": \"httpbin.org\", \n",
      "    \"User-Agent\": \"Samir Poonawala App / 1.0.0\"\n",
      "  }, \n",
      "  \"origin\": \"10.36.24.156, 70.37.54.151\", \n",
      "  \"url\": \"http://httpbin.org/get\"\n",
      "}\n",
      "\n"
     ]
    }
   ],
   "source": [
    "# using the requests library to access Internet data\n",
    "\n",
    "# import the requests libary\n",
    "import requests\n",
    "\n",
    "def main():\n",
    "    # TODO: use requests to issue a standard HTTP GET request\n",
    "    url = \"http://httpbin.org/xml\"\n",
    "    result = requests.get(url)\n",
    "#    printResults(result)\n",
    "    \n",
    "    # TODO: send some parameters to the URL via a GET request\n",
    "    # note that requests handles this for you, no manual encoding\n",
    "    url = \"http://httpbin.org/post\"\n",
    "    dataValues = {\n",
    "        \"key1\":\"value1\",\n",
    "        \"key2\":\"value2\"\n",
    "    }\n",
    "    result = requests.post(url, data=dataValues)\n",
    "#    printResults(result)\n",
    "    \n",
    "    # TODO: pass a custom header to the server\n",
    "    url = \"http://httpbin.org/get\"\n",
    "    headerValues = {\n",
    "        \"User-Agent\": \"Samir Poonawala App / 1.0.0\"\n",
    "    }\n",
    "    result = requests.get(url, headers=headerValues)\n",
    "    printResults(result)\n",
    "\n",
    "    \n",
    "def printResults(resData):\n",
    "    \"\"\"Prints returned data from the server to the output\"\"\"\n",
    "    print(\"Result code: {0}\".format(resData.status_code))\n",
    "    print(\"\\n\")\n",
    "    \n",
    "    print(\"Headers: ------------------------------\")\n",
    "    print(resData.headers)\n",
    "    print(\"\\n\")\n",
    "    \n",
    "    print(\"Returned data: -------------\")\n",
    "    print(resData.text)\n",
    "\n",
    "if __name__ == \"__main__\":\n",
    "    main()"
   ]
  },
  {
   "cell_type": "markdown",
   "metadata": {},
   "source": [
    "Requests library is overwhelmingly preferred by Python developers vs. urllib"
   ]
  },
  {
   "cell_type": "markdown",
   "metadata": {},
   "source": [
    "### Handling errors"
   ]
  },
  {
   "cell_type": "code",
   "execution_count": 42,
   "metadata": {},
   "outputs": [
    {
     "name": "stdout",
     "output_type": "stream",
     "text": [
      "Request timed out:\n",
      " HTTPConnectionPool(host='webproxy', port=3128): Read timed out. (read timeout=2)\n"
     ]
    }
   ],
   "source": [
    "# using the requests libary to access internet data\n",
    "\n",
    "import requests\n",
    "from requests import HTTPError, Timeout\n",
    "\n",
    "def main():\n",
    "    try:\n",
    "        # use requests to issue a standard HTTP GET request\n",
    "        #url = \"http://httpbin.org/status/404\"\n",
    "        url = \"http://httpbin.org/delay/5\"\n",
    "        result = requests.get(url, timeout=2)\n",
    "        result.raise_for_status()\n",
    "        printResults(result)\n",
    "    except HTTPError as err:\n",
    "        print(\"Error: {0}\".format(err))\n",
    "    except Timeout as err:\n",
    "        print(\"Request timed out:\\n {0}\".format(err))\n",
    "    \n",
    "def printResults(resData):\n",
    "    print(\"Result code: {0}\".format(resData.status_code))\n",
    "    print(\"\\n\")\n",
    "    \n",
    "    print(\"Returned data: -----------\")\n",
    "    print(resData.text)\n",
    "    \n",
    "if __name__ == \"__main__\":\n",
    "    main()"
   ]
  },
  {
   "cell_type": "markdown",
   "metadata": {},
   "source": [
    "### Using authentication"
   ]
  },
  {
   "cell_type": "code",
   "execution_count": 45,
   "metadata": {},
   "outputs": [
    {
     "name": "stdout",
     "output_type": "stream",
     "text": [
      "Result code: 200\n",
      "\n",
      "\n",
      "Returned data: ------------\n",
      "{\n",
      "  \"authenticated\": true, \n",
      "  \"user\": \"SamirPoonawala\"\n",
      "}\n",
      "\n"
     ]
    }
   ],
   "source": [
    "# using the requests libary to access internet data\n",
    "\n",
    "import requests\n",
    "from requests.auth import HTTPBasicAuth\n",
    "\n",
    "def main():\n",
    "    # access a url that requires authentication\n",
    "    # format of this uURL is that you provide the username / pw to auth against\n",
    "    \n",
    "    url = \"http://httpbin.org/basic-auth/SamirPoonawala/MyPassword\"\n",
    "    \n",
    "    # TODO: create a credentials object using HTTPBasicAuth\n",
    "    myCreds = HTTPBasicAuth(\"SamirPoonawala\",\"MyPassword\")\n",
    "    \n",
    "    # TODO: issue the request with the authentication credentials\n",
    "    result = requests.get(url, auth=myCreds)\n",
    "    # alternative to above line:\n",
    "    #result - requests.get*url, auth=(\"SamirPoonawala\", \"MyPassword\")\n",
    "    \n",
    "    printResults(result)\n",
    "    \n",
    "def printResults(resData):\n",
    "    print(\"Result code: {0}\".format(resData.status_code))\n",
    "    print(\"\\n\")\n",
    "    \n",
    "    print(\"Returned data: ------------\")\n",
    "    print(resData.text)\n",
    "\n",
    "if __name__ == \"__main__\":\n",
    "    main()"
   ]
  },
  {
   "cell_type": "markdown",
   "metadata": {},
   "source": [
    "## (4) Working with JSON"
   ]
  },
  {
   "cell_type": "markdown",
   "metadata": {},
   "source": [
    "### The Python JSON Module\n",
    "* Parsing functions:\n",
    "    ```\n",
    "    obj = load(file)\n",
    "    obj = loads(string)\n",
    "    ```\n",
    "* serializing functions:\n",
    "    ```\n",
    "    dump(obj, file)\n",
    "    str = dumps(obj)\n",
    "    ```\n",
    "\n",
    "**Serializing Python Data to JSON**\n",
    "\n",
    "|      Python Object      | JSON Representation |\n",
    "|:-----------------------:|:-------------------:|\n",
    "| dict                    |        object       |\n",
    "| list, tuple             |        array        |\n",
    "| str                     |        string       |\n",
    "| int, long, float, Enums |        number       |\n",
    "| True                    |         true        |\n",
    "| False                   |        false        |\n",
    "| None                    |         null        |\n",
    "\n",
    "\n",
    "**Parsing JSON into Python**\n",
    "\n",
    "|       JSON Data       | Python Object |\n",
    "|:---------------------:|:-------------:|\n",
    "| object                |      dict     |\n",
    "| array                 |      list     |\n",
    "| string                |      str      |\n",
    "| integer number        |      int      |\n",
    "| Floating point number |     float     |\n",
    "| true, false           |  True, False  |\n",
    "| null                  |      None     |"
   ]
  },
  {
   "cell_type": "markdown",
   "metadata": {},
   "source": [
    "### Parsing and serializing JSON"
   ]
  },
  {
   "cell_type": "code",
   "execution_count": 46,
   "metadata": {},
   "outputs": [
    {
     "name": "stdout",
     "output_type": "stream",
     "text": [
      "Sandwich: Reuben\n",
      "And it's toasted\n",
      "Topping: Thousand Island Dressing\n",
      "Topping: Sauerkraut\n",
      "Topping: Pickles\n"
     ]
    }
   ],
   "source": [
    "# json_parse_start.py\n",
    "\n",
    "# process JSON data returned from a server\n",
    "\n",
    "# TODO: use the JSON module\n",
    "import json\n",
    "\n",
    "def main():\n",
    "    # define a string of JSON code\n",
    "    jsonStr = '''{\n",
    "            \"sandwich\" : \"Reuben\",\n",
    "            \"toasted\" : true,\n",
    "            \"toppings\" : [\n",
    "                \"Thousand Island Dressing\",\n",
    "                \"Sauerkraut\",\n",
    "                \"Pickles\"\n",
    "            ],\n",
    "            \"price\": 8.99\n",
    "    }'''\n",
    "    \n",
    "    # TODO: parse the JSON data using loads\n",
    "    data = json.loads(jsonStr)\n",
    "    \n",
    "    # TODO: print information from the data structure\n",
    "    print(\"Sandwich: \" + data['sandwich'])\n",
    "    if (data['toasted']):\n",
    "        print(\"And it's toasted\")\n",
    "    for topping in data['toppings']:\n",
    "        print(\"Topping: \" + topping)\n",
    "\n",
    "if __name__ == \"__main__\":\n",
    "    main()"
   ]
  },
  {
   "cell_type": "code",
   "execution_count": 48,
   "metadata": {},
   "outputs": [
    {
     "name": "stdout",
     "output_type": "stream",
     "text": [
      "JSON Data: --------\n",
      "{\n",
      "    \"sandwich\": \"Reuben\",\n",
      "    \"toasted\": true,\n",
      "    \"toppings\": [\n",
      "        \"Thousand Island Dressing\",\n",
      "        \"Sauerkraut\",\n",
      "        \"Pickles\"\n",
      "    ],\n",
      "    \"price\": 8.99\n",
      "}\n"
     ]
    }
   ],
   "source": [
    "#json_serialize_start.py\n",
    "\n",
    "# Process JSON data returned from a server\n",
    "\n",
    "# use the JSON module\n",
    "import json\n",
    "\n",
    "\n",
    "def main():\n",
    "    # define a python ditcionary\n",
    "    pythonData = {\n",
    "        \"sandwich\": \"Reuben\",\n",
    "        \"toasted\": True,\n",
    "        \"toppings\": [\"Thousand Island Dressing\",\n",
    "                     \"Sauerkraut\",\n",
    "                     \"Pickles\"\n",
    "                     ],\n",
    "        \"price\": 8.99\n",
    "    }\n",
    "\n",
    "    # TODO: serialize to JSON using dumps\n",
    "    jsonStr = json.dumps(pythonData, indent = 4)\n",
    "\n",
    "    # TODO: print the resulting JSON string\n",
    "    print(\"JSON Data: --------\")\n",
    "    print(jsonStr)\n",
    "\n",
    "\n",
    "if __name__ == \"__main__\":\n",
    "    main()\n"
   ]
  },
  {
   "cell_type": "markdown",
   "metadata": {},
   "source": [
    "### JSON exception handling"
   ]
  },
  {
   "cell_type": "code",
   "execution_count": 51,
   "metadata": {},
   "outputs": [
    {
     "name": "stdout",
     "output_type": "stream",
     "text": [
      "Sandwich: Reuben\n",
      "And it's toasted!\n",
      "Topping: Thousand Island Dressing\n",
      "Topping: Sauerkraut\n",
      "Topping: Pickles\n"
     ]
    }
   ],
   "source": [
    "# json_err_start.py\n",
    "\n",
    "# Process JSON data returned from a server\n",
    "\n",
    "# use the JSON module\n",
    "import json\n",
    "from json import JSONDecodeError \n",
    "\n",
    "def main():\n",
    "    # define a string of JSON code\n",
    "    jsonStr = '''{\n",
    "            \"sandwich\" : \"Reuben\",\n",
    "            \"toasted\" : true,\n",
    "            \"toppings\" : [\n",
    "                \"Thousand Island Dressing\",\n",
    "                \"Sauerkraut\",\n",
    "                \"Pickles\"\n",
    "            ],\n",
    "            \"price\" : 8.99\n",
    "        }'''\n",
    "\n",
    "    # parse the JSON data using loads\n",
    "    try:\n",
    "        data = json.loads(jsonStr)\n",
    "    except JSONDecodeError as err:\n",
    "        print(\"Whoops, JSON decoding error\")\n",
    "        print(err.msg)\n",
    "        print(err.lineno, err.colno)\n",
    "\n",
    "    # print information from the data structure\n",
    "    print(\"Sandwich: \" + data['sandwich'])\n",
    "    if (data['toasted']):\n",
    "        print(\"And it's toasted!\")\n",
    "    for topping in data['toppings']:\n",
    "        print(\"Topping: \" + topping)\n",
    "\n",
    "\n",
    "if __name__ == \"__main__\":\n",
    "    main()"
   ]
  },
  {
   "cell_type": "markdown",
   "metadata": {},
   "source": [
    "### Requests and JSON"
   ]
  },
  {
   "cell_type": "code",
   "execution_count": 55,
   "metadata": {},
   "outputs": [
    {
     "name": "stdout",
     "output_type": "stream",
     "text": [
      "['slideshow']\n",
      "Sample Slide Show\n",
      "There are 2 slides\n"
     ]
    }
   ],
   "source": [
    "# json_req_start.py\n",
    "\n",
    "# using the requests library to access internet data\n",
    "\n",
    "#import the requests library\n",
    "import requests\n",
    "import json\n",
    "\n",
    "\n",
    "def main():\n",
    "    # Use requests to issue a standard HTTP GET request\n",
    "    url = \"http://httpbin.org/json\"\n",
    "    result = requests.get(url)\n",
    "\n",
    "    # TODO: Use the built-in JSON function to return parsed data\n",
    "    dataobj = result.json()\n",
    "#    print(json.dumps(dataobj, indent=4))\n",
    "\n",
    "    # TODO: Access data in the python object\n",
    "    print(list(dataobj.keys()))\n",
    "    \n",
    "    print(dataobj['slideshow']['title'])\n",
    "    print(\"There are {0} slides\".format(len(dataobj['slideshow']['slides'])))\n",
    "\n",
    "\n",
    "if __name__ == \"__main__\":\n",
    "    main()\n"
   ]
  },
  {
   "cell_type": "markdown",
   "metadata": {},
   "source": [
    "## (5) Simple XML Parsing"
   ]
  },
  {
   "cell_type": "markdown",
   "metadata": {},
   "source": [
    "### XML parsing models\n",
    "* **SAX**: Simple API for XML\n",
    "    * reads entire document start to finish, sequentially\n",
    "    * generates events as XML content is encountered\n",
    "    * your app defines a class to handle content events\n",
    "    * advantages:\n",
    "        * memory efficient - doesn't need to load entire doc\n",
    "        * fast - your app only gets events it cares about\n",
    "        * easy to implement, simple API\n",
    "    * drawbacks:\n",
    "        * no random access to doc content\n",
    "        * context is not passed to parser\n",
    "        * cannot modify the XML file\n",
    "* **DOM**: Document Object Model"
   ]
  },
  {
   "cell_type": "markdown",
   "metadata": {},
   "source": [
    "### The Python SAX API\n",
    "\n",
    "* import xml.sax\n",
    "* xml.sax.parse(file, handler)\n",
    "* xml.sax.parseString(string, handler)\n",
    "* class xml.sax.ContentHandler"
   ]
  },
  {
   "cell_type": "markdown",
   "metadata": {},
   "source": [
    "```\n",
    "class MyContentHandler(xml.sax.ContentHandler):\n",
    "  def __init))(self):\n",
    "    # member variable goes here\n",
    "  \n",
    "  def startDocument(self):\n",
    "    # processing starting\n",
    "  \n",
    "  def startElement(self, tagName, attrs):\n",
    "    # opening tag and attrs have been parsed\n",
    "  \n",
    "  def characters(self, text):\n",
    "    # member variable goes here\n",
    "```"
   ]
  },
  {
   "cell_type": "code",
   "execution_count": 7,
   "metadata": {},
   "outputs": [
    {
     "name": "stdout",
     "output_type": "stream",
     "text": [
      "About to start!\n",
      "Slideshow title: Sample Slide Show\n",
      "Title: Wake up to WonderWidgets!\n",
      "Title: Overview\n",
      "Finishing up!\n",
      "There were 2 slide elements\n",
      "There were 3 item elements\n"
     ]
    }
   ],
   "source": [
    "# parse XML data using the SAX parser\n",
    "\n",
    "import requests\n",
    "import xml.sax\n",
    "\n",
    "# TODO: define the ContentHandler subclass for our content\n",
    "class MyContentHandler(xml.sax.ContentHandler):\n",
    "    def __init__(self):\n",
    "        self.slideCount = 0\n",
    "        self.itemCount = 0\n",
    "        self.isInTitle = False\n",
    "\n",
    "    #TODO: Handle startElement\n",
    "    def startElement(self, tagName, attrs):\n",
    "        if tagName == \"slideshow\":\n",
    "            print(\"Slideshow title: \" + attrs['title'])\n",
    "        elif tagName == \"slide\":\n",
    "            self.slideCount += 1\n",
    "        elif tagName == \"item\":\n",
    "            self.itemCount += 1\n",
    "        elif tagName == \"title\":\n",
    "            self.isInTitle = True\n",
    "\n",
    "    #TODO: Handle endElement\n",
    "    def endElement(self, tagName):\n",
    "        if tagName == \"title\":\n",
    "            self.isInTitle = False\n",
    "\n",
    "    #TODO: Handle text data\n",
    "    def characters(self, chars):\n",
    "        if self.isInTitle:\n",
    "            print(\"Title: \" + chars)        \n",
    "\n",
    "    #TODO: Handle startDocument\n",
    "    def startDocument(self):\n",
    "        print(\"About to start!\")\n",
    "\n",
    "    #TODO: Handle endDocument\n",
    "    def endDocument(self):\n",
    "        print(\"Finishing up!\")\n",
    "        \n",
    "\n",
    "\n",
    "def main():\n",
    "    # create a new content handler for the SAX parser\n",
    "    handler = MyContentHandler()\n",
    "\n",
    "    # use the Requests lib to get XML data from the server\n",
    "    # remember that Requests auto-decodes our content\n",
    "    url = \"http://httpbin.org/xml\"\n",
    "    result = requests.get(url)\n",
    "#    print(result.text)\n",
    "\n",
    "    # TODO: call the parseString method on the XML text content received\n",
    "    xml.sax.parseString(result.text, handler)\n",
    "    \n",
    "\n",
    "    # when we're done, print out some interesting results\n",
    "    print(\"There were {0} slide elements\".format(handler.slideCount))\n",
    "    print(\"There were {0} item elements\".format(handler.itemCount))\n",
    "\n",
    "\n",
    "if __name__ == \"__main__\":\n",
    "    main()\n"
   ]
  },
  {
   "cell_type": "markdown",
   "metadata": {},
   "source": [
    "If you don't need to have random access to different parts of the XML code at different times, then SAX can be a very memory efficient way of working with XML"
   ]
  },
  {
   "cell_type": "markdown",
   "metadata": {},
   "source": [
    "## (6) XML DOM Parsing"
   ]
  },
  {
   "cell_type": "markdown",
   "metadata": {},
   "source": [
    "### The DOM API\n",
    "* You can...\n",
    "    * access any part of an XML structure at random\n",
    "    * modify the XML content\n",
    "    * represents the XML as a hierarchical tree structure\n",
    "    * xml.dom.minidom is a lightweight implementation\n",
    "    \n",
    "```\n",
    "domtree = xml.dom.minidom.parseString(str)\n",
    "\n",
    "elem.getElementById(id)\n",
    "elem.getElementsByTagName(tagname)\n",
    "\n",
    "elem.getAttribute(attrName)\n",
    "elem.setAttribute(attrName, val\n",
    "\n",
    "newElem = document.createElement(tagName)\n",
    "newElem = document.createTextNode(strOfText)\n",
    "elem.appendChild(newElem)\n",
    "\n",
    "```"
   ]
  },
  {
   "cell_type": "code",
   "execution_count": 17,
   "metadata": {},
   "outputs": [
    {
     "name": "stdout",
     "output_type": "stream",
     "text": [
      "The root element is slideshow\n",
      "Title: Sample Slide Show\n",
      "There are 3 item tags\n",
      "Now there are 4 item tags\n"
     ]
    }
   ],
   "source": [
    "# dom_parse_start.py\n",
    "\n",
    "# use the XML DOM to parse a document in memory\n",
    "\n",
    "import xml.dom.minidom\n",
    "import requests\n",
    "\n",
    "def main():\n",
    "    # retrieve the XML data using the requests library\n",
    "    url = \"http://httpbin.org/xml\"\n",
    "    result = requests.get(url)\n",
    "    \n",
    "    # TODO: parse the returned content into a DOM structure\n",
    "    domtree = xml.dom.minidom.parseString(result.text)\n",
    "    rootnode = domtree.documentElement\n",
    "    \n",
    "    # TODO: display some information about the content\n",
    "    print(\"The root element is {0}\".format(rootnode.nodeName))\n",
    "    print(\"Title: {0}\".format(rootnode.getAttribute(\"title\")))\n",
    "    \n",
    "    items = domtree.getElementsByTagName(\"item\")\n",
    "    print(\"There are {} item tags\".format(items.length))\n",
    "    \n",
    "    # manipulate the XML content in memory\n",
    "    # TODO: create a new item tag\n",
    "    newItem = domtree.createElement(\"item\")\n",
    "    \n",
    "    # TODO: add some text to the item\n",
    "    newItem.appendChild(domtree.createTextNode(\"New item from code\"))\n",
    "    \n",
    "    # TODO: now add the item to the first slide\n",
    "    firstSlide = domtree.getElementsByTagName(\"slide\")[0]\n",
    "    firstSlide.appendChild(newItem)\n",
    "    \n",
    "    # TODO: now count the item tags again\n",
    "    items = domtree.getElementsByTagName(\"item\")\n",
    "    print(\"Now there are {0} item tags\".format(items.length))\n",
    "\n",
    "if __name__ == \"__main__\":\n",
    "    main()\n",
    "    "
   ]
  },
  {
   "cell_type": "markdown",
   "metadata": {},
   "source": [
    "### The ElementTree API\n",
    "* focuses on being simpler and more efficient than dom\n",
    "* elements are treated like lists\n",
    "* attributes are treated like dictionaries\n",
    "* searching for content in XML is straightforward\n",
    "```\n",
    "elem.findall(queryExpression)\n",
    "```\n",
    "(DIDN'T COPY OVER TABLE)"
   ]
  },
  {
   "cell_type": "markdown",
   "metadata": {},
   "source": [
    "### Using lxml"
   ]
  },
  {
   "cell_type": "code",
   "execution_count": 12,
   "metadata": {},
   "outputs": [
    {
     "name": "stdout",
     "output_type": "stream",
     "text": [
      "Requirement already satisfied: lxml in /home/nbuser/anaconda3_501/lib/python3.6/site-packages (4.1.0)\r\n"
     ]
    }
   ],
   "source": [
    "!pip install lxml"
   ]
  },
  {
   "cell_type": "code",
   "execution_count": 18,
   "metadata": {},
   "outputs": [
    {
     "name": "stdout",
     "output_type": "stream",
     "text": [
      "slideshow\n",
      "Sample Slide Show\n",
      "slide\n",
      "slide\n",
      "There were 3 slide elements\n",
      "There were 3 item elements\n"
     ]
    }
   ],
   "source": [
    "# use the lxml library to parse a document in memory\n",
    "import requests\n",
    "from lxml import etree\n",
    "\n",
    "def main():\n",
    "    # retrieve the XML data using the requests library\n",
    "    url = \"http://httpbin.org/xml\"\n",
    "    result = requests.get(url)\n",
    "    \n",
    "    # todo: build a doc structure using the ElementTree API\n",
    "    doc = etree.fromstring(result.content)\n",
    "#    print(result.text)\n",
    "    \n",
    "    # todo: access the value of an attribute\n",
    "    print(doc.tag)\n",
    "    print(doc.attrib['title'])\n",
    "    \n",
    "    # todo: iterate over tags\n",
    "    for elem in doc.findall(\"slide\"):\n",
    "        print(elem.tag)\n",
    "    \n",
    "    # todo: create a new slide\n",
    "    newSlide = etree.SubElement(doc, \"slide\")\n",
    "    newSlide.text = \"This is a new slide\"\n",
    "    \n",
    "    # todo: count the number of slides\n",
    "    slideCount = len(doc.findall(\"slide\"))\n",
    "    itemCount = len(doc.findall(\".//item\"))\n",
    "    \n",
    "    print(\"There were {0} slide elements\".format(slideCount))\n",
    "    print(\"There were {0} item elements\".format(itemCount))\n",
    "\n",
    "if __name__ == \"__main__\":\n",
    "    main()    "
   ]
  }
 ],
 "metadata": {
  "kernelspec": {
   "display_name": "Python 3.6",
   "language": "python",
   "name": "python36"
  },
  "language_info": {
   "codemirror_mode": {
    "name": "ipython",
    "version": 3
   },
   "file_extension": ".py",
   "mimetype": "text/x-python",
   "name": "python",
   "nbconvert_exporter": "python",
   "pygments_lexer": "ipython3",
   "version": "3.6.3"
  }
 },
 "nbformat": 4,
 "nbformat_minor": 2
}
