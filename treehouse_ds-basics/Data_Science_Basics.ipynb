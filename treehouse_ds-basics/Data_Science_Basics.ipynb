{
  "nbformat": 4,
  "nbformat_minor": 0,
  "metadata": {
    "colab": {
      "name": "Data Science Basics.ipynb",
      "version": "0.3.2",
      "provenance": [],
      "collapsed_sections": [],
      "toc_visible": true
    },
    "kernelspec": {
      "name": "python3",
      "display_name": "Python 3"
    }
  },
  "cells": [
    {
      "metadata": {
        "id": "V0xHYnSedbrk",
        "colab_type": "text"
      },
      "cell_type": "markdown",
      "source": [
        "# (Treehouse) Data Science Basics\n",
        "\n",
        "This course will follow the basic procedures of conducting data science work, namely selecting and describing data, and munging it into a communicable form. At the end of this course, students will be able to pick a small dataset available online and, using Python language, quickly calculate descriptive statistics and show their results with basic charts and tables.\n",
        "\n",
        "What you'll learn:\n",
        "* What is data science?\n",
        "* Loading raw data\n",
        "* Cleaning data\n",
        "* MatPlotLib\n",
        "* NumPy\n",
        "* Creating reports"
      ]
    },
    {
      "metadata": {
        "id": "21TWZQqirrEF",
        "colab_type": "toc"
      },
      "cell_type": "markdown",
      "source": [
        ">[(Treehouse) Data Science Basics](#scrollTo=V0xHYnSedbrk)\n",
        "\n",
        ">>[Getting Started with Data Science](#scrollTo=aFul6QsCd3fs)\n",
        "\n",
        ">>>[What is data science?](#scrollTo=rR1hgCIXgEe4)\n",
        "\n",
        ">>>[Selecting data](#scrollTo=gvfEnJZIrdFQ)\n",
        "\n",
        ">>>[Obtaining data](#scrollTo=9l_d6dTHrdct)\n",
        "\n",
        ">>>[Installing libraries](#scrollTo=Lawq07y7reYu)\n",
        "\n",
        ">>[Describing Data](#scrollTo=d11IW33ZeGlj)\n",
        "\n",
        ">>>[Loading raw data](#scrollTo=vMDGVClAsGQo)\n",
        "\n",
        ">>>[Calculating descriptive statistics](#scrollTo=SDWSDfr8tEJR)\n",
        "\n",
        ">>>[Calculating sums and totals](#scrollTo=H76Rn1Bn9LGR)\n",
        "\n",
        ">>>[Calculating averages](#scrollTo=ChPvQd0r9O48)\n",
        "\n",
        ">>>[Max and min](#scrollTo=rDMJ8VIj9UvD)\n",
        "\n",
        ">>[Cleaning Data](#scrollTo=l5IRrzW1eX4u)\n",
        "\n",
        ">>>[Cleaning up your data](#scrollTo=ZKYXo7f59dP4)\n",
        "\n",
        ">>>[Filering rows](#scrollTo=N2rjmhQv9ffa)\n",
        "\n",
        ">>>[Grouping rows](#scrollTo=cv_Ii-B49ht_)\n",
        "\n",
        ">>[Exporting](#scrollTo=zEkiFifkflKW)\n",
        "\n",
        ">>>[Exporting CSV files](#scrollTo=KK3IkFAb9loI)\n",
        "\n",
        ">>>[Writing functions to export csv files](#scrollTo=xQIg7Gli9n07)\n",
        "\n",
        ">>>[Exporting to Excel](#scrollTo=wHPplrnF9qW_)\n",
        "\n",
        ">>>[Challenge: Exporting](#scrollTo=9j72ep2bW42o)\n",
        "\n",
        ">>[Charts](#scrollTo=NwNR0nBdpETJ)\n",
        "\n",
        ">>>[Line charts](#scrollTo=Lt1mG15LpHuB)\n",
        "\n",
        ">>>[Bar charts](#scrollTo=v0MiZxompKgD)\n",
        "\n",
        ">>>[Tables](#scrollTo=ce80c2CupM27)\n",
        "\n",
        ">>[Reports](#scrollTo=q1U2YxPXpZKW)\n",
        "\n",
        ">>>[Styling](#scrollTo=35yjVF5apbIt)\n",
        "\n",
        ">>>[Saving PDFs](#scrollTo=Nww3XP2CpcuS)\n",
        "\n",
        ">>>[Adding automation](#scrollTo=YRRZwgnipe6f)\n",
        "\n"
      ]
    },
    {
      "metadata": {
        "id": "aFul6QsCd3fs",
        "colab_type": "text"
      },
      "cell_type": "markdown",
      "source": [
        "## Getting Started with Data Science\n",
        "\n",
        "Learn one of the many techniques for harvesting raw data and summarizing it into knowledge to share with others\n",
        "\n",
        "* What is data science?\n",
        "* Selecting data\n",
        "* Obtaining data\n",
        "* Installing libraries"
      ]
    },
    {
      "metadata": {
        "id": "rR1hgCIXgEe4",
        "colab_type": "text"
      },
      "cell_type": "markdown",
      "source": [
        "### What is data science?\n",
        "Data science involves many techniques for harvesting raw data and summarizing it into knowledge to share with others."
      ]
    },
    {
      "metadata": {
        "id": "gvfEnJZIrdFQ",
        "colab_type": "text"
      },
      "cell_type": "markdown",
      "source": [
        "### Selecting data"
      ]
    },
    {
      "metadata": {
        "id": "9l_d6dTHrdct",
        "colab_type": "text"
      },
      "cell_type": "markdown",
      "source": [
        "### Obtaining data"
      ]
    },
    {
      "metadata": {
        "id": "Lawq07y7reYu",
        "colab_type": "text"
      },
      "cell_type": "markdown",
      "source": [
        "### Installing libraries"
      ]
    },
    {
      "metadata": {
        "id": "d11IW33ZeGlj",
        "colab_type": "text"
      },
      "cell_type": "markdown",
      "source": [
        "## Describing Data\n",
        "We are going to be writing functions to get our raw data into better shape. This will help prepare the data to make creating reports easier.\n",
        "\n",
        "* Loading raw data\n",
        "* Calculating descriptive statistics\n",
        "* Calculating sums and totals\n",
        "* Calculating averages\n",
        "* Max and min"
      ]
    },
    {
      "metadata": {
        "id": "vMDGVClAsGQo",
        "colab_type": "text"
      },
      "cell_type": "markdown",
      "source": [
        "### Loading raw data\n",
        "\n",
        "We're going to be writing functions to get our raw data into better shape. This will help us prepare the data to make our later work of creating reports easier."
      ]
    },
    {
      "metadata": {
        "id": "dYBCoged2bG0",
        "colab_type": "text"
      },
      "cell_type": "markdown",
      "source": [
        "\n",
        "*   Once we have our data in a data structure, in our casea a list of lists, we can use the concept of creating copies for extracting smaller samples to work with.\n",
        "*   We can keep on writing functions for all the repetitive actions\n",
        "\n",
        "\n",
        "\n"
      ]
    },
    {
      "metadata": {
        "id": "X5LlZC0Psmz5",
        "colab_type": "code",
        "outputId": "d6c0dd2d-2014-4dee-f5d0-3394db41e670",
        "colab": {
          "base_uri": "https://localhost:8080/",
          "height": 54
        }
      },
      "cell_type": "code",
      "source": [
        "# s2v1.py\n",
        "# Loading Raw Data\n",
        "\n",
        "import csv\n",
        "import numpy\n",
        "\n",
        "def open_with_csv(filename, d='\\t'):\n",
        "    data = []\n",
        "    with open(filename, encoding='utf-8') as tsvin:\n",
        "        tie_reader = csv.reader(tsvin, delimiter=d)\n",
        "        for line in tie_reader:\n",
        "            data.append(line)\n",
        "        return data\n",
        "\n",
        "data_from_csv = open_with_csv('data.csv')\n",
        "print(data_from_csv[0])\n",
        "\n",
        "FIELDNAMES = ['', 'id', 'priceLabel', 'name', 'brandId', 'brandName', 'imageLink', 'desc', 'vendor', 'patterned', 'material'] \n",
        "\n",
        "DATATYPES = [('myint', 'i'), ('myid', 'i'), ('price', 'f8'), ('name', 'a200'), ('brandID', '<i8'), ('brandName', 'a200'),\n",
        "            ('imageURL', '|S500'), ('description', '|S900'), ('vendor', '|S100'), ('pattern', 'S50'), ('material', '|S50'),]\n",
        "\n",
        "def load_data(filename, d='\\t'):\n",
        "    my_csv = numpy.genfromtxt(filename, delimiter=d, skip_header=1, invalid_raise=False, names=FIELDNAMES, dtype=DATATYPES)\n",
        "    return my_csv\n",
        "\n",
        "my_csv = load_data('data.csv')"
      ],
      "execution_count": 0,
      "outputs": [
        {
          "output_type": "stream",
          "text": [
            "['', 'id', 'priceLabel', 'name', 'brandId', 'brandName', 'imageLink', 'desc', 'vendor', 'print', 'material']\n"
          ],
          "name": "stdout"
        }
      ]
    },
    {
      "metadata": {
        "id": "SDWSDfr8tEJR",
        "colab_type": "text"
      },
      "cell_type": "markdown",
      "source": [
        "### Calculating descriptive statistics\n",
        "Using built-in functions to desribe the data"
      ]
    },
    {
      "metadata": {
        "id": "6JZnLIfntG-M",
        "colab_type": "code",
        "outputId": "0abbedec-1d1b-43a5-d040-92ef93ce5dc7",
        "colab": {
          "base_uri": "https://localhost:8080/",
          "height": 34
        }
      },
      "cell_type": "code",
      "source": [
        "# length of a list\n",
        "apples = [1,2,3]\n",
        "len(apples)"
      ],
      "execution_count": 0,
      "outputs": [
        {
          "output_type": "execute_result",
          "data": {
            "text/plain": [
              "3"
            ]
          },
          "metadata": {
            "tags": []
          },
          "execution_count": 2
        }
      ]
    },
    {
      "metadata": {
        "id": "LRaLLyhY65gw",
        "colab_type": "code",
        "outputId": "09a74355-1bc0-4f8b-bc9c-f91cca0a0b11",
        "colab": {
          "base_uri": "https://localhost:8080/",
          "height": 34
        }
      },
      "cell_type": "code",
      "source": [
        "def number_of_records(data_sample):\n",
        "  return len(data_from_csv)\n",
        "  \n",
        "number_of_ties = number_of_records(data_from_csv) - 1 # first line is header\n",
        "\n",
        "print(number_of_ties, \"ties in our data sample\")"
      ],
      "execution_count": 0,
      "outputs": [
        {
          "output_type": "stream",
          "text": [
            "5050 ties in our data sample\n"
          ],
          "name": "stdout"
        }
      ]
    },
    {
      "metadata": {
        "id": "2kJ4zA5o7z7h",
        "colab_type": "text"
      },
      "cell_type": "markdown",
      "source": [
        "* **sort(x)**: sorts the items of the list in place. It only modifies the list and has no return value printed\n",
        "* **reverse(x)**: reverses the elements of the list in place\n",
        "* **list.count(x)**: the number of times \"x\" appears in the list\n",
        "* **list.append(x)**: appds an item to the end of the list"
      ]
    },
    {
      "metadata": {
        "id": "qjEFQX6L65rM",
        "colab_type": "code",
        "outputId": "61c79350-5060-41f8-89dd-7cd6ab225a04",
        "colab": {
          "base_uri": "https://localhost:8080/",
          "height": 68
        }
      },
      "cell_type": "code",
      "source": [
        "my_apple_bin = [\"green\", \"red\", \"red\", \"green\", \"red\", \"green\"]\n",
        "your_apple_bin = [\"green\", \"green\", \"red\", \"green\", \"green\", \"red\"]\n",
        "\n",
        "my_green_apples = my_apple_bin.count(\"green\")\n",
        "print(my_green_apples)\n",
        "\n",
        "your_green_apples = your_apple_bin.count('red')\n",
        "print(your_green_apples)\n",
        "\n",
        "all_green_apples = my_green_apples + your_green_apples\n",
        "print(all_green_apples)"
      ],
      "execution_count": 0,
      "outputs": [
        {
          "output_type": "stream",
          "text": [
            "3\n",
            "2\n",
            "5\n"
          ],
          "name": "stdout"
        }
      ]
    },
    {
      "metadata": {
        "id": "vq9rcKwI65yd",
        "colab_type": "code",
        "outputId": "15412ba3-53c4-4190-ad18-9bc0bd8793c3",
        "colab": {
          "base_uri": "https://localhost:8080/",
          "height": 34
        }
      },
      "cell_type": "code",
      "source": [
        "def number_of_records2(data_sample):\n",
        "  return data_sample.size\n",
        "\n",
        "number_of_ties_my_csv = number_of_records2(my_csv)\n",
        "print(number_of_ties_my_csv, \"ties in our data sample\")"
      ],
      "execution_count": 0,
      "outputs": [
        {
          "output_type": "stream",
          "text": [
            "5050 ties in our data sample\n"
          ],
          "name": "stdout"
        }
      ]
    },
    {
      "metadata": {
        "id": "H76Rn1Bn9LGR",
        "colab_type": "text"
      },
      "cell_type": "markdown",
      "source": [
        "### Calculating sums and totals\n",
        "Using NumPy to calculate sums"
      ]
    },
    {
      "metadata": {
        "id": "6uNZijJw9Kqe",
        "colab_type": "code",
        "outputId": "69606d47-1fd2-400b-d74f-4caa726d2664",
        "colab": {
          "base_uri": "https://localhost:8080/",
          "height": 34
        }
      },
      "cell_type": "code",
      "source": [
        "# s2v3.py\n",
        "# from s2v2 import *\n",
        "\n",
        "def calculate_sum(data_sample):\n",
        "  total = 0\n",
        "  for row in data_sample[1:]:\n",
        "    price = float(row[2])\n",
        "    total += price\n",
        "  return total\n",
        "\n",
        "print(calculate_sum(data_from_csv))"
      ],
      "execution_count": 0,
      "outputs": [
        {
          "output_type": "stream",
          "text": [
            "702600.6900000003\n"
          ],
          "name": "stdout"
        }
      ]
    },
    {
      "metadata": {
        "id": "mDsRRUfXAFBw",
        "colab_type": "code",
        "outputId": "1771f058-f9ef-4754-aafa-13babd5eba5f",
        "colab": {
          "base_uri": "https://localhost:8080/",
          "height": 34
        }
      },
      "cell_type": "code",
      "source": [
        "# list comprehension to make more succinct\n",
        "\n",
        "def calculate_sum_succinct(data_sample):\n",
        "  prices = [float(row[2]) for row in data_sample[1:]]\n",
        "  return sum(prices)\n",
        "\n",
        "print(calculate_sum_succinct(data_from_csv))"
      ],
      "execution_count": 0,
      "outputs": [
        {
          "output_type": "stream",
          "text": [
            "702600.6900000003\n"
          ],
          "name": "stdout"
        }
      ]
    },
    {
      "metadata": {
        "id": "3i1vDs6zCyOy",
        "colab_type": "code",
        "outputId": "fe56ee1b-4e78-498f-8a56-4b11315f72c1",
        "colab": {
          "base_uri": "https://localhost:8080/",
          "height": 34
        }
      },
      "cell_type": "code",
      "source": [
        "# lambda function list comprehension\n",
        "\n",
        "def calculate_sum_concise(data_sample):\n",
        "  prices = list(map(lambda x: float(x[2]), data_sample[1:]))\n",
        "  return sum(prices)\n",
        "\n",
        "print(calculate_sum_concise(data_from_csv))"
      ],
      "execution_count": 0,
      "outputs": [
        {
          "output_type": "stream",
          "text": [
            "702600.6900000003\n"
          ],
          "name": "stdout"
        }
      ]
    },
    {
      "metadata": {
        "id": "hIx1KVGpDikW",
        "colab_type": "code",
        "outputId": "fb6971e8-becc-449f-a88e-37e7965fd682",
        "colab": {
          "base_uri": "https://localhost:8080/",
          "height": 34
        }
      },
      "cell_type": "code",
      "source": [
        "# numpy sum function\n",
        "\n",
        "def calc_numpy_sum(price):\n",
        "  prices_in_float = [float(line) for line in price]\n",
        "  total = numpy.sum(prices_in_float)\n",
        "  return total\n",
        "\n",
        "price = my_csv['priceLabel']\n",
        "my_sum = calc_numpy_sum(price)\n",
        "my_sum"
      ],
      "execution_count": 0,
      "outputs": [
        {
          "output_type": "execute_result",
          "data": {
            "text/plain": [
              "702600.69"
            ]
          },
          "metadata": {
            "tags": []
          },
          "execution_count": 9
        }
      ]
    },
    {
      "metadata": {
        "id": "ChPvQd0r9O48",
        "colab_type": "text"
      },
      "cell_type": "markdown",
      "source": [
        "### Calculating averages\n",
        "The 'mean', or the average, depending on how you want to call it can easily be calculated with a simple formula. It is thet otal divided by the number of records"
      ]
    },
    {
      "metadata": {
        "id": "VjmUOkYT9R-d",
        "colab_type": "code",
        "outputId": "1f357ff3-eb91-40e2-eabe-d69c15d303b6",
        "colab": {
          "base_uri": "https://localhost:8080/",
          "height": 51
        }
      },
      "cell_type": "code",
      "source": [
        "def find_average(data_sample, header=False):\n",
        "  if header:\n",
        "    data_sample = data_sample[1:]\n",
        "  total = calculate_sum(data_sample)\n",
        "  size = number_of_records(data_sample)\n",
        "  average = total / size\n",
        "  return average\n",
        "\n",
        "average_price = find_average(data_from_csv, True)\n",
        "print(\"Average =\",average_price)\n",
        "\n",
        "# format the number more cleanly using string formatting - to two decimal places\n",
        "print('Average = {:03.2f}'.format(average_price))"
      ],
      "execution_count": 0,
      "outputs": [
        {
          "output_type": "stream",
          "text": [
            "Average = 139.0775806770937\n",
            "Average = 139.08\n"
          ],
          "name": "stdout"
        }
      ]
    },
    {
      "metadata": {
        "id": "LE1l_73d9VBs",
        "colab_type": "code",
        "outputId": "bd2a9c29-662f-4dd7-8093-b2295fdd3c1e",
        "colab": {
          "base_uri": "https://localhost:8080/",
          "height": 102
        }
      },
      "cell_type": "code",
      "source": [
        "# check values of your variables using the built in type() function\n",
        "\n",
        "print(average_price, int(average_price)) # rounds int down\n",
        "print(type(int(average_price)))\n",
        "print(type(average_price))\n",
        "print(type(data_from_csv))\n",
        "print(type(my_csv))"
      ],
      "execution_count": 0,
      "outputs": [
        {
          "output_type": "stream",
          "text": [
            "139.0775806770937 139\n",
            "<class 'int'>\n",
            "<class 'float'>\n",
            "<class 'list'>\n",
            "<class 'numpy.ndarray'>\n"
          ],
          "name": "stdout"
        }
      ]
    },
    {
      "metadata": {
        "id": "vi7N5R3iIO7F",
        "colab_type": "code",
        "outputId": "eb75dbe5-5161-46b2-e84f-88164cd5ff40",
        "colab": {
          "base_uri": "https://localhost:8080/",
          "height": 51
        }
      },
      "cell_type": "code",
      "source": [
        "midpoint = round(number_of_ties / 2)\n",
        "message = \"Average of {} half = ${:03.2f}\"\n",
        "print(message.format(\"\", find_average(data_from_csv[:midpoint], True)))\n",
        "print(message.format(\"\", find_average(data_from_csv[midpoint:], False)))"
      ],
      "execution_count": 0,
      "outputs": [
        {
          "output_type": "stream",
          "text": [
            "Average of  half = $79.26\n",
            "Average of  half = $59.78\n"
          ],
          "name": "stdout"
        }
      ]
    },
    {
      "metadata": {
        "id": "rDMJ8VIj9UvD",
        "colab_type": "text"
      },
      "cell_type": "markdown",
      "source": [
        "### Max and min\n",
        "Maximum and minimum values are different from the previous types of metrics. Instead of providing a figure that takes the whole range, it provides a value that represents the end of a range"
      ]
    },
    {
      "metadata": {
        "id": "0Cro2TRuI9J9",
        "colab_type": "code",
        "outputId": "6ae98577-bc3a-4b8b-9e5f-7a02140fd704",
        "colab": {
          "base_uri": "https://localhost:8080/",
          "height": 34
        }
      },
      "cell_type": "code",
      "source": [
        "# s2v5.py\n",
        "\n",
        "def find_max(data_sample, col):\n",
        "  temp_list = []\n",
        "  for row in data_sample:\n",
        "    price = float(row[col])\n",
        "    temp_list.append(price)\n",
        "  return max(temp_list)\n",
        "\n",
        "# most expensive tie in our data sample\n",
        "print(find_max(data_from_csv[1:], 2))"
      ],
      "execution_count": 0,
      "outputs": [
        {
          "output_type": "stream",
          "text": [
            "711.0\n"
          ],
          "name": "stdout"
        }
      ]
    },
    {
      "metadata": {
        "id": "5V2NjhPx9Yxc",
        "colab_type": "code",
        "outputId": "6fb958fd-b4ed-4ae0-c4d2-df624654d102",
        "colab": {
          "base_uri": "https://localhost:8080/",
          "height": 34
        }
      },
      "cell_type": "code",
      "source": [
        "def find_min(data_sample, col):\n",
        "  temp_list = []\n",
        "  for row in data_sample:\n",
        "    price = float(row[col])\n",
        "    temp_list.append(price)\n",
        "  return min(temp_list)\n",
        "\n",
        "# least expensive tie in our data sample\n",
        "print(find_min(data_from_csv[1:], 2))"
      ],
      "execution_count": 0,
      "outputs": [
        {
          "output_type": "stream",
          "text": [
            "10.0\n"
          ],
          "name": "stdout"
        }
      ]
    },
    {
      "metadata": {
        "id": "UobhxuzkKitg",
        "colab_type": "code",
        "outputId": "2c2ba8bf-d152-4e89-bb83-80ccd75ced2e",
        "colab": {
          "base_uri": "https://localhost:8080/",
          "height": 51
        }
      },
      "cell_type": "code",
      "source": [
        "# combine the two functions above into one\n",
        "\n",
        "def find_max_min(data_sample, col, m='max'):\n",
        "    temp_list = []\n",
        "    val = 0\n",
        "    for row in data_sample:\n",
        "        price = float(row[col])\n",
        "        temp_list.append(price)\n",
        "    if m == \"max\":\n",
        "        val = max(temp_list)\n",
        "    elif m == \"min\":\n",
        "        val = min(temp_list)\n",
        "    else: # hopefully we don't come to this\n",
        "        pass\n",
        "    return val   \n",
        "\n",
        "# cheapest tie in our data sample\n",
        "print(find_max_min(data_from_csv[1:], 2, 'min'))\n",
        "\n",
        "# most expensive tie in our data sample\n",
        "print(find_max_min(data_from_csv[1:], 2, 'max'))"
      ],
      "execution_count": 0,
      "outputs": [
        {
          "output_type": "stream",
          "text": [
            "10.0\n",
            "711.0\n"
          ],
          "name": "stdout"
        }
      ]
    },
    {
      "metadata": {
        "id": "PCzd5e18Lzjb",
        "colab_type": "code",
        "outputId": "24c463e7-7f44-43c8-e1d6-677b575a77df",
        "colab": {
          "base_uri": "https://localhost:8080/",
          "height": 34
        }
      },
      "cell_type": "code",
      "source": [
        "price = my_csv['priceLabel']\n",
        "price_in_float = [float(x) for x in price]\n",
        "\n",
        "numpy_max = numpy.amax(price_in_float)\n",
        "print(numpy_max)"
      ],
      "execution_count": 0,
      "outputs": [
        {
          "output_type": "stream",
          "text": [
            "711.0\n"
          ],
          "name": "stdout"
        }
      ]
    },
    {
      "metadata": {
        "id": "l5IRrzW1eX4u",
        "colab_type": "text"
      },
      "cell_type": "markdown",
      "source": [
        "## Cleaning Data\n",
        "Filter through data to find specific characteristics\n",
        "* Cleaning up your data\n",
        "* Filtering rows\n",
        "* Grouping rows"
      ]
    },
    {
      "metadata": {
        "id": "ZKYXo7f59dP4",
        "colab_type": "text"
      },
      "cell_type": "markdown",
      "source": [
        "### Cleaning up your data\n",
        "No matter your data source, you should always expect to clean your datasets"
      ]
    },
    {
      "metadata": {
        "id": "C-RGjm-Qfjzn",
        "colab_type": "code",
        "outputId": "22401ae5-1b6b-4b77-ab63-db77455e3c64",
        "colab": {
          "base_uri": "https://localhost:8080/",
          "height": 34
        }
      },
      "cell_type": "code",
      "source": [
        "# s3v1\n",
        "def create_bool_field_from_search_term(data_sample, search_term):\n",
        "    new_array = []\n",
        "    new_array.append(data_sample[0].append(search_term))\n",
        "    \n",
        "    for row in data_sample[1:]:\n",
        "        new_bool_field = False\n",
        "        if search_term in row[7]:\n",
        "            new_bool_field = True\n",
        "            \n",
        "            row.append(new_bool_field)\n",
        "            new_array.append(row)\n",
        "            \n",
        "    return new_array\n",
        "  \n",
        "\n",
        "my_new_csv = create_bool_field_from_search_term(data_from_csv, \"cashmere\")\n",
        "#print(\"Length:\", number_of_records(my_new_csv))\n",
        "\n",
        "def filter_column_by_bool(data_sample, col):\n",
        "  matches_search_term = []\n",
        "  \n",
        "  for item in data_sample[1:]:\n",
        "    if item[col]:\n",
        "      matches_search_term.append(item)\n",
        "  return matches_search_term\n",
        "\n",
        "my_new_csv = create_bool_field_from_search_term(data_from_csv, \"cashmere\")\n",
        "number_of_cashmere_ties =  number_of_records(filter_column_by_bool(my_new_csv, 11))\n",
        "print(\"Length:\", number_of_cashmere_ties)"
      ],
      "execution_count": 0,
      "outputs": [
        {
          "output_type": "stream",
          "text": [
            "Length: 5051\n"
          ],
          "name": "stdout"
        }
      ]
    },
    {
      "metadata": {
        "id": "uiyCCc6Eco1n",
        "colab_type": "code",
        "outputId": "7d5bb013-e51f-44cf-9793-02b729660cb7",
        "colab": {
          "base_uri": "https://localhost:8080/",
          "height": 34
        }
      },
      "cell_type": "code",
      "source": [
        "# Clean Up Your Data\n",
        "\n",
        "def create_bool_field_from_search_term(data_sample, search_term):\n",
        "    new_array = []\n",
        "    new_array.append(data_sample[0].append(search_term))\n",
        "    \n",
        "    for row in data_sample[1:]:\n",
        "        new_bool_field = False\n",
        "        if search_term in row[7]:\n",
        "            new_bool_field = True\n",
        "            \n",
        "            row.append(new_bool_field)\n",
        "            new_array.append(row)\n",
        "            \n",
        "    return new_array\n",
        "\n",
        "def filter_column_by_bool(data_sample, col):\n",
        "    matches_search_term = []\n",
        "    \n",
        "    for item in data_sample[1:]:\n",
        "        if item[col]:\n",
        "            matches_search_term.append(item)\n",
        "            \n",
        "    return matches_search_term    \n",
        "        \n",
        "\n",
        "my_new_csv = create_bool_field_from_search_term(data_from_csv, \"cashmere\")\n",
        "number_of_cashmere_ties = number_of_records(filter_column_by_bool(my_new_csv, 11))\n",
        "print(\"Length:\", number_of_cashmere_ties)"
      ],
      "execution_count": 0,
      "outputs": [
        {
          "output_type": "stream",
          "text": [
            "Length: 5051\n"
          ],
          "name": "stdout"
        }
      ]
    },
    {
      "metadata": {
        "id": "NhgPk5qMfl6g",
        "colab_type": "code",
        "outputId": "b410e190-d1e8-4167-85fb-80c8b06add30",
        "colab": {
          "base_uri": "https://localhost:8080/",
          "height": 34
        }
      },
      "cell_type": "code",
      "source": [
        "# FROM SOLUTIONS\n",
        "\n",
        "def create_bool_field_from_search_term(data_sample, search_term):\n",
        "  new_array = []\n",
        "  new_array.append(data_sample[0].append(search_term))\n",
        "  \n",
        "  for row in data_sample[1:]:\n",
        "    new_bool_field = False\n",
        "    if search_term in row[7]: \n",
        "      new_bool_field = True\n",
        "      \n",
        "    row.append(new_bool_field)\n",
        "    new_array.append(row)\n",
        "  \n",
        "  return new_array\n",
        "\n",
        "def filter_col_by_bool(data_sample, col):\n",
        "  matches_search_term = []\n",
        "  \n",
        "  for item in data_sample[1:]:\n",
        "    if item[col]:\n",
        "      matches_search_term.append(item)\n",
        "  \n",
        "  return matches_search_term\n",
        "  \n",
        "my_new_csv = create_bool_field_from_search_term(data_from_csv, \"cashmere\")\n",
        "number_of_cashmere_ties = number_of_records(filter_col_by_bool(my_new_csv, 11))\n",
        "\n",
        "print(\"Length:\", number_of_cashmere_ties)"
      ],
      "execution_count": 0,
      "outputs": [
        {
          "output_type": "stream",
          "text": [
            "Length: 5051\n"
          ],
          "name": "stdout"
        }
      ]
    },
    {
      "metadata": {
        "id": "N2rjmhQv9ffa",
        "colab_type": "text"
      },
      "cell_type": "markdown",
      "source": [
        "### Filering rows\n",
        "Filtering is helpful when you want to look at a subset of data - it is easier to work with smaller samples"
      ]
    },
    {
      "metadata": {
        "id": "IH4AkEt1ZmIe",
        "colab_type": "code",
        "outputId": "03674907-cf55-429b-8726-4fc1fc789f1b",
        "colab": {
          "base_uri": "https://localhost:8080/",
          "height": 102
        }
      },
      "cell_type": "code",
      "source": [
        "# Filter Rows\n",
        "\n",
        "def filter_col_by_string(data_sample, field, filter_condition):\n",
        "    filtered_rows = []\n",
        "    \n",
        "    col = int(data_sample[0].index(field))\n",
        "    filtered_rows.append(data_sample[0])\n",
        "    \n",
        "    for item in data_sample[1:]:\n",
        "        if item[col] == filter_condition:\n",
        "            filtered_rows.append(item)\n",
        "    \n",
        "    return filtered_rows\n",
        "\n",
        "silk_ties = filter_col_by_string(data_from_csv, \"material\", \"_silk\")\n",
        "wool_ties = filter_col_by_string(data_from_csv, \"material\", \"_wool\")\n",
        "cotton_ties = filter_col_by_string(data_from_csv, \"material\", \"_cotton\")\n",
        "gucci_ties = filter_col_by_string(data_from_csv, \"brandName\", \"Gucci\")\n",
        "\n",
        "print(\"Found {} Gucci ties.\".format(number_of_records(gucci_ties)))\n",
        "print(\"Found {} silk ties.\".format(number_of_records(silk_ties)))\n",
        "print(\"Found {} wool ties.\".format(number_of_records(wool_ties)))\n",
        "print(\"Found {} cottom ties.\".format(number_of_records(cotton_ties)))\n",
        "\n",
        "def filter_col_by_float(data_sample, field, direction, filter_condition):\n",
        "    filtered_rows = []\n",
        "    \n",
        "    col = int(data_sample[0].index(field))\n",
        "    cond = float(filter_condition)\n",
        "    \n",
        "    for row in data_sample[1:]:\n",
        "        element = float(row[col])\n",
        "        \n",
        "        if direction == \"<\":\n",
        "            if element < cond:\n",
        "                filtered_rows.append(row)\n",
        "        elif direction == \"<=\":\n",
        "            if element <= cond:\n",
        "                filtered_rows.append(row)\n",
        "        elif direction == \">\":\n",
        "            if element > cond:\n",
        "                filtered_rows.append(row)\n",
        "        elif direction == \">=\":\n",
        "            if element >= cond:\n",
        "                filtered_rows.append(row)\n",
        "        elif direction == \"==\":\n",
        "            if element == cond:\n",
        "                filtered_rows.append(row)\n",
        "        else:\n",
        "            pass\n",
        "    return filtered_rows\n",
        "\n",
        "under_20_bucks = filter_col_by_float(data_from_csv, \"priceLabel\", \"<=\", 20)\n",
        "print(\"Found {} ties < $20\".format(number_of_records(under_20_bucks)))"
      ],
      "execution_count": 0,
      "outputs": [
        {
          "output_type": "stream",
          "text": [
            "Found 5051 Gucci ties.\n",
            "Found 5051 silk ties.\n",
            "Found 5051 wool ties.\n",
            "Found 5051 cottom ties.\n",
            "Found 5051 ties < $20\n"
          ],
          "name": "stdout"
        }
      ]
    },
    {
      "metadata": {
        "id": "cv_Ii-B49ht_",
        "colab_type": "text"
      },
      "cell_type": "markdown",
      "source": [
        "### Grouping rows\n",
        "Learning how to combine objects that match a condition\n",
        "\n",
        "Key terms:\n",
        "* **filter** is a type of selection that refers to restricting the result set to contain only those elements that satisfy a specified condition\n",
        "* **grouping** refers to the operation of putting data into groups so that the elements in each group share a common attribute"
      ]
    },
    {
      "metadata": {
        "id": "Y9HzpdHM9kBy",
        "colab_type": "code",
        "outputId": "e506ce74-68f7-4d78-8b2f-1580be9b5991",
        "colab": {
          "base_uri": "https://localhost:8080/",
          "height": 187
        }
      },
      "cell_type": "code",
      "source": [
        "gucci_ties = filter_col_by_string(data_from_csv, \"brandName\", \"Gucci\")\n",
        "jcrew_ties = filter_col_by_string(data_from_csv, \"brandName\", \"J.Crew\")\n",
        "\n",
        "# compare maximum prices\n",
        "max_gucci = find_max(gucci_ties[1:], 2)\n",
        "max_jcrew = find_max(jcrew_ties[1:], 2)\n",
        "\n",
        "# compare average prices\n",
        "avg_gucci = find_average(gucci_ties, True)\n",
        "avg_jcrew = find_average(jcrew_ties, True)\n",
        "\n",
        "message = \"{} {} tie price is ${:03.2f}\"\n",
        "\n",
        "print(message.format(\"Max\",\"Gucci\", max_gucci))\n",
        "print(message.format(\"Max\",\"J.Crew\", max_jcrew))\n",
        "\n",
        "print(message.format(\"Average\", \"Gucci\", avg_gucci))\n",
        "print(message.format(\"Average\", \"J.Crew\", avg_jcrew))\n",
        "\n",
        "# ties by pattern type\n",
        "striped_ties = filter_col_by_string(data_from_csv, \"print\", \"_striped\")\n",
        "print_ties = filter_col_by_string(data_from_csv, \"print\", \"_print\")\n",
        "paisley_ties = filter_col_by_string(data_from_csv, \"print\", \"_paisley\")\n",
        "solid_ties = filter_col_by_string(data_from_csv, \"print\", \"_solid\")\n",
        "\n",
        "message2 = \"{}\\t${:03.2f}\"\n",
        "print(\"\\nPrint\\tAverage\")\n",
        "print(message2.format(\"striped\", find_average(striped_ties)))\n",
        "print(message2.format(\"print\", find_average(print_ties)))\n",
        "print(message2.format(\"paisley\", find_average(paisley_ties)))\n",
        "print(message2.format(\"solid\", find_average(solid_ties)))"
      ],
      "execution_count": 0,
      "outputs": [
        {
          "output_type": "stream",
          "text": [
            "Max Gucci tie price is $545.00\n",
            "Max J.Crew tie price is $79.50\n",
            "Average Gucci tie price is $5.58\n",
            "Average J.Crew tie price is $1.22\n",
            "\n",
            "Print\tAverage\n",
            "striped\t$20.08\n",
            "print\t$19.79\n",
            "paisley\t$7.87\n",
            "solid\t$2.23\n"
          ],
          "name": "stdout"
        }
      ]
    },
    {
      "metadata": {
        "id": "ayROF4kvsQ29",
        "colab_type": "code",
        "outputId": "32be7135-8a2b-4477-f9b2-1387453b7867",
        "colab": {
          "base_uri": "https://localhost:8080/",
          "height": 170
        }
      },
      "cell_type": "code",
      "source": [
        "gucci_ties = filter_col_by_string(data_from_csv, \"brandName\", \"Gucci\")\n",
        "jcrew_ties = filter_col_by_string(data_from_csv, \"brandName\", \"J.Crew\")\n",
        "\n",
        "max_gucci = find_max(gucci_ties[1:], 2)\n",
        "max_jcrew = find_max_min(jcrew_ties[1:], 2)\n",
        "\n",
        "message = \"{} {} tie price is = ${:03.2f}\"\n",
        "print(message.format(\"Maximum\", \"Gucci\", max_gucci))\n",
        "print(message.format(\"Maximum\", \"J.Crew\", max_jcrew))\n",
        "\n",
        "avg_gucci = find_average(gucci_ties, True)\n",
        "avg_jcrew = find_average(jcrew_ties, True)\n",
        "print(message.format(\"Average\", \"Gucci\", avg_gucci))\n",
        "print(message.format(\"Average\", \"J.Crew\", avg_jcrew))\n",
        "\n",
        "striped_ties = filter_col_by_string(data_from_csv, \"print\", \"_striped\")\n",
        "print_ties = filter_col_by_string(data_from_csv, \"print\", \"_print\")\n",
        "paisley_ties = filter_col_by_string(data_from_csv, \"print\", \"_paisley\")\n",
        "solid_ties = filter_col_by_string(data_from_csv, \"print\", \"_solid\")\n",
        "\n",
        "message2 = \"{}\\t${:03.2f}\"\n",
        "print(\"Print\\tAverage\")\n",
        "print(message2.format(\"striped\", find_average(striped_ties)))\n",
        "print(message2.format(\"print\", find_average(print_ties)))\n",
        "print(message2.format(\"paisley\", find_average(paisley_ties)))\n",
        "print(message2.format(\"solid\", find_average(solid_ties)))"
      ],
      "execution_count": 0,
      "outputs": [
        {
          "output_type": "stream",
          "text": [
            "Maximum Gucci tie price is = $545.00\n",
            "Maximum J.Crew tie price is = $79.50\n",
            "Average Gucci tie price is = $5.58\n",
            "Average J.Crew tie price is = $1.22\n",
            "Print\tAverage\n",
            "striped\t$20.08\n",
            "print\t$19.79\n",
            "paisley\t$7.87\n",
            "solid\t$2.23\n"
          ],
          "name": "stdout"
        }
      ]
    },
    {
      "metadata": {
        "id": "zEkiFifkflKW",
        "colab_type": "text"
      },
      "cell_type": "markdown",
      "source": [
        "## Exporting\n",
        "In this stage we'll be exporting data into files, in case you want to save them for future reference, or open them in a different software such as your favorite spreadsheet application.\n",
        "\n",
        "* Exporting CSV files\n",
        "* Writing functions to export csv files\n",
        "* Exporting to Excel\n"
      ]
    },
    {
      "metadata": {
        "id": "KK3IkFAb9loI",
        "colab_type": "text"
      },
      "cell_type": "markdown",
      "source": [
        "### Exporting CSV files\n",
        "The CSV format is a very common data format to export or import data. Most spreadsheets and database applications offer export and import for CSV files\n",
        "\n",
        "Key concepts:\n",
        "* NumPy comes with functions for writing files, numpy.savetxt()\n",
        "* syntax:\n",
        "```\n",
        "csv.writer(csvfilename, **fmtparams)\n",
        "```"
      ]
    },
    {
      "metadata": {
        "id": "GPTABpVIfzRT",
        "colab_type": "code",
        "colab": {}
      },
      "cell_type": "code",
      "source": [
        "\n",
        "def write_to_file(filename, data_sample):\n",
        "  example = csv.write(open(filename, 'w', encoding='utf-8'), dialect='excel')\n",
        "  example.writerows(data_sample)\n",
        "  \n",
        "write_to_file(\"_data/s4-silk_ties.csv\", silk_ties)"
      ],
      "execution_count": 0,
      "outputs": []
    },
    {
      "metadata": {
        "id": "xQIg7Gli9n07",
        "colab_type": "text"
      },
      "cell_type": "markdown",
      "source": [
        "### Writing functions to export csv files\n",
        "Learn som eof the specific functions you will use to export your CSV files"
      ]
    },
    {
      "metadata": {
        "id": "mzHsF7AO9pzC",
        "colab_type": "code",
        "colab": {}
      },
      "cell_type": "code",
      "source": [
        "def write_brand_and_price_file(filename, data_sample):\n",
        "  brand_field_index = 5\n",
        "  price_field_index = 2\n",
        "  \n",
        "  new_array = []\n",
        "  \n",
        "  for record in data_sample:\n",
        "    new_record = [None] * 2\n",
        "    new_record[0] = record[brand_field_index]\n",
        "    new_record[1] = record[price_field_index]\n",
        "    new_array.append(new_record)\n",
        "  \n",
        "  write_to_file(filename, new_array)\n",
        "\n",
        "write_brand_and_file_price('_data/s4-brand_and_price.csv', gucci_ties)"
      ],
      "execution_count": 0,
      "outputs": []
    },
    {
      "metadata": {
        "id": "HSA-7Jar9qkc",
        "colab_type": "code",
        "colab": {}
      },
      "cell_type": "code",
      "source": [
        "def write_min_max_csv(filename, data_sample):\n",
        "  min = find_max_min(data_sample, 2, \"min\")\n",
        "  max = find_max_min(data_sample, 2, \"max\")\n",
        "  \n",
        "  new_array = []\n",
        "  for record in data_sample:\n",
        "    if (float(record[2]) == min) or (float(record[2]) == max):\n",
        "      new_array.append(record)\n",
        "\n",
        "  write_to_file(filename, new_array)\n",
        "  \n",
        "write_min_max_csv('_data/s4-min_max_csv', gucci_ties[1:])"
      ],
      "execution_count": 0,
      "outputs": []
    },
    {
      "metadata": {
        "id": "D-cjrwSn-Ywc",
        "colab_type": "code",
        "colab": {}
      },
      "cell_type": "code",
      "source": [
        "def write_two_cols(filename, data_sample, col1, col2):\n",
        "  new_array = []\n",
        "  for record in data_sample:\n",
        "    new_record = [None] * 2\n",
        "    new_record[0] = record[col1]\n",
        "    new_record[1] = record[col2]\n",
        "    new_array.append(new_record)\n",
        "  write_to_file(filename, array)\n",
        "\n",
        "write_to_cols('_data/s4-write_two_cols.csv', gucci_ties[1:],3,7)"
      ],
      "execution_count": 0,
      "outputs": []
    },
    {
      "metadata": {
        "id": "wHPplrnF9qW_",
        "colab_type": "text"
      },
      "cell_type": "markdown",
      "source": [
        "### Exporting to Excel\n",
        "Excel is still one of the most common formats when sharing documents"
      ]
    },
    {
      "metadata": {
        "id": "2WcbzB9p_Kdo",
        "colab_type": "code",
        "outputId": "01eed947-1ca2-4c28-d44c-d26cbf5a8d85",
        "colab": {
          "base_uri": "https://localhost:8080/",
          "height": 292
        }
      },
      "cell_type": "code",
      "source": [
        "!pip install openpyxl"
      ],
      "execution_count": 0,
      "outputs": [
        {
          "output_type": "stream",
          "text": [
            "Collecting openpyxl\n",
            "\u001b[?25l  Downloading https://files.pythonhosted.org/packages/04/18/64737cc6c5233e15374d21b4958a5600be52359e71063b4d4e7a604a1387/openpyxl-2.5.9.tar.gz (1.9MB)\n",
            "\u001b[K    100% |████████████████████████████████| 1.9MB 6.4MB/s \n",
            "\u001b[?25hCollecting jdcal (from openpyxl)\n",
            "  Downloading https://files.pythonhosted.org/packages/a0/38/dcf83532480f25284f3ef13f8ed63e03c58a65c9d3ba2a6a894ed9497207/jdcal-1.4-py2.py3-none-any.whl\n",
            "Collecting et_xmlfile (from openpyxl)\n",
            "  Downloading https://files.pythonhosted.org/packages/22/28/a99c42aea746e18382ad9fb36f64c1c1f04216f41797f2f0fa567da11388/et_xmlfile-1.0.1.tar.gz\n",
            "Building wheels for collected packages: openpyxl, et-xmlfile\n",
            "  Running setup.py bdist_wheel for openpyxl ... \u001b[?25l-\b \b\\\b \b|\b \bdone\n",
            "\u001b[?25h  Stored in directory: /root/.cache/pip/wheels/57/41/b9/3765af8bda4a8d4b6aaf4957d7214984c3332348713e85cf36\n",
            "  Running setup.py bdist_wheel for et-xmlfile ... \u001b[?25l-\b \bdone\n",
            "\u001b[?25h  Stored in directory: /root/.cache/pip/wheels/2a/77/35/0da0965a057698121fc7d8c5a7a9955cdbfb3cc4e2423cad39\n",
            "Successfully built openpyxl et-xmlfile\n",
            "Installing collected packages: jdcal, et-xmlfile, openpyxl\n",
            "Successfully installed et-xmlfile-1.0.1 jdcal-1.4 openpyxl-2.5.9\n"
          ],
          "name": "stdout"
        }
      ]
    },
    {
      "metadata": {
        "id": "5wIrPinw_KD0",
        "colab_type": "code",
        "colab": {}
      },
      "cell_type": "code",
      "source": [
        "#s4v3.py\n",
        "# Exporting to Excel\n",
        "import openpyxl\n",
        "from openpyxl import Workbook\n",
        "from openpyxl.writer.excel import ExcelWriter\n",
        "from openpyxl.cell import get_column_letter\n",
        "from s4v2 import *\n",
        "\n",
        "def save_spreadsheet(filename, data_sample):\n",
        "    wb = Workbook()\n",
        "    ws = wb.active\n",
        "    row_index = 1\n",
        "    for rows in data_sample:\n",
        "        col_index = 1\n",
        "        \n",
        "        for field in rows:\n",
        "            col_letter = get_column_letter(col_index)\n",
        "            ws.cell('{}{}'.format(col_letter, row_index)).value = field\n",
        "            col_index += 1\n",
        "        row_index += 1\n",
        "    \n",
        "    wb.save(filename)\n",
        "\n",
        "kiton_ties = filter_col_by_string(data_from_csv, \"brandName\", \"Kiton\")\n",
        "save_spreadsheet(\"_data/s4-kiton.xlsx\", kiton_ties)"
      ],
      "execution_count": 0,
      "outputs": []
    },
    {
      "metadata": {
        "id": "9j72ep2bW42o",
        "colab_type": "text"
      },
      "cell_type": "markdown",
      "source": [
        "### Challenge: Exporting\n",
        "\n",
        "Using the `filter_col_by_string` function, export all \"Dolce & Gabbana\" brand ties to a variable named `dolce_gabbana`"
      ]
    },
    {
      "metadata": {
        "id": "QaaQtiNwW49L",
        "colab_type": "code",
        "colab": {}
      },
      "cell_type": "code",
      "source": [
        "from openWithCsv import *\n",
        "\n",
        "data_from_csv = open_with_csv('data.csv')\n",
        "\n",
        "def filter_col_by_string(the_data, field, filter_condition):\n",
        "    filtered_rows = []\n",
        "    \n",
        "    #find index of field in first row\n",
        "    col = int(the_data[0].index(field))\n",
        "    filtered_rows.append(the_data[0])\n",
        "\n",
        "    for row in the_data[1:]:\n",
        "        if row[col] == filter_condition:\n",
        "            filtered_rows.append([str(x).encode('utf8') for x in row])\n",
        "            \n",
        "    return filtered_rows\n",
        "\n",
        "# YOUR CODE HERE\n",
        "dolce_gabbana = filter_col_by_string(data_from_csv, \"brandName\", \"Dolce & Gabbana\")"
      ],
      "execution_count": 0,
      "outputs": []
    },
    {
      "metadata": {
        "id": "NwNR0nBdpETJ",
        "colab_type": "text"
      },
      "cell_type": "markdown",
      "source": [
        "## Charts\n",
        "\n",
        "Now that you have your usable data, how to view it depends on your audience and their needs"
      ]
    },
    {
      "metadata": {
        "id": "Lt1mG15LpHuB",
        "colab_type": "text"
      },
      "cell_type": "markdown",
      "source": [
        "### Line charts\n",
        "Line charts are known as \"plots\" in matplotlib. In this video, we are going to use the ggplot stylesheet instead of the default styles.\n",
        "\n",
        "Basic matplotlib plotting concepts:\n",
        "Use the module `plot()` to indicate the x and y variables, colors, labels, and other properties such as line width.\n",
        "* **figure**: a container for all the Axes\n",
        "* **axes**: the space where what you draw (i.e., your plot) actually shows up\n",
        "* **axis**: the actual x axis or y axis"
      ]
    },
    {
      "metadata": {
        "id": "ZkdrOplY9rfI",
        "colab_type": "code",
        "colab": {}
      },
      "cell_type": "code",
      "source": [
        "# Line charts\n",
        "from s4v3 import *\n",
        "import matplotlib.pyplot as plt\n",
        "import numpy as np\n",
        "\n",
        "def create_line_chart(data_sample, title, exported_figure_filename):\n",
        "  fig = plt.figure()\n",
        "  ax = fig.add_subplot(1,1,1)\n",
        "  \n",
        "  prices = (sorted(map(float, data_sample)))\n",
        "  \n",
        "  x_axis_ticks = list(range(len(data_sample)))\n",
        "  ax.plot(x_axis_ticks, prices, linewidth=2)\n",
        "  ax.set_title(title)\n",
        "  ax.set_xlim([0, len(data_sample)])\n",
        "  ax.set_xlabel('Tie Price ($)')\n",
        "  ax.set_ylabel('Number of ties')\n",
        "  \n",
        "  fig.savefig(exported_figure_filename)\n",
        "\n",
        "create_line_chart([x[2] for x in gucci_ties[1:]], \"Distribution of prices for Gucci Ties\", \"_charts/gucci.png\")"
      ],
      "execution_count": 0,
      "outputs": []
    },
    {
      "metadata": {
        "id": "v0MiZxompKgD",
        "colab_type": "text"
      },
      "cell_type": "markdown",
      "source": [
        "### Bar charts\n",
        "Create a bar chart using matplotlib and numpy"
      ]
    },
    {
      "metadata": {
        "id": "Tk-M8AS3pMVD",
        "colab_type": "code",
        "colab": {}
      },
      "cell_type": "code",
      "source": [
        "def plot_all_bars(prices_in_float, exported_figure_filename):\n",
        "  prices = list(map(int, prices_in_float))\n",
        "  X = numpy.arange(len(prices))\n",
        "  width = 0.25\n",
        "  plt.bar(X+width, prices, width)\n",
        "  plt.xlim([0,5055])\n",
        "  plt.savefig(exported_figure_filename)\n",
        "\n",
        "def create_bar_chart(price_groups, exported_figure_filename):\n",
        "  fig = plt.figure()\n",
        "  ax = fig.add_subplot(1,1,1)\n",
        "  plt.style.use('ggplot')\n",
        "  colors=plt.rcParams['axes.color_cycle']\n",
        "  \n",
        "  for group in price_groups:\n",
        "    ax.bar(group, price_groups[group], colors=colors[group%len(price_groups)])\n",
        "    \n",
        "    labels = [\"$0-$50\",\"$50-$100\",\"$100-$150\",\"$150-$200\",\"$200-$250\",\"$250+\"]\n",
        "    ax.legend(labels)\n",
        "    \n",
        "    ax.set_title(\"Amount of ties at price points\")\n",
        "    ax.set_xlabel(\"Tie Price ($)\")\n",
        "    ax.set_xticklabels(labels, ha='left')\n",
        "    ax.set_xticks(range(1, len(price_groups)+1))\n",
        "    ax.set_ylabel(\"Number of ties\")\n",
        "\n",
        "from collections import Counter\n",
        "def group_prices_by_range(prices_in_float):\n",
        "  tally = Counter()\n",
        "  for item in prices_in_float:\n",
        "    bucket = 0\n",
        "    rounded_price = round(item, -1)\n",
        "    if rounded_price >= 0 and rounded_price <= 50:\n",
        "      bucket = 1\n",
        "    elif rounded_price >= 50 and rounded_price <= 100:\n",
        "      bucket = 2\n",
        "    elif rounded_price >= 100 and rounded_price <= 150:\n",
        "      bucket = 3\n",
        "    elif rounded_price >= 150 and rounded_price <= 200:\n",
        "      bucket = 4\n",
        "    elif rounded_price >= 200 and rounded_price <= 250:\n",
        "      bucket = 5\n",
        "    elif rounded_price >= 250:\n",
        "      bucket = 6\n",
        "    else:\n",
        "      bucket = 7\n",
        "    \n",
        "    tally[bucket] += 1\n",
        "  return tally\n",
        "\n",
        "price_groups = group_prices_by_range(price_in_float)\n",
        "create_bar_chart(price_groups, \"_charts/s5-price_in_groups.png\")"
      ],
      "execution_count": 0,
      "outputs": []
    },
    {
      "metadata": {
        "id": "ce80c2CupM27",
        "colab_type": "text"
      },
      "cell_type": "markdown",
      "source": [
        "### Tables\n",
        "At times, showing data in a chart doesn't provide enough context or details, so we want to use tables to show a more detailed view of specific characteristics of each data point."
      ]
    },
    {
      "metadata": {
        "id": "JJbQE0wZpOPY",
        "colab_type": "code",
        "colab": {}
      },
      "cell_type": "code",
      "source": [
        "#s5v3.py\n",
        "# Tables\n",
        "\n",
        "import matplotlib.pyplot as plt\n",
        "from prettytable import PrettyTable\n",
        "\n",
        "def my_table():\n",
        "  x = PrettyTable(['Style','Average Price'])\n",
        "  x.add_row(['Print', pretty_average(print_ties)])\n",
        "  x.add_row(['Solid', pretty_average(solid_ties)])\n",
        "  x.add_row(['Paisley', pretty_average(paisley_ties)])\n",
        "  x.add_row(['Striped', pretty_average(striped_ties)])\n",
        "  x.add_row(['Gucci', pretty_average(gucci_ties)])\n",
        "  \n",
        "  print(x)\n",
        "  \n",
        "\n",
        "def pretty_average(my_number):\n",
        "  pretty_avg = \"${:03.2f}\".format(find_average(my_number))\n",
        "  return pretty_avg\n",
        "  \n",
        "#my_table()\n",
        "\n",
        "# working with pdfs\n",
        "\n",
        "def count_prices_for_brands(data_sample, brand, min_price, max_price):\n",
        "  count = 0\n",
        "  for row in data_sample:\n",
        "    if str(row[0]) == str(brand):\n",
        "      if min_price < float(row[1]) < max_price:\n",
        "        count += 1\n",
        "  return count\n",
        "\n",
        "def create_table(data_sample, price_groups, brand_names, columns, exported_figure_filename):\n",
        "    tup = build_table_text(data_sample, brand_names)\n",
        "    fig = plt.figure()\n",
        "    ax = fig.add_subplot(1, 1, 1)\n",
        "\n",
        "    for group in price_groups:\n",
        "        plt.bar(group, price_groups[group]) \n",
        "    \n",
        "    if tup[0] and tup[1]:\n",
        "        ax.table(cellText=tup[0], colLabels=columns, rowLabels=tup[1], loc='bottom')\n",
        "        ax.text(-1.3, 0, 'Discounted Ties Brands', size=12, horizontalalignment='left', verticalalignment='top')\n",
        "        ax.tick_params(\n",
        "            axis='x',          # changes apply to the x-axis\n",
        "            which='both',      # both major and minor ticks are affected\n",
        "            labelbottom='off') # labels along the bottom edge are off\n",
        "\n",
        "    fig.savefig(exported_figure_filename, dpi=400, bbox_inches='tight')\n",
        "\n",
        "from collections import Counter\n",
        "def group_prices_by_range(prices_in_float):\n",
        "  tally = Counter()\n",
        "\n",
        "  for item in prices_in_float:\n",
        "    bucket = 0\n",
        "    rounded_price = round(item, -1)\n",
        "    if 0 <= rounded_price <= 50:\n",
        "      bucket = 1\n",
        "    elif 50 <= rounded_price <= 100:\n",
        "      bucket = 2\n",
        "    elif 100 <= rounded_price <= 150:\n",
        "      bucket = 3\n",
        "    elif 150 <= rounded_price <= 200:\n",
        "      bucket = 4\n",
        "    elif 200 <= rounded_price <= 250:\n",
        "      bucket = 5\n",
        "    elif 250 <= rounded_price:\n",
        "      bucket = 6\n",
        "    else:\n",
        "      bucket = 7\n",
        "\n",
        "    tally[bucket] += 1\n",
        "  return tally\n",
        "  \n",
        "brands = my_csv['brandName']\n",
        "columns = [\"$0-50\", \"$50-100\", \"$100-150\", \"$150-200\", \"$200-250\", \"$250+\"]\n",
        "write_brand_and_price_file(\"_data/tempTableFile.csv\", data_from_csv)\n",
        "brand_and_price_data = open_with_csv(\"_data/tempTableFile.csv\", d=',')\n",
        "create_table(brand_and_price_data, price_groups, brands, columns, \"_charts/s5_prices_in_table.png\")"
      ],
      "execution_count": 0,
      "outputs": []
    },
    {
      "metadata": {
        "id": "q1U2YxPXpZKW",
        "colab_type": "text"
      },
      "cell_type": "markdown",
      "source": [
        "## Reports"
      ]
    },
    {
      "metadata": {
        "id": "35yjVF5apbIt",
        "colab_type": "text"
      },
      "cell_type": "markdown",
      "source": [
        "### Styling\n",
        "Edit title and axes labels"
      ]
    },
    {
      "metadata": {
        "id": "WJcpnbKZpcMc",
        "colab_type": "code",
        "colab": {}
      },
      "cell_type": "code",
      "source": [
        "from s5v3 import *\n",
        "\n",
        "def create_line_chart2(data_sample, title, exported_figure_filename):\n",
        "  fig = plt.figure()\n",
        "  ax = fig.add_subplot(1,1,1)\n",
        "  \n",
        "  prices = (sorted(map(float, data_sample)))\n",
        "  \n",
        "  x_axis_ticks = list(range(len(data_sample)))\n",
        "  ax.plot(x_axis_ticks, prices, linewidth=2)\n",
        "  ax.set_title(title)\n",
        "  ax.set_xlim([0, len(data_sample)])\n",
        "  ax.set_xlabel(\"[THIS IS THE X]\")\n",
        "  ax.set_ylabel(\"[THIS IS THE Y]\")\n",
        "  \n",
        "  fig.savefig(exported_figure_filename)\n",
        "\n",
        "create_line_chart2([float(x[2]) for x in jcrew_ties], \"THIS IS THE TITLE\", \"labels.png\")"
      ],
      "execution_count": 0,
      "outputs": []
    },
    {
      "metadata": {
        "id": "Nww3XP2CpcuS",
        "colab_type": "text"
      },
      "cell_type": "markdown",
      "source": [
        "### Saving PDFs\n",
        "\n",
        "Using matplotlib you will directly move your plots into PDF pages.\n",
        "\n",
        "The key steps to saving PDFs are:\n",
        "1.   Import PdfPages module\n",
        "2.   Create new object of PdfPages with a filename\n",
        "3.   Save figure(s)\n",
        "4.   Close the object\n",
        "\n",
        "Corresponding code:\n",
        "\n",
        "```\n",
        "from matplotlib.backends.backend_pdf import PdfPages\n",
        "\n",
        "pp = PdfPages('foo.pdf')\n",
        "\n",
        "pp.savefig()\n",
        "\n",
        "pp.close()\n",
        "```\n",
        "\n",
        "\n"
      ]
    },
    {
      "metadata": {
        "id": "-9e2O60fpeQU",
        "colab_type": "code",
        "colab": {}
      },
      "cell_type": "code",
      "source": [
        "# CREATE PDF\n",
        "\n",
        "import matplotlib.pyplot as plt\n",
        "from matplotlib.backends.backend_pdf import PdfPages\n",
        "#from s6v1 import *\n",
        "\n",
        "def plot_minimal_graph(tally, columns, *args):\n",
        "  plt.style.use('bmh')\n",
        "  fig = plt.figure(dpi=200)\n",
        "  colors = plt.rcParams['axes.color_cycle']\n",
        "  \n",
        "  # white background to use less color ink\n",
        "  ax = plt.subplot(111, axisbg='white')\n",
        "  \n",
        "  # plot bars and screate text labels for the table\n",
        "  for priceBucket in tally:\n",
        "    ax.bar(priceBucket, tally[priceBucket], color=colors[priceBucket%len(tally)])\n",
        "    ax.annotate(r\"%d\" % (tally[priceBucket]),\n",
        "               (priceBucket+0.2, tally[priceBucket]),\n",
        "               va=\"bottom\", ha=\"center\")\n",
        "    \n",
        "    # include a legend\n",
        "    ax.legend(columns)\n",
        "    \n",
        "    # remove distracting lines on top, left, and right\n",
        "    ax.spines['top'].set_visible(False)\n",
        "    ax.spines['right'].set_visible(False)\n",
        "    ax.spines['left'].set_visible(False)\n",
        "    \n",
        "    # remove distracting tick marks\n",
        "    ax.yaxis.set_ticks_position('none')\n",
        "    ax.xaxis.set_ticks_position('none')\n",
        "    \n",
        "    # add chart title and axes labels\n",
        "    plt.xlabel(\"Tie Price\", fontsize = 13)\n",
        "    plt.ylabel(\"Number of Ties\", fontsize = 13)\n",
        "    plt.title(\"Chart # 1\")\n",
        "    \n",
        "    # add labels to bars along x axes\n",
        "    x = range(1, len(tally)+1)\n",
        "    plt.xticks(x, columns, rotation='horizontal',ha='left')\n",
        "    \n",
        "    return fig\n",
        "  \n",
        "def plot_graph_with_table(cell_text, row_text, columns):\n",
        "  plt.style.use('ggplot')\n",
        "  fig = plt.figure()\n",
        "  \n",
        "  \n",
        "  # Include table\n",
        "  ax2 = fig.add_subplot(111)\n",
        "  ax2.axis(\"off\")\n",
        "  \n",
        "  the_table = ax2.table(cellText=cell_text, rowLabels=row_text, colLabels=columns, loc='center right')\n",
        "  \n",
        "pp = PdfPages('my_report.pdf')\n",
        "\n",
        "plot1 = plot_minimal_graph(price_groups, columns)\n",
        "pp.savefig(plot1, bbox_inches='tight')\n",
        "\n",
        "table_text = build_table_text(brand_and_price_data, brands)\n",
        "plot2 = plot_graph_with_table(table_text[0], table_text[1], columns)\n",
        "plt.save(plot2, bbox_inches='tight')\n",
        "\n",
        "pp.close()"
      ],
      "execution_count": 0,
      "outputs": []
    },
    {
      "metadata": {
        "id": "YRRZwgnipe6f",
        "colab_type": "text"
      },
      "cell_type": "markdown",
      "source": [
        "### Adding automation\n",
        "\n",
        "By layering the functions we've written, we can write coordinating functions"
      ]
    }
  ]
}