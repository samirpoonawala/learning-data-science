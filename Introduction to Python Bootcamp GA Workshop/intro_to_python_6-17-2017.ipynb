{
 "cells": [
  {
   "cell_type": "markdown",
   "metadata": {
    "slideshow": {
     "slide_type": "slide"
    }
   },
   "source": [
    "# ![](https://ga-dash.s3.amazonaws.com/production/assets/logo-9f88ae6c9c3871690e33280fcf557f33.png) Introduction to Python\n",
    "\n",
    "June 17, 2017\n",
    "NYC"
   ]
  },
  {
   "cell_type": "markdown",
   "metadata": {
    "slideshow": {
     "slide_type": "slide"
    }
   },
   "source": [
    "# Introductions\n",
    "\n",
    "Hi, I'm Winston. ![Hi](http://www.charbase.com/images/glyph/128075)\n",
    "- Data scientist at Argo Digital\n",
    "- BA Economics & Politics from Oxford\n",
    "- Former data science bootcamp instructor at General Assembly"
   ]
  },
  {
   "cell_type": "markdown",
   "metadata": {
    "slideshow": {
     "slide_type": "slide"
    }
   },
   "source": [
    "# How about you?\n",
    "\n",
    "- What's your name?\n",
    "- What do you want to learn today?\n",
    "\n",
    "![](https://btwbpress.files.wordpress.com/2016/10/name_is.png?w=1000)"
   ]
  },
  {
   "cell_type": "markdown",
   "metadata": {
    "slideshow": {
     "slide_type": "slide"
    }
   },
   "source": [
    "# Learning objectives\n",
    "\n",
    "You will be able to:\n",
    "\n",
    "- Write and run Python scripts from the command line\n",
    "- Use Jupyter Notebooks to organize and run your Python code\n",
    "- Use Python for basic data analysis tasks (data cleaning, exploration and analysis)\n",
    "- Identify Python’s role as a tool in the data analysis ecosystem\n",
    "- Plan and implement your own Python-based projects for work or play!"
   ]
  },
  {
   "cell_type": "markdown",
   "metadata": {
    "slideshow": {
     "slide_type": "slide"
    }
   },
   "source": [
    "# So...how are we going to do this?\n",
    "\n",
    "- We're starting from scratch, but will get hands-on ASAP\n",
    "- Ask questions as we go! I'll put in-depth ones in the \"parking lot\" until our breaks\n",
    "- Errors are _instructional_! You won't break anything, learn by trial-and-error\n"
   ]
  },
  {
   "cell_type": "markdown",
   "metadata": {
    "slideshow": {
     "slide_type": "slide"
    }
   },
   "source": [
    "- We can't cover everything: I'll focus on the tools you need to start using Python in your work\n",
    "- We'll move fast... Don't worry if you feel temporarily lost! We have chunks of independent practice to solidify what you learn\n",
    "- Kitchen and bathrooms are on this floor"
   ]
  },
  {
   "cell_type": "markdown",
   "metadata": {
    "slideshow": {
     "slide_type": "slide"
    }
   },
   "source": [
    "# Our schedule\n",
    "| TIME  | TOPIC  |\n",
    "|:-:|---|\n",
    "| 10:00 - 10:15 | Introductions: Who's here? |\n",
    "| 10:15 - 10:30 | ** Requirements checklist ** |\n",
    "| 10:30 - 11:00 | The command line, .py files and Jupyter |\n",
    "| 11:00 - 11:15 | BREAK |\n",
    "| 11:15 - 12:15 | Python: data types, containers and control flow |\n",
    "| 12:15 - 1:00 | LUNCH |\n",
    "| 1:00 - 1:30 | Python practice |\n",
    "| 1:30 - 1:50 | The data science ecosystem |\n",
    "| 1:50 - 2:50 | Pandas: dataframes, series and plots|\n",
    "| 2:50 - 3:00 | BREAK |\n",
    "| 3:00 - 3:45 | Python + pandas practice |\n",
    "| 3:45 - 4:00 |Your next steps |\n",
    "---"
   ]
  },
  {
   "cell_type": "markdown",
   "metadata": {
    "slideshow": {
     "slide_type": "slide"
    }
   },
   "source": [
    "# Setup checklist\n",
    "\n",
    "1. Laptops with an internet connection\n",
    "- Anaconda for Python 2.7 or 3.6\n",
    "- Access to the command line (Terminal for Mac / \\*nix, Command Prompt for Windows)\n",
    "    - Try opening it now:\n",
    "    - ⌘ (Command) + Space, then type \"Terminal\" (Mac OS)\n",
    "    - Start Menu, search bar, \"Command Prompt\" (Windows)\n"
   ]
  },
  {
   "cell_type": "markdown",
   "metadata": {
    "slideshow": {
     "slide_type": "slide"
    }
   },
   "source": [
    "![Terminal from finder](././intro_python_bootcamp/opening_terminal.png)"
   ]
  },
  {
   "cell_type": "markdown",
   "metadata": {
    "slideshow": {
     "slide_type": "slide"
    }
   },
   "source": [
    "* Ideal but optional -- Python in your PATH variable. Try these commands in your terminal:\n",
    "    - `which python`\n",
    "    - Open a browser, then in your terminal type: `jupyter notebook`\n",
    "    - If those fail, don't worry -- we'll fix it\n",
    "* Ideal but optional -- a plain text editor (not Word / Pages)\n",
    "\n",
    "![Terminal from finder](././intro_python_bootcamp/terminal_python_0.png)\n"
   ]
  },
  {
   "cell_type": "markdown",
   "metadata": {
    "slideshow": {
     "slide_type": "slide"
    }
   },
   "source": [
    "### LESSON GUIDE\n",
    "| TIME  | TOPIC  |\n",
    "|:-:|---|\n",
    "| 10:00 - 10:15 | Introductions: Who's here? |\n",
    "| 10:15 - 10:30 | Requirements checklist |\n",
    "| 10:30 - 11:00 | **Python, the command line, .py files and Jupyter **|\n",
    "| 11:00 - 11:15 | BREAK |\n",
    "| 11:15 - 12:15 | Python: data types, containers and control flow |\n",
    "| 12:15 - 1:00 | LUNCH |\n",
    "| 1:00 - 1:30 | Python practice |\n",
    "| 1:30 - 1:50 | The data science ecosystem |\n",
    "| 1:50 - 2:50 | Pandas: dataframes, series and plots|\n",
    "| 2:50 - 3:00 | BREAK |\n",
    "| 3:00 - 3:45 | Python + pandas practice |\n",
    "| 3:45 - 4:00 |Your next steps |\n",
    "---"
   ]
  },
  {
   "cell_type": "markdown",
   "metadata": {
    "slideshow": {
     "slide_type": "slide"
    }
   },
   "source": [
    "# Python\n",
    "\n",
    "Python is a general purpose programming language created by Guido van Rosssum, aka \"Benevolent Dictator for Life\", in the early 1990s.\n",
    "\n",
    "![](https://www.python.org/static/img/python-logo@2x.png)"
   ]
  },
  {
   "cell_type": "markdown",
   "metadata": {
    "slideshow": {
     "slide_type": "slide"
    }
   },
   "source": [
    "# Why Python?\n",
    "\n",
    "- Readability\n",
    "- Flexibility \n",
    "- Interpreted language, doesn't need to compile\n",
    "- Dynamic typing\n",
    "- Supports multiple programming paradigms (object oriented, functional, procedural)\n",
    "- Entire ecosystem for many domains: web, data, scientific\n",
    "\n",
    "\n"
   ]
  },
  {
   "cell_type": "markdown",
   "metadata": {
    "slideshow": {
     "slide_type": "slide"
    }
   },
   "source": [
    "# Why did I install Anaconda?\n",
    "\n",
    "- A distribution of Python and commonly used libraries of tools\n",
    "- Easier than individually installing many libraries\n",
    "- Ensures the versions of each library are compatible with each other"
   ]
  },
  {
   "cell_type": "markdown",
   "metadata": {
    "slideshow": {
     "slide_type": "slide"
    }
   },
   "source": [
    "# But how do I _use_ Python?\n",
    "\n",
    "You've got options! You can write and run Python code:\n",
    "\n",
    "- Within the Python interpreter environment\n",
    "- By running scripts at the OS command line\n",
    "- Jupyter Notebooks (aka iPython Notebook)\n",
    "- IDEs, like Spyder\n",
    "\n",
    "We'll cover the first three in this class, but mainly we'll work with Jupyter Notebooks."
   ]
  },
  {
   "cell_type": "markdown",
   "metadata": {
    "slideshow": {
     "slide_type": "slide"
    }
   },
   "source": [
    "# Let's get going!"
   ]
  },
  {
   "cell_type": "markdown",
   "metadata": {
    "slideshow": {
     "slide_type": "slide"
    }
   },
   "source": [
    "# Using the Command Line\n"
   ]
  },
  {
   "cell_type": "markdown",
   "metadata": {
    "slideshow": {
     "slide_type": "slide"
    }
   },
   "source": [
    "There was a point when computers didn't come with Graphical User Interfaces (GUI).\n",
    "\n",
    "Instead, everyone interacted with the computer using text commands in what we call a Command Line Interface (CLI).\n",
    "\n",
    "![Grandpa Simpson](http://1.bp.blogspot.com/-pD3rd_ueBYM/U0S_WsWllyI/AAAAAAAAAmA/EsCZEfROBhk/s1600/47grandpa.png)"
   ]
  },
  {
   "cell_type": "markdown",
   "metadata": {
    "slideshow": {
     "slide_type": "slide"
    }
   },
   "source": [
    "The command line still exists! Knowing how to use the CLI becomes essential as you program more.\n",
    "\n",
    "### Opening and closing the terminal\n",
    "\n",
    "Spotlight in OS X is the easiest and fastest way to open the terminal:\n",
    "\n",
    "- ⌘ (Command) + Space\n",
    "- \"Terminal\"\n",
    "- Enter\n",
    "\n",
    "You can actually hit enter as soon as the field autocompletes.\n",
    "\n"
   ]
  },
  {
   "cell_type": "markdown",
   "metadata": {
    "slideshow": {
     "slide_type": "slide"
    }
   },
   "source": [
    "For users of Windows <= 7:\n",
    "- Click Start\n",
    "- All Programs - Accessories - Command Prompt\n",
    "\n",
    "For Windows 8+: https://www.lifewire.com/how-to-open-command-prompt-2618089"
   ]
  },
  {
   "cell_type": "markdown",
   "metadata": {
    "slideshow": {
     "slide_type": "slide"
    }
   },
   "source": [
    "### Getting comfortable in the CLI\n",
    "\n",
    "- For many programs, you can open multiple tabs by pressing **⌘-T**. Try it in your terminal!\n",
    "- You can close the current tab or window with **⌘-W**. This goes for most applications on a Mac. Try _that_ in your terminal!\n"
   ]
  },
  {
   "cell_type": "markdown",
   "metadata": {
    "slideshow": {
     "slide_type": "slide"
    }
   },
   "source": [
    "You are in a \"shell\" which lets you interact with the system. Try typing these commands, hitting enter after each:\n",
    "```bash\n",
    "> pwd\n",
    "> ls\n",
    "> cd ..\n",
    "```\n",
    "    \n",
    "> Check: can you infer what each of those commands did? How can you \"undo\" the `cd ..` command?"
   ]
  },
  {
   "cell_type": "markdown",
   "metadata": {
    "slideshow": {
     "slide_type": "slide"
    }
   },
   "source": [
    "# Python from the command line\n",
    "\n",
    "At the command prompt, simply type `python`. This will run the Python interpreter.\n",
    "\n",
    "![Python interpreter](./intro_python_bootcamp/terminal_python_1.png)\n"
   ]
  },
  {
   "cell_type": "markdown",
   "metadata": {
    "slideshow": {
     "slide_type": "slide"
    }
   },
   "source": [
    "Ideally this mentions Anaconda and includes the version number 3.6 or 2.7.\n",
    "\n",
    "If it doesn't, the system keyword `python` may not point to the version we want. Try the Anaconda Command Prompt or opening Spyder via Anaconda Navigator."
   ]
  },
  {
   "cell_type": "markdown",
   "metadata": {
    "slideshow": {
     "slide_type": "slide"
    }
   },
   "source": [
    "# Finally... programming!\n",
    "\n",
    "`print(\"Hello Room 3E!\")`\n",
    "\n",
    "And hit enter.\n",
    "\n",
    "\\* When you see `text like this`, that's Python code; type it as you see it. Hit enter after each line."
   ]
  },
  {
   "cell_type": "markdown",
   "metadata": {
    "slideshow": {
     "slide_type": "slide"
    }
   },
   "source": [
    "You 'bind' _variables_ to _values_:\n",
    "\n",
    "`x = \"Hello Room 3E\"\n",
    "print(x)`\n",
    "\n",
    "Now the variable `x` is bound to the value \"Hello Room 3E\".  You can do things with that value by using the variable `x`.\n",
    "\n",
    "(Less pedantically, we're assigning a value to `x`.)"
   ]
  },
  {
   "cell_type": "markdown",
   "metadata": {
    "slideshow": {
     "slide_type": "slide"
    }
   },
   "source": [
    "Of course, variables can bind to all sorts of values, including numbers:\n",
    "\n",
    "`y = 42\n",
    " y + 8\n",
    "(y + 8) ** 2`\n",
    "\n",
    "Let's try those commands together."
   ]
  },
  {
   "cell_type": "markdown",
   "metadata": {
    "slideshow": {
     "slide_type": "slide"
    }
   },
   "source": [
    "# Your turn\n",
    "\n",
    "We'll go over all the basic operations soon, but first: take a minute and experiment with variables and arithmetic on your own!\n",
    "\n",
    "- Try multiplying numbers with \\*\n",
    "- Divide numbers with /\n",
    "- Do a division that should have a fractional answer. What did you see? (We'll come back to this!)"
   ]
  },
  {
   "cell_type": "markdown",
   "metadata": {
    "slideshow": {
     "slide_type": "slide"
    }
   },
   "source": [
    "# So...we run programs one line at a time?\n",
    "\n",
    "![Slow](./intro_python_bootcamp/ibm_punchcard.jpeg)"
   ]
  },
  {
   "cell_type": "markdown",
   "metadata": {
    "slideshow": {
     "slide_type": "slide"
    }
   },
   "source": [
    "# Nope. Enter the text editor.\n",
    "\n",
    "You don't need anything special to write and save whole Python scripts: a simple text editor will do.\n",
    "\n",
    "- Open Sublime (recommended), TextEdit, Notepad, or anything else that lets you specify the extensions of your saved text files.\n"
   ]
  },
  {
   "cell_type": "markdown",
   "metadata": {
    "slideshow": {
     "slide_type": "slide"
    }
   },
   "source": [
    "\n",
    "Type some code:\n",
    "\n",
    "`x = \"3E\"\n",
    "print(\"Hello Room: {}\".format(x))`\n",
    "\n",
    "Notice the that we're using two *functions*, print() and format(), and each requires opening and closing parentheses.\n",
    "\n",
    "What do you think that example code will do?\n",
    "\n",
    "Save this file as example.py to the directory you're in."
   ]
  },
  {
   "cell_type": "markdown",
   "metadata": {
    "slideshow": {
     "slide_type": "slide"
    }
   },
   "source": [
    "Now, from the command line:\n",
    "\n",
    "`python example.py`"
   ]
  },
  {
   "cell_type": "markdown",
   "metadata": {
    "slideshow": {
     "slide_type": "fragment"
    }
   },
   "source": [
    "![It's beautiful!](http://s2.quickmeme.com/img/46/46d395cdf9c87ae2a7955a09acaf0ff36eb758b54299b24b1a0298c38ff5e7fe.jpg)"
   ]
  },
  {
   "cell_type": "markdown",
   "metadata": {
    "slideshow": {
     "slide_type": "slide"
    }
   },
   "source": [
    "# Jupyter Notebooks\n",
    "\n",
    "- An interactive \"environment\" for running Python.\n",
    "- Extremely popular for data analysis and visualization.\n",
    "\n",
    "With an internet browser open, go to the command line and type `jupyter notebook`\n",
    "\n",
    "You've just launched a server running the notebook program. Your browser should show this on a new tab.\n",
    "\n"
   ]
  },
  {
   "cell_type": "markdown",
   "metadata": {
    "slideshow": {
     "slide_type": "slide"
    }
   },
   "source": [
    "Click New - Notebook - Python 3.6\n",
    "\n",
    "![JN](./intro_python_bootcamp/jupyter_notebooks_0.png)\n"
   ]
  },
  {
   "cell_type": "markdown",
   "metadata": {
    "slideshow": {
     "slide_type": "slide"
    }
   },
   "source": [
    "This slideshow is a Jupyter notebook!\n",
    "\n",
    "On the command line, you can go to the directory you saved it in, then open it with:\n",
    "\n",
    "`jupyter notebook intro_to_python.ipynb`"
   ]
  },
  {
   "cell_type": "markdown",
   "metadata": {
    "slideshow": {
     "slide_type": "slide"
    }
   },
   "source": [
    "The notebook is made up of cells.\n",
    "\n",
    "To run a cell, hit ctrl+Enter while your cursor is in it.\n",
    "\n",
    "To create a new cell, click outside your current cell, so your cursor isn't showing, then hit `a` or `b` to insert a new cell above or below."
   ]
  },
  {
   "cell_type": "markdown",
   "metadata": {
    "slideshow": {
     "slide_type": "slide"
    }
   },
   "source": [
    "### LESSON GUIDE\n",
    "| TIME  | TOPIC  |\n",
    "|:-:|---|\n",
    "| 10:00 - 10:15 | Introductions: Who's here? |\n",
    "| 10:15 - 10:30 | Requirements checklist |\n",
    "| 10:30 - 11:00 | The command line, .py files and Jupyter |\n",
    "| 11:00 - 11:15 | ** BREAK ** |\n",
    "| 11:15 - 12:15 | ** Python: data types, containers and control flow ** |\n",
    "| 12:15 - 1:00 | LUNCH |\n",
    "| 1:00 - 1:30 | Python practice |\n",
    "| 1:30 - 1:50 | The data science ecosystem |\n",
    "| 1:50 - 2:50 | Pandas: dataframes, series and plots|\n",
    "| 2:50 - 3:00 | BREAK |\n",
    "| 3:00 - 3:45 | Python + pandas practice |\n",
    "| 3:45 - 4:00 |Your next steps |\n",
    "---"
   ]
  },
  {
   "cell_type": "markdown",
   "metadata": {
    "slideshow": {
     "slide_type": "slide"
    }
   },
   "source": [
    "# Data types"
   ]
  },
  {
   "cell_type": "markdown",
   "metadata": {
    "slideshow": {
     "slide_type": "fragment"
    }
   },
   "source": [
    "All data are of specific \"types\", which tells the Python interpreter how to work with them.\n",
    "\n",
    ">Python has several \"built-in\" types:\n",
    "- **numerics**\n",
    "- **sequences**\n",
    "- **mappings**\n",
    "- files\n",
    "- classes\n",
    "- instances\n",
    "- exceptions"
   ]
  },
  {
   "cell_type": "markdown",
   "metadata": {
    "slideshow": {
     "slide_type": "slide"
    }
   },
   "source": [
    "## Numerics\n",
    "\n",
    ">- **int** (integers)\n",
    ">- **float** (includes decimals)\n",
    ">- Boolean (true/false)\n",
    ">- long\n",
    ">- complex"
   ]
  },
  {
   "cell_type": "markdown",
   "metadata": {
    "slideshow": {
     "slide_type": "slide"
    }
   },
   "source": [
    "Python has a function to return data type:\n",
    "type(<value>) "
   ]
  },
  {
   "cell_type": "markdown",
   "metadata": {
    "slideshow": {
     "slide_type": "slide"
    }
   },
   "source": [
    "### 1) Integers - whole numbers, either positive or negative"
   ]
  },
  {
   "cell_type": "code",
   "execution_count": null,
   "metadata": {
    "collapsed": true,
    "slideshow": {
     "slide_type": "fragment"
    }
   },
   "outputs": [],
   "source": [
    "4\n",
    "x = 786"
   ]
  },
  {
   "cell_type": "markdown",
   "metadata": {
    "slideshow": {
     "slide_type": "slide"
    }
   },
   "source": [
    "### 2) Floats - numbers with a decimal point"
   ]
  },
  {
   "cell_type": "code",
   "execution_count": null,
   "metadata": {
    "collapsed": false,
    "slideshow": {
     "slide_type": "fragment"
    }
   },
   "outputs": [],
   "source": [
    "3.2"
   ]
  },
  {
   "cell_type": "code",
   "execution_count": null,
   "metadata": {
    "collapsed": false,
    "slideshow": {
     "slide_type": "slide"
    }
   },
   "outputs": [],
   "source": [
    "# Lines starting with hashes are comments\n",
    "# They don't run\n",
    "\n",
    "# What type are each of these values?\n",
    "type(1)\n",
    "# type(2.5)\n",
    "# type(True)"
   ]
  },
  {
   "cell_type": "markdown",
   "metadata": {
    "slideshow": {
     "slide_type": "slide"
    }
   },
   "source": [
    "## Sequences\n",
    "\n",
    ">- **strings**\n",
    ">- **lists**\n",
    ">- tuples\n",
    ">- unicodes\n",
    ">- bytearrays\n",
    ">- buffers"
   ]
  },
  {
   "cell_type": "markdown",
   "metadata": {
    "slideshow": {
     "slide_type": "slide"
    }
   },
   "source": [
    "### Sequences: Strings"
   ]
  },
  {
   "cell_type": "code",
   "execution_count": 3,
   "metadata": {
    "collapsed": true,
    "slideshow": {
     "slide_type": "fragment"
    }
   },
   "outputs": [],
   "source": [
    "x = \"string here\"\n",
    "y = \"here too\""
   ]
  },
  {
   "cell_type": "code",
   "execution_count": null,
   "metadata": {
    "collapsed": false,
    "scrolled": true,
    "slideshow": {
     "slide_type": "fragment"
    }
   },
   "outputs": [],
   "source": [
    "print(x)\n",
    "type(x)"
   ]
  },
  {
   "cell_type": "code",
   "execution_count": 111,
   "metadata": {
    "collapsed": false,
    "slideshow": {
     "slide_type": "fragment"
    }
   },
   "outputs": [
    {
     "data": {
      "text/plain": [
       "'string here. here too'"
      ]
     },
     "execution_count": 111,
     "metadata": {},
     "output_type": "execute_result"
    }
   ],
   "source": [
    "x + \". \" + y"
   ]
  },
  {
   "cell_type": "code",
   "execution_count": 1,
   "metadata": {
    "collapsed": false,
    "slideshow": {
     "slide_type": "slide"
    }
   },
   "outputs": [
    {
     "data": {
      "text/plain": [
       "'stringystringystringy'"
      ]
     },
     "execution_count": 1,
     "metadata": {},
     "output_type": "execute_result"
    }
   ],
   "source": [
    "'stringy' * 3"
   ]
  },
  {
   "cell_type": "code",
   "execution_count": 4,
   "metadata": {
    "collapsed": false,
    "slideshow": {
     "slide_type": "fragment"
    }
   },
   "outputs": [
    {
     "ename": "TypeError",
     "evalue": "unsupported operand type(s) for +: 'int' and 'str'",
     "output_type": "error",
     "traceback": [
      "\u001b[0;31m---------------------------------------------------------------------------\u001b[0m",
      "\u001b[0;31mTypeError\u001b[0m                                 Traceback (most recent call last)",
      "\u001b[0;32m<ipython-input-4-852e1412fe6b>\u001b[0m in \u001b[0;36m<module>\u001b[0;34m()\u001b[0m\n\u001b[0;32m----> 1\u001b[0;31m \u001b[0;36m1\u001b[0m \u001b[0;34m+\u001b[0m \u001b[0mx\u001b[0m\u001b[0;34m\u001b[0m\u001b[0m\n\u001b[0m\u001b[1;32m      2\u001b[0m \u001b[0;31m#str(1) + \" \" + x\u001b[0m\u001b[0;34m\u001b[0m\u001b[0;34m\u001b[0m\u001b[0m\n",
      "\u001b[0;31mTypeError\u001b[0m: unsupported operand type(s) for +: 'int' and 'str'"
     ]
    }
   ],
   "source": [
    "1 + x \n",
    "#str(1) + \" \" + x"
   ]
  },
  {
   "cell_type": "markdown",
   "metadata": {
    "slideshow": {
     "slide_type": "slide"
    }
   },
   "source": [
    "### String indexing"
   ]
  },
  {
   "cell_type": "code",
   "execution_count": 106,
   "metadata": {
    "collapsed": false,
    "slideshow": {
     "slide_type": "fragment"
    }
   },
   "outputs": [
    {
     "name": "stdout",
     "output_type": "stream",
     "text": [
      "string here\n"
     ]
    },
    {
     "data": {
      "text/plain": [
       "'s'"
      ]
     },
     "execution_count": 106,
     "metadata": {},
     "output_type": "execute_result"
    }
   ],
   "source": [
    "print(x)\n",
    "x[0]"
   ]
  },
  {
   "cell_type": "markdown",
   "metadata": {
    "slideshow": {
     "slide_type": "fragment"
    }
   },
   "source": [
    "### What if we want more than just a single character?"
   ]
  },
  {
   "cell_type": "code",
   "execution_count": null,
   "metadata": {
    "collapsed": false,
    "slideshow": {
     "slide_type": "fragment"
    }
   },
   "outputs": [],
   "source": [
    "x[0:2]"
   ]
  },
  {
   "cell_type": "markdown",
   "metadata": {
    "slideshow": {
     "slide_type": "slide"
    }
   },
   "source": [
    "### Notice that this slicing is 'exclusive' - it returns the 0th and the 1st element, but not the 2nd"
   ]
  },
  {
   "cell_type": "markdown",
   "metadata": {
    "slideshow": {
     "slide_type": "slide"
    }
   },
   "source": [
    "## Can we index from the right side?"
   ]
  },
  {
   "cell_type": "code",
   "execution_count": null,
   "metadata": {
    "collapsed": false,
    "slideshow": {
     "slide_type": "fragment"
    }
   },
   "outputs": [],
   "source": [
    "print(x)\n",
    "x[-1]\n",
    "#x[-3:]"
   ]
  },
  {
   "cell_type": "markdown",
   "metadata": {
    "slideshow": {
     "slide_type": "slide"
    }
   },
   "source": [
    "### Sequences: Lists - [ ]\n",
    "\n",
    "### A list is a mutable sequence, i.e., the items in it can be replaced. It is denoted with square brackets."
   ]
  },
  {
   "cell_type": "code",
   "execution_count": 109,
   "metadata": {
    "collapsed": false,
    "slideshow": {
     "slide_type": "fragment"
    }
   },
   "outputs": [],
   "source": [
    "### How do we index 'Dog' in our list?\n",
    "l = ['Cat', 2, 'Dog', x]"
   ]
  },
  {
   "cell_type": "markdown",
   "metadata": {
    "slideshow": {
     "slide_type": "slide"
    }
   },
   "source": [
    "# Mappings: Dicts - { } \n",
    "\n",
    "Dictionaries are also known as key-value stores.\n",
    "\n",
    "Like lists they are mutable in that the values for a given key can be replaced.\n",
    "\n",
    "They are denoted with curly braces."
   ]
  },
  {
   "cell_type": "code",
   "execution_count": 121,
   "metadata": {
    "collapsed": false,
    "slideshow": {
     "slide_type": "fragment"
    }
   },
   "outputs": [
    {
     "data": {
      "text/plain": [
       "{'key_a': 1, 'key_b': 'dog', 'key_c': [0, 1]}"
      ]
     },
     "execution_count": 121,
     "metadata": {},
     "output_type": "execute_result"
    }
   ],
   "source": [
    "d = {'key_a': 1, 'key_b': 'dog', 'key_c': [0,1]}\n",
    "d"
   ]
  },
  {
   "cell_type": "markdown",
   "metadata": {
    "slideshow": {
     "slide_type": "slide"
    }
   },
   "source": [
    "# We get a value back by calling its key"
   ]
  },
  {
   "cell_type": "code",
   "execution_count": 187,
   "metadata": {
    "collapsed": false,
    "slideshow": {
     "slide_type": "fragment"
    }
   },
   "outputs": [
    {
     "data": {
      "text/plain": [
       "[0, 1]"
      ]
     },
     "execution_count": 187,
     "metadata": {},
     "output_type": "execute_result"
    }
   ],
   "source": [
    "d['key_c']"
   ]
  },
  {
   "cell_type": "markdown",
   "metadata": {
    "slideshow": {
     "slide_type": "slide"
    }
   },
   "source": [
    "# We can add a new key/value pairs"
   ]
  },
  {
   "cell_type": "code",
   "execution_count": 122,
   "metadata": {
    "collapsed": false,
    "slideshow": {
     "slide_type": "fragment"
    }
   },
   "outputs": [
    {
     "data": {
      "text/plain": [
       "[('key_d', 2.1), ('key_a', 1), ('key_c', [0, 1]), ('key_b', 'dog')]"
      ]
     },
     "execution_count": 122,
     "metadata": {},
     "output_type": "execute_result"
    }
   ],
   "source": [
    "d['key_d'] = 2.1\n",
    "d.items()"
   ]
  },
  {
   "cell_type": "markdown",
   "metadata": {
    "slideshow": {
     "slide_type": "slide"
    }
   },
   "source": [
    "> Check: we covered a lot of types! Can you concat (+) and can you multiply (\\*):\n",
    ">> Integers?\n",
    "\n",
    ">> Floats?\n",
    "\n",
    ">> Strings?\n",
    "\n",
    ">> Lists?\n",
    "\n",
    ">> Dictionaries?\n",
    "\n"
   ]
  },
  {
   "cell_type": "markdown",
   "metadata": {
    "slideshow": {
     "slide_type": "slide"
    }
   },
   "source": [
    "# Functions\n",
    "\n",
    "- Reusable snippets of code\n",
    "- Define the function once \n",
    "- Call the function to execute your code as many times as you like\n",
    "- Can receive inputs and return results"
   ]
  },
  {
   "cell_type": "markdown",
   "metadata": {
    "slideshow": {
     "slide_type": "slide"
    }
   },
   "source": [
    "![Function syntax](./intro_python_bootcamp/function_syntax.png)\n",
    "\n"
   ]
  },
  {
   "cell_type": "code",
   "execution_count": 110,
   "metadata": {
    "collapsed": false,
    "slideshow": {
     "slide_type": "slide"
    }
   },
   "outputs": [
    {
     "name": "stdout",
     "output_type": "stream",
     "text": [
      "I made a function\n"
     ]
    }
   ],
   "source": [
    "def simplestFunction():\n",
    "     print \"I made a function\"\n",
    "        \n",
    "simplestFunction()"
   ]
  },
  {
   "cell_type": "code",
   "execution_count": null,
   "metadata": {
    "collapsed": true,
    "slideshow": {
     "slide_type": "slide"
    }
   },
   "outputs": [],
   "source": [
    "# Functions can take parameters\n",
    "\n",
    "def square(x):\n",
    "     return x ** 2\n",
    "\n",
    "square(5)"
   ]
  },
  {
   "cell_type": "markdown",
   "metadata": {
    "slideshow": {
     "slide_type": "slide"
    }
   },
   "source": [
    "# Pair programming exercise\n",
    "\n",
    "### One person dictates the code, one person types\n",
    "\n",
    "1) Define a function that converts Celsius to Fahrenheit. It returns the converted value, accurate to at least one decimal point.\n",
    "\n",
    "### When you're done, switch!\n",
    "\n",
    "2) Update your function to return a sentence (string type) with the Celsius and Fahrenheit values inserted into the string, e.g.: ”You input 10. The converted value is …”\n",
    "\n",
    "_Hint: I've shown you a couple methods you can use to do this..._\n"
   ]
  },
  {
   "cell_type": "markdown",
   "metadata": {
    "slideshow": {
     "slide_type": "slide"
    }
   },
   "source": [
    "# If statements\n",
    "- Used to execute commands when defined conditions are met\n",
    "- Contains a conditional statement that has a True/False value\n",
    "- If statement is True then a series of commands will be executed\n",
    "- If the statement is False then commands are skipped"
   ]
  },
  {
   "cell_type": "markdown",
   "metadata": {
    "slideshow": {
     "slide_type": "slide"
    }
   },
   "source": [
    "# If statement syntax\n",
    "![If statement syntax](./intro_python_bootcamp/if_statement_syntax.png)"
   ]
  },
  {
   "cell_type": "markdown",
   "metadata": {
    "slideshow": {
     "slide_type": "slide"
    }
   },
   "source": [
    "# Conditionals\n",
    "![Conditional statements](./intro_python_bootcamp/conditional_statements.png)"
   ]
  },
  {
   "cell_type": "code",
   "execution_count": null,
   "metadata": {
    "collapsed": false,
    "slideshow": {
     "slide_type": "slide"
    }
   },
   "outputs": [],
   "source": [
    "# What will you see?\n",
    "\n",
    "x = 3\n",
    "if x > 0:\n",
    "    print x"
   ]
  },
  {
   "cell_type": "markdown",
   "metadata": {
    "slideshow": {
     "slide_type": "slide"
    }
   },
   "source": [
    "# If-else statements\n",
    "\n",
    "Run this in your notebook:\n",
    "\n",
    "```python\n",
    "temperature = float(input('What is the temperature? '))\n",
    "```\n"
   ]
  },
  {
   "cell_type": "code",
   "execution_count": 190,
   "metadata": {
    "collapsed": false,
    "slideshow": {
     "slide_type": "slide"
    }
   },
   "outputs": [
    {
     "name": "stdout",
     "output_type": "stream",
     "text": [
      "What is the temperature? 68\n"
     ]
    }
   ],
   "source": [
    "temperature = float(input('What is the temperature? '))"
   ]
  },
  {
   "cell_type": "code",
   "execution_count": 191,
   "metadata": {
    "collapsed": false,
    "slideshow": {
     "slide_type": "fragment"
    }
   },
   "outputs": [
    {
     "name": "stdout",
     "output_type": "stream",
     "text": [
      "Wear long pants.\n",
      "Get some exercise outside.\n"
     ]
    }
   ],
   "source": [
    "if temperature > 70:\n",
    "    print('Wear shorts.')\n",
    "else:\n",
    "    print('Wear long pants.')\n",
    "print('Get some exercise outside.')"
   ]
  },
  {
   "cell_type": "markdown",
   "metadata": {
    "slideshow": {
     "slide_type": "slide"
    }
   },
   "source": [
    "```python\n",
    "if temperature > 70:\n",
    "    print('Wear shorts.')\n",
    "else:\n",
    "    print('Wear long pants.')\n",
    "print('Get some exercise outside.')\n",
    "```\n",
    "\n",
    "There are two indented blocks: one comes after the `if` heading and is executed when the condition in the `if` heading is true.\n",
    "\n",
    "This is followed by an `else:` line, followed by another indented block executed when the original condition is false.\n",
    "\n",
    "In an `if-else` statement exactly one of two possible indented blocks is executed."
   ]
  },
  {
   "cell_type": "markdown",
   "metadata": {
    "slideshow": {
     "slide_type": "slide"
    }
   },
   "source": [
    "# What if we have more than one condition?\n",
    "\n",
    "The syntax for an if-*elif*-else statement is:\n",
    "\n",
    "```python\n",
    "if condition1 :\n",
    "    indentedStatementBlockForTrueCondition1\n",
    "elif condition2 :\n",
    "    indentedStatementBlockForFirstTrueCondition2\n",
    "elif condition3 :\n",
    "    indentedStatementBlockForFirstTrueCondition3\n",
    "elif condition4 :\n",
    "    indentedStatementBlockForFirstTrueCondition4\n",
    "else:\n",
    "    indentedStatementBlockForEachConditionFalse\n",
    "```"
   ]
  },
  {
   "cell_type": "markdown",
   "metadata": {
    "slideshow": {
     "slide_type": "slide"
    }
   },
   "source": [
    "![If-elif-else](./intro_python_bootcamp/if_elif_syntax.png)"
   ]
  },
  {
   "cell_type": "markdown",
   "metadata": {
    "slideshow": {
     "slide_type": "slide"
    }
   },
   "source": [
    "Type:\n",
    "```python\n",
    "x = int(raw_input(\"Please enter an integer: \"))\n",
    "```\n"
   ]
  },
  {
   "cell_type": "markdown",
   "metadata": {
    "slideshow": {
     "slide_type": "slide"
    }
   },
   "source": [
    "```python\n",
    "if x < 0:\n",
    "    x = 0\n",
    "    print('Negative changed to zero')\n",
    "elif x == 0:\n",
    "    print('Zero')\n",
    "elif x == 1:\n",
    "    print('One')\n",
    "else:\n",
    "    print('More')\n",
    "```\n",
    "\n",
    "The if, each elif, and the final else line are all aligned. There can be any number of elif lines, each followed by an indented block.\n",
    "\n",
    "Exactly one of the indented blocks is executed: the one corresponding to the first True condition.\n",
    "\n"
   ]
  },
  {
   "cell_type": "markdown",
   "metadata": {
    "slideshow": {
     "slide_type": "slide"
    }
   },
   "source": [
    "> Check: what happens if more than one condition in an if-elif-else statement is true?"
   ]
  },
  {
   "cell_type": "markdown",
   "metadata": {
    "slideshow": {
     "slide_type": "slide"
    }
   },
   "source": [
    "# For-loops\n",
    "\n",
    "Python’s `for` statement iterates over the items of any sequence (a list or a string), in the order that they appear in the sequence.\n",
    "\n",
    "The syntax for loops is:\n",
    "\n",
    "```python\n",
    "for iterator_name in iterating_sequence:\n",
    "        …statements…\n",
    "```\n",
    "\n",
    "\n"
   ]
  },
  {
   "cell_type": "markdown",
   "metadata": {
    "slideshow": {
     "slide_type": "slide"
    }
   },
   "source": [
    "Try:\n",
    "```python\n",
    "words = ['plant', 'window', 'defenestrate']\n",
    "for w in words:\n",
    "    print(w, len(w))\n",
    "```\n"
   ]
  },
  {
   "cell_type": "markdown",
   "metadata": {
    "slideshow": {
     "slide_type": "slide"
    }
   },
   "source": [
    "and it returns:\n",
    "```bash\n",
    "plant 5\n",
    "window 6\n",
    "defenestrate 12\n",
    "```\n",
    "\n",
    "> Check: what's going on? Discuss with your neighbor. And then report back."
   ]
  },
  {
   "cell_type": "markdown",
   "metadata": {
    "slideshow": {
     "slide_type": "slide"
    }
   },
   "source": [
    "Any sequence can be your iterating sequence.\n",
    "\n",
    "Some functions can create particularly useful sequences:\n",
    "\n",
    "`range(<integer>)`\n",
    "- Creates list of integers\n",
    "- Starts with zero and each subsequent value is incremented by 1\n",
    "- Returns list with length = input integer\n",
    "- Last item in list is input -1 since list starts with zero\n"
   ]
  },
  {
   "cell_type": "markdown",
   "metadata": {
    "slideshow": {
     "slide_type": "slide"
    }
   },
   "source": [
    "\n",
    "`len(<object>)`\n",
    "\n",
    "- Checks the length of your object\n",
    "- Useful as an input to your range() function\n",
    "- For example, with a list: `range(len(mylist))`"
   ]
  },
  {
   "cell_type": "markdown",
   "metadata": {
    "slideshow": {
     "slide_type": "slide"
    }
   },
   "source": [
    "# LUNCH"
   ]
  },
  {
   "cell_type": "markdown",
   "metadata": {
    "slideshow": {
     "slide_type": "slide"
    }
   },
   "source": [
    "### LESSON GUIDE\n",
    "| TIME  | TOPIC  |\n",
    "|:-:|---|\n",
    "| 10:00 - 10:15 | Introductions: Who's here? |\n",
    "| 10:15 - 10:30 | Requirements checklist |\n",
    "| 10:30 - 11:00 | The command line, .py files and Jupyter |\n",
    "| 11:00 - 11:15 | BREAK |\n",
    "| 11:15 - 12:15 | Python: data types, containers and control flow |\n",
    "| 12:15 - 1:00 | LUNCH |\n",
    "| 1:00 - 1:30 | ** Python practice ** |\n",
    "| 1:30 - 1:50 | The data science ecosystem |\n",
    "| 1:50 - 2:50 | Pandas: dataframes, series and plots|\n",
    "| 2:50 - 3:00 | BREAK |\n",
    "| 3:00 - 3:45 | Python + pandas practice |\n",
    "| 3:45 - 4:00 |Your next steps |\n",
    "---"
   ]
  },
  {
   "cell_type": "markdown",
   "metadata": {
    "slideshow": {
     "slide_type": "slide"
    }
   },
   "source": [
    "# Independent practice\n",
    "1. Create a function that checks the type of an input and returns True if the input is numeric (float or integer) or a False if it is another data type.\n",
    "\n",
    "- Update your temperature conversion function to return an error message if a string is entered instead of a number\n",
    "- Create a function that receives a list of numbers as an input, adds 1 to each number and returns the results as a list\n",
    "- Update your temperature conversion function to accept a list of Celsius temperatures and return a list of Fahrenheit temperatures\n",
    "\n",
    "Bonus:\n",
    "Add error handling to your temperature conversion function!"
   ]
  },
  {
   "cell_type": "markdown",
   "metadata": {
    "slideshow": {
     "slide_type": "slide"
    }
   },
   "source": [
    "### LESSON GUIDE\n",
    "| TIME  | TOPIC  |\n",
    "|:-:|---|\n",
    "| 10:00 - 10:15 | Introductions: Who's here? |\n",
    "| 10:15 - 10:30 | Requirements checklist |\n",
    "| 10:30 - 11:00 | The command line, .py files and Jupyter |\n",
    "| 11:00 - 11:15 | BREAK |\n",
    "| 11:15 - 12:15 | Python: data types, containers and control flow |\n",
    "| 12:15 - 1:00 | LUNCH |\n",
    "| 1:00 - 1:30 | Python practice  |\n",
    "| 1:30 - 1:50 | ** The data science ecosystem ** |\n",
    "| 1:50 - 2:50 | Pandas: dataframes, series and plots|\n",
    "| 2:50 - 3:00 | BREAK |\n",
    "| 3:00 - 3:45 | Python + pandas practice |\n",
    "| 3:45 - 4:00 |Your next steps |\n",
    "---"
   ]
  },
  {
   "cell_type": "markdown",
   "metadata": {
    "slideshow": {
     "slide_type": "slide"
    }
   },
   "source": [
    "# The data science ecosystem\n",
    "\n",
    "- NumPy, Pandas, sklearn, matplotlib, BeautifulSoup, and many more\n",
    "- Libraries are designed to make specific tasks much easier"
   ]
  },
  {
   "cell_type": "markdown",
   "metadata": {
    "slideshow": {
     "slide_type": "slide"
    }
   },
   "source": [
    "# The Python data science ecosystem: key components\n",
    "![](./intro_python_bootcamp/python_ds_ecosystem.png)"
   ]
  },
  {
   "cell_type": "markdown",
   "metadata": {
    "slideshow": {
     "slide_type": "slide"
    }
   },
   "source": [
    "You can use these libraries in your programs by importing them:\n",
    "\n"
   ]
  },
  {
   "cell_type": "code",
   "execution_count": 125,
   "metadata": {
    "collapsed": true,
    "slideshow": {
     "slide_type": "fragment"
    }
   },
   "outputs": [],
   "source": [
    "import pandas as pd"
   ]
  },
  {
   "cell_type": "markdown",
   "metadata": {
    "slideshow": {
     "slide_type": "slide"
    }
   },
   "source": [
    "![XKCD Python import library](https://imgs.xkcd.com/comics/python.png)"
   ]
  },
  {
   "cell_type": "markdown",
   "metadata": {
    "slideshow": {
     "slide_type": "slide"
    }
   },
   "source": [
    "# Where is Python used?\n",
    "\n",
    "- Very common on data science teams, for analysis and making data products\n",
    "- Also seen as backend language for websites\n",
    "- Used in lots of contexts for quick, ad hoc \"scripting\" "
   ]
  },
  {
   "cell_type": "markdown",
   "metadata": {
    "slideshow": {
     "slide_type": "slide"
    }
   },
   "source": [
    "### LESSON GUIDE\n",
    "| TIME  | TOPIC  |\n",
    "|:-:|---|\n",
    "| 10:00 - 10:15 | Introductions: Who's here? |\n",
    "| 10:15 - 10:30 | Requirements checklist |\n",
    "| 10:30 - 11:00 | The command line, .py files and Jupyter |\n",
    "| 11:00 - 11:15 | BREAK |\n",
    "| 11:15 - 12:15 | Python: data types, containers and control flow |\n",
    "| 12:15 - 1:00 | LUNCH |\n",
    "| 1:00 - 1:30 | Python practice  |\n",
    "| 1:30 - 1:50 | The data science ecosystem |\n",
    "| 1:50 - 2:50 | ** Pandas: dataframes, series and plots** |\n",
    "| 2:50 - 3:00 | BREAK |\n",
    "| 3:00 - 3:45 | Python + pandas practice |\n",
    "| 3:45 - 4:00 |Your next steps |\n",
    "---"
   ]
  },
  {
   "cell_type": "markdown",
   "metadata": {
    "slideshow": {
     "slide_type": "slide"
    }
   },
   "source": [
    "## Pandas\n",
    "\n",
    "![Pandas](http://i.imgur.com/OKffmnL.png)\n",
    "\n",
    "pandas is a Python package providing **fast, flexible, and expressive data structures** designed to make working with “relational” or “labeled” data both easy and intuitive."
   ]
  },
  {
   "cell_type": "markdown",
   "metadata": {
    "slideshow": {
     "slide_type": "slide"
    }
   },
   "source": [
    "## Let's talk about those data structures\n",
    "\n",
    "The two basic data structures are:\n",
    "    \n",
    "- Series\n",
    "- DataFrame"
   ]
  },
  {
   "cell_type": "markdown",
   "metadata": {
    "slideshow": {
     "slide_type": "slide"
    }
   },
   "source": [
    "## Series\n",
    "\n",
    "A series is a 1D data structure. A series always has an index and optionally a column name."
   ]
  },
  {
   "cell_type": "code",
   "execution_count": 160,
   "metadata": {
    "collapsed": false,
    "slideshow": {
     "slide_type": "fragment"
    }
   },
   "outputs": [
    {
     "data": {
      "text/plain": [
       "0    10\n",
       "1    20\n",
       "2    30\n",
       "3    40\n",
       "4    50\n",
       "dtype: int64"
      ]
     },
     "execution_count": 160,
     "metadata": {},
     "output_type": "execute_result"
    }
   ],
   "source": [
    "my_series = pd.Series([10, 20, 30, 40, 50])\n",
    "my_series"
   ]
  },
  {
   "cell_type": "code",
   "execution_count": 161,
   "metadata": {
    "collapsed": false,
    "slideshow": {
     "slide_type": "fragment"
    }
   },
   "outputs": [
    {
     "data": {
      "text/plain": [
       "2012    10\n",
       "2013    20\n",
       "2014    30\n",
       "2015    40\n",
       "2016    50\n",
       "dtype: int64"
      ]
     },
     "execution_count": 161,
     "metadata": {},
     "output_type": "execute_result"
    }
   ],
   "source": [
    "my_series = pd.Series([10, 20, 30, 40, 50], index=[2012, 2013, 2014, 2015, 2016])\n",
    "my_series"
   ]
  },
  {
   "cell_type": "markdown",
   "metadata": {
    "slideshow": {
     "slide_type": "slide"
    }
   },
   "source": [
    "> Check: why are we wrapping those lists in pd.Series()? What is `pd`? "
   ]
  },
  {
   "cell_type": "markdown",
   "metadata": {
    "slideshow": {
     "slide_type": "slide"
    }
   },
   "source": [
    "## DataFrame\n",
    "\n",
    "A DataFrame is a 2D data structure. It also has an index, and each column -- itself a series -- in the DataFrame has a column name.\n",
    "\n",
    "A DataFrame is similar to a spreadsheet in structure.\n",
    "\n",
    "<img src=\"http://i.imgur.com/Z5PAHRQ.png\" width=400>"
   ]
  },
  {
   "cell_type": "code",
   "execution_count": 164,
   "metadata": {
    "collapsed": false,
    "slideshow": {
     "slide_type": "slide"
    }
   },
   "outputs": [
    {
     "data": {
      "text/html": [
       "<div>\n",
       "<table border=\"1\" class=\"dataframe\">\n",
       "  <thead>\n",
       "    <tr style=\"text-align: right;\">\n",
       "      <th></th>\n",
       "      <th>Unnamed: 0</th>\n",
       "      <th>rank</th>\n",
       "      <th>discipline</th>\n",
       "      <th>yrs.since.phd</th>\n",
       "      <th>yrs.service</th>\n",
       "      <th>sex</th>\n",
       "      <th>salary</th>\n",
       "    </tr>\n",
       "  </thead>\n",
       "  <tbody>\n",
       "    <tr>\n",
       "      <th>0</th>\n",
       "      <td>1</td>\n",
       "      <td>Prof</td>\n",
       "      <td>B</td>\n",
       "      <td>19</td>\n",
       "      <td>18</td>\n",
       "      <td>Male</td>\n",
       "      <td>139750</td>\n",
       "    </tr>\n",
       "    <tr>\n",
       "      <th>1</th>\n",
       "      <td>2</td>\n",
       "      <td>Prof</td>\n",
       "      <td>B</td>\n",
       "      <td>20</td>\n",
       "      <td>16</td>\n",
       "      <td>Male</td>\n",
       "      <td>173200</td>\n",
       "    </tr>\n",
       "    <tr>\n",
       "      <th>2</th>\n",
       "      <td>3</td>\n",
       "      <td>AsstProf</td>\n",
       "      <td>B</td>\n",
       "      <td>4</td>\n",
       "      <td>3</td>\n",
       "      <td>Male</td>\n",
       "      <td>79750</td>\n",
       "    </tr>\n",
       "    <tr>\n",
       "      <th>3</th>\n",
       "      <td>4</td>\n",
       "      <td>Prof</td>\n",
       "      <td>B</td>\n",
       "      <td>45</td>\n",
       "      <td>39</td>\n",
       "      <td>Male</td>\n",
       "      <td>115000</td>\n",
       "    </tr>\n",
       "    <tr>\n",
       "      <th>4</th>\n",
       "      <td>5</td>\n",
       "      <td>Prof</td>\n",
       "      <td>B</td>\n",
       "      <td>40</td>\n",
       "      <td>41</td>\n",
       "      <td>Male</td>\n",
       "      <td>141500</td>\n",
       "    </tr>\n",
       "  </tbody>\n",
       "</table>\n",
       "</div>"
      ],
      "text/plain": [
       "   Unnamed: 0      rank discipline  yrs.since.phd  yrs.service   sex  salary\n",
       "0           1      Prof          B             19           18  Male  139750\n",
       "1           2      Prof          B             20           16  Male  173200\n",
       "2           3  AsstProf          B              4            3  Male   79750\n",
       "3           4      Prof          B             45           39  Male  115000\n",
       "4           5      Prof          B             40           41  Male  141500"
      ]
     },
     "execution_count": 164,
     "metadata": {},
     "output_type": "execute_result"
    }
   ],
   "source": [
    "# how to read in a csv\n",
    "df = pd.read_csv('https://vincentarelbundock.github.io/Rdatasets/csv/car/Salaries.csv')\n",
    "df"
   ]
  },
  {
   "cell_type": "code",
   "execution_count": 165,
   "metadata": {
    "collapsed": false,
    "slideshow": {
     "slide_type": "slide"
    }
   },
   "outputs": [
    {
     "data": {
      "text/html": [
       "<div>\n",
       "<table border=\"1\" class=\"dataframe\">\n",
       "  <thead>\n",
       "    <tr style=\"text-align: right;\">\n",
       "      <th></th>\n",
       "      <th>Unnamed: 0</th>\n",
       "      <th>rank</th>\n",
       "      <th>discipline</th>\n",
       "      <th>yrs.since.phd</th>\n",
       "      <th>yrs.service</th>\n",
       "      <th>sex</th>\n",
       "      <th>salary</th>\n",
       "    </tr>\n",
       "  </thead>\n",
       "  <tbody>\n",
       "    <tr>\n",
       "      <th>0</th>\n",
       "      <td>1</td>\n",
       "      <td>Prof</td>\n",
       "      <td>B</td>\n",
       "      <td>19</td>\n",
       "      <td>18</td>\n",
       "      <td>Male</td>\n",
       "      <td>139750</td>\n",
       "    </tr>\n",
       "    <tr>\n",
       "      <th>1</th>\n",
       "      <td>2</td>\n",
       "      <td>Prof</td>\n",
       "      <td>B</td>\n",
       "      <td>20</td>\n",
       "      <td>16</td>\n",
       "      <td>Male</td>\n",
       "      <td>173200</td>\n",
       "    </tr>\n",
       "    <tr>\n",
       "      <th>2</th>\n",
       "      <td>3</td>\n",
       "      <td>AsstProf</td>\n",
       "      <td>B</td>\n",
       "      <td>4</td>\n",
       "      <td>3</td>\n",
       "      <td>Male</td>\n",
       "      <td>79750</td>\n",
       "    </tr>\n",
       "    <tr>\n",
       "      <th>3</th>\n",
       "      <td>4</td>\n",
       "      <td>Prof</td>\n",
       "      <td>B</td>\n",
       "      <td>45</td>\n",
       "      <td>39</td>\n",
       "      <td>Male</td>\n",
       "      <td>115000</td>\n",
       "    </tr>\n",
       "    <tr>\n",
       "      <th>4</th>\n",
       "      <td>5</td>\n",
       "      <td>Prof</td>\n",
       "      <td>B</td>\n",
       "      <td>40</td>\n",
       "      <td>41</td>\n",
       "      <td>Male</td>\n",
       "      <td>141500</td>\n",
       "    </tr>\n",
       "  </tbody>\n",
       "</table>\n",
       "</div>"
      ],
      "text/plain": [
       "   Unnamed: 0      rank discipline  yrs.since.phd  yrs.service   sex  salary\n",
       "0           1      Prof          B             19           18  Male  139750\n",
       "1           2      Prof          B             20           16  Male  173200\n",
       "2           3  AsstProf          B              4            3  Male   79750\n",
       "3           4      Prof          B             45           39  Male  115000\n",
       "4           5      Prof          B             40           41  Male  141500"
      ]
     },
     "execution_count": 165,
     "metadata": {},
     "output_type": "execute_result"
    }
   ],
   "source": [
    "df.head()"
   ]
  },
  {
   "cell_type": "code",
   "execution_count": 163,
   "metadata": {
    "collapsed": false,
    "slideshow": {
     "slide_type": "slide"
    }
   },
   "outputs": [
    {
     "data": {
      "text/html": [
       "<div>\n",
       "<table border=\"1\" class=\"dataframe\">\n",
       "  <thead>\n",
       "    <tr style=\"text-align: right;\">\n",
       "      <th></th>\n",
       "      <th>Unnamed: 0</th>\n",
       "      <th>yrs.since.phd</th>\n",
       "      <th>yrs.service</th>\n",
       "      <th>salary</th>\n",
       "    </tr>\n",
       "  </thead>\n",
       "  <tbody>\n",
       "    <tr>\n",
       "      <th>count</th>\n",
       "      <td>397.000000</td>\n",
       "      <td>397.000000</td>\n",
       "      <td>397.000000</td>\n",
       "      <td>397.000000</td>\n",
       "    </tr>\n",
       "    <tr>\n",
       "      <th>mean</th>\n",
       "      <td>199.000000</td>\n",
       "      <td>22.314861</td>\n",
       "      <td>17.614610</td>\n",
       "      <td>113706.458438</td>\n",
       "    </tr>\n",
       "    <tr>\n",
       "      <th>std</th>\n",
       "      <td>114.748275</td>\n",
       "      <td>12.887003</td>\n",
       "      <td>13.006024</td>\n",
       "      <td>30289.038695</td>\n",
       "    </tr>\n",
       "    <tr>\n",
       "      <th>min</th>\n",
       "      <td>1.000000</td>\n",
       "      <td>1.000000</td>\n",
       "      <td>0.000000</td>\n",
       "      <td>57800.000000</td>\n",
       "    </tr>\n",
       "    <tr>\n",
       "      <th>25%</th>\n",
       "      <td>100.000000</td>\n",
       "      <td>12.000000</td>\n",
       "      <td>7.000000</td>\n",
       "      <td>91000.000000</td>\n",
       "    </tr>\n",
       "    <tr>\n",
       "      <th>50%</th>\n",
       "      <td>199.000000</td>\n",
       "      <td>21.000000</td>\n",
       "      <td>16.000000</td>\n",
       "      <td>107300.000000</td>\n",
       "    </tr>\n",
       "    <tr>\n",
       "      <th>75%</th>\n",
       "      <td>298.000000</td>\n",
       "      <td>32.000000</td>\n",
       "      <td>27.000000</td>\n",
       "      <td>134185.000000</td>\n",
       "    </tr>\n",
       "    <tr>\n",
       "      <th>max</th>\n",
       "      <td>397.000000</td>\n",
       "      <td>56.000000</td>\n",
       "      <td>60.000000</td>\n",
       "      <td>231545.000000</td>\n",
       "    </tr>\n",
       "  </tbody>\n",
       "</table>\n",
       "</div>"
      ],
      "text/plain": [
       "       Unnamed: 0  yrs.since.phd  yrs.service         salary\n",
       "count  397.000000     397.000000   397.000000     397.000000\n",
       "mean   199.000000      22.314861    17.614610  113706.458438\n",
       "std    114.748275      12.887003    13.006024   30289.038695\n",
       "min      1.000000       1.000000     0.000000   57800.000000\n",
       "25%    100.000000      12.000000     7.000000   91000.000000\n",
       "50%    199.000000      21.000000    16.000000  107300.000000\n",
       "75%    298.000000      32.000000    27.000000  134185.000000\n",
       "max    397.000000      56.000000    60.000000  231545.000000"
      ]
     },
     "execution_count": 163,
     "metadata": {},
     "output_type": "execute_result"
    }
   ],
   "source": [
    "df.describe()"
   ]
  },
  {
   "cell_type": "markdown",
   "metadata": {
    "slideshow": {
     "slide_type": "slide"
    }
   },
   "source": [
    "## What if I want to select an individual column?"
   ]
  },
  {
   "cell_type": "code",
   "execution_count": null,
   "metadata": {
    "collapsed": true,
    "slideshow": {
     "slide_type": "fragment"
    }
   },
   "outputs": [],
   "source": [
    "df['rank']"
   ]
  },
  {
   "cell_type": "markdown",
   "metadata": {
    "slideshow": {
     "slide_type": "slide"
    }
   },
   "source": [
    "## Why did that look different?"
   ]
  },
  {
   "cell_type": "code",
   "execution_count": null,
   "metadata": {
    "collapsed": false,
    "slideshow": {
     "slide_type": "fragment"
    }
   },
   "outputs": [],
   "source": [
    "type(df)\n",
    "type(df['rank'])\n",
    "# type(df[['rank']])"
   ]
  },
  {
   "cell_type": "markdown",
   "metadata": {
    "slideshow": {
     "slide_type": "slide"
    }
   },
   "source": [
    "# Let's plot data!"
   ]
  },
  {
   "cell_type": "code",
   "execution_count": null,
   "metadata": {
    "collapsed": true,
    "slideshow": {
     "slide_type": "fragment"
    }
   },
   "outputs": [],
   "source": [
    "%matplotlib inline\n",
    "df['salary'].plot(kind='hist')"
   ]
  },
  {
   "cell_type": "markdown",
   "metadata": {
    "slideshow": {
     "slide_type": "slide"
    }
   },
   "source": [
    "## What if I want to pick my row and columns together?"
   ]
  },
  {
   "cell_type": "code",
   "execution_count": null,
   "metadata": {
    "collapsed": false,
    "slideshow": {
     "slide_type": "fragment"
    }
   },
   "outputs": [],
   "source": [
    "# .iloc[rows to select, columns to select]\n",
    "df.iloc[0:10,2:4]"
   ]
  },
  {
   "cell_type": "markdown",
   "metadata": {
    "slideshow": {
     "slide_type": "slide"
    }
   },
   "source": [
    "## Let's fix that existing index from the csv"
   ]
  },
  {
   "cell_type": "code",
   "execution_count": 133,
   "metadata": {
    "collapsed": false,
    "slideshow": {
     "slide_type": "fragment"
    }
   },
   "outputs": [
    {
     "data": {
      "text/html": [
       "<div>\n",
       "<table border=\"1\" class=\"dataframe\">\n",
       "  <thead>\n",
       "    <tr style=\"text-align: right;\">\n",
       "      <th></th>\n",
       "      <th>Unnamed: 0</th>\n",
       "      <th>rank</th>\n",
       "      <th>discipline</th>\n",
       "      <th>yrs.since.phd</th>\n",
       "      <th>yrs.service</th>\n",
       "      <th>sex</th>\n",
       "      <th>salary</th>\n",
       "    </tr>\n",
       "  </thead>\n",
       "  <tbody>\n",
       "    <tr>\n",
       "      <th>0</th>\n",
       "      <td>1</td>\n",
       "      <td>Prof</td>\n",
       "      <td>B</td>\n",
       "      <td>19</td>\n",
       "      <td>18</td>\n",
       "      <td>Male</td>\n",
       "      <td>139750</td>\n",
       "    </tr>\n",
       "    <tr>\n",
       "      <th>1</th>\n",
       "      <td>2</td>\n",
       "      <td>Prof</td>\n",
       "      <td>B</td>\n",
       "      <td>20</td>\n",
       "      <td>16</td>\n",
       "      <td>Male</td>\n",
       "      <td>173200</td>\n",
       "    </tr>\n",
       "    <tr>\n",
       "      <th>2</th>\n",
       "      <td>3</td>\n",
       "      <td>AsstProf</td>\n",
       "      <td>B</td>\n",
       "      <td>4</td>\n",
       "      <td>3</td>\n",
       "      <td>Male</td>\n",
       "      <td>79750</td>\n",
       "    </tr>\n",
       "    <tr>\n",
       "      <th>3</th>\n",
       "      <td>4</td>\n",
       "      <td>Prof</td>\n",
       "      <td>B</td>\n",
       "      <td>45</td>\n",
       "      <td>39</td>\n",
       "      <td>Male</td>\n",
       "      <td>115000</td>\n",
       "    </tr>\n",
       "    <tr>\n",
       "      <th>4</th>\n",
       "      <td>5</td>\n",
       "      <td>Prof</td>\n",
       "      <td>B</td>\n",
       "      <td>40</td>\n",
       "      <td>41</td>\n",
       "      <td>Male</td>\n",
       "      <td>141500</td>\n",
       "    </tr>\n",
       "  </tbody>\n",
       "</table>\n",
       "</div>"
      ],
      "text/plain": [
       "   Unnamed: 0      rank discipline  yrs.since.phd  yrs.service   sex  salary\n",
       "0           1      Prof          B             19           18  Male  139750\n",
       "1           2      Prof          B             20           16  Male  173200\n",
       "2           3  AsstProf          B              4            3  Male   79750\n",
       "3           4      Prof          B             45           39  Male  115000\n",
       "4           5      Prof          B             40           41  Male  141500"
      ]
     },
     "execution_count": 133,
     "metadata": {},
     "output_type": "execute_result"
    }
   ],
   "source": [
    "df = pd.read_csv('https://vincentarelbundock.github.io/Rdatasets/csv/car/Salaries.csv')\n",
    "df.head()"
   ]
  },
  {
   "cell_type": "code",
   "execution_count": null,
   "metadata": {
    "collapsed": true,
    "slideshow": {
     "slide_type": "fragment"
    }
   },
   "outputs": [],
   "source": [
    "df = df.iloc[?:,:]\n",
    "df.head()"
   ]
  },
  {
   "cell_type": "markdown",
   "metadata": {
    "slideshow": {
     "slide_type": "slide"
    }
   },
   "source": [
    "## Exercise\n",
    "\n",
    "Use the dataset in `df` to:\n",
    "- Select the first and third columns two different ways \n",
    "- Using .iloc, select the second column's second data point\n",
    "- Select the 'discipline' column as a Series and then as a DataFrame\n",
    "- Plot a histogram of yrs.service\n",
    "- Read this documentation for the df.plot.scatter() function: https://pandas.pydata.org/pandas-docs/stable/generated/pandas.DataFrame.plot.scatter.html. Can you make a scatterplot of salary vs yrs.service?"
   ]
  },
  {
   "cell_type": "markdown",
   "metadata": {
    "slideshow": {
     "slide_type": "slide"
    }
   },
   "source": [
    "# pd.DataFrame.Groupby()\n",
    "\n",
    "When looking at data, we often want to ask the same question for different groupings in our data.\n",
    "\n",
    "For example, we have salaries and ranks -- what is the *mean salary* for *each* rank?\n",
    "\n",
    "Pandas describes this as:\n",
    "- Split: separate into groups, by some variable\n",
    "- Apply: perform the same operation on each group\n",
    "- Combine: return the results in a tidy data structure"
   ]
  },
  {
   "cell_type": "markdown",
   "metadata": {
    "slideshow": {
     "slide_type": "slide"
    }
   },
   "source": [
    "The typical syntax for `groupby()` is:\n",
    "\n",
    "### `dataframe.groupby(variable_to_group_by) [columns_to_apply_to] .some_function()`"
   ]
  },
  {
   "cell_type": "code",
   "execution_count": 156,
   "metadata": {
    "collapsed": false,
    "slideshow": {
     "slide_type": "fragment"
    }
   },
   "outputs": [
    {
     "data": {
      "text/plain": [
       "rank\n",
       "AssocProf    53\n",
       "AsstProf      6\n",
       "Prof         60\n",
       "Name: yrs.service, dtype: int64"
      ]
     },
     "execution_count": 156,
     "metadata": {},
     "output_type": "execute_result"
    }
   ],
   "source": [
    "# For example\n",
    "df.groupby('rank')['yrs.service'].max()\n"
   ]
  },
  {
   "cell_type": "code",
   "execution_count": null,
   "metadata": {
    "collapsed": true,
    "slideshow": {
     "slide_type": "slide"
    }
   },
   "outputs": [],
   "source": [
    "# You can tidy up the result with the .to_frame() method\n",
    "df.groupby('rank')['yrs.service'].min().to_frame()\n"
   ]
  },
  {
   "cell_type": "code",
   "execution_count": 157,
   "metadata": {
    "collapsed": false,
    "slideshow": {
     "slide_type": "slide"
    }
   },
   "outputs": [
    {
     "data": {
      "text/plain": [
       "sex\n",
       "Female     39\n",
       "Male      358\n",
       "Name: salary, dtype: int64"
      ]
     },
     "execution_count": 157,
     "metadata": {},
     "output_type": "execute_result"
    }
   ],
   "source": [
    "# Other functions work\n",
    "df.groupby('discipline')['rank'].nunique()\n",
    "df.groupby('sex')['salary'].count()\n"
   ]
  },
  {
   "cell_type": "markdown",
   "metadata": {
    "slideshow": {
     "slide_type": "slide"
    }
   },
   "source": [
    "# Multiple dimensions and functions\n",
    "\n",
    "You can make hierarchical groups!\n",
    "\n",
    "You can also apply multiple functions to your groups, by passing them inside a list as an argument to the `.agg()` method."
   ]
  },
  {
   "cell_type": "code",
   "execution_count": 158,
   "metadata": {
    "collapsed": false,
    "slideshow": {
     "slide_type": "slide"
    }
   },
   "outputs": [
    {
     "data": {
      "text/html": [
       "<div>\n",
       "<table border=\"1\" class=\"dataframe\">\n",
       "  <thead>\n",
       "    <tr style=\"text-align: right;\">\n",
       "      <th></th>\n",
       "      <th></th>\n",
       "      <th>max</th>\n",
       "      <th>min</th>\n",
       "      <th>mean</th>\n",
       "    </tr>\n",
       "    <tr>\n",
       "      <th>rank</th>\n",
       "      <th>sex</th>\n",
       "      <th></th>\n",
       "      <th></th>\n",
       "      <th></th>\n",
       "    </tr>\n",
       "  </thead>\n",
       "  <tbody>\n",
       "    <tr>\n",
       "      <th rowspan=\"2\" valign=\"top\">AssocProf</th>\n",
       "      <th>Female</th>\n",
       "      <td>109650</td>\n",
       "      <td>62884</td>\n",
       "      <td>88512.800000</td>\n",
       "    </tr>\n",
       "    <tr>\n",
       "      <th>Male</th>\n",
       "      <td>126431</td>\n",
       "      <td>70000</td>\n",
       "      <td>94869.703704</td>\n",
       "    </tr>\n",
       "    <tr>\n",
       "      <th rowspan=\"2\" valign=\"top\">AsstProf</th>\n",
       "      <th>Female</th>\n",
       "      <td>97032</td>\n",
       "      <td>63100</td>\n",
       "      <td>78049.909091</td>\n",
       "    </tr>\n",
       "    <tr>\n",
       "      <th>Male</th>\n",
       "      <td>95079</td>\n",
       "      <td>63900</td>\n",
       "      <td>81311.464286</td>\n",
       "    </tr>\n",
       "    <tr>\n",
       "      <th rowspan=\"2\" valign=\"top\">Prof</th>\n",
       "      <th>Female</th>\n",
       "      <td>161101</td>\n",
       "      <td>90450</td>\n",
       "      <td>121967.611111</td>\n",
       "    </tr>\n",
       "    <tr>\n",
       "      <th>Male</th>\n",
       "      <td>231545</td>\n",
       "      <td>57800</td>\n",
       "      <td>127120.822581</td>\n",
       "    </tr>\n",
       "  </tbody>\n",
       "</table>\n",
       "</div>"
      ],
      "text/plain": [
       "                     max    min           mean\n",
       "rank      sex                                 \n",
       "AssocProf Female  109650  62884   88512.800000\n",
       "          Male    126431  70000   94869.703704\n",
       "AsstProf  Female   97032  63100   78049.909091\n",
       "          Male     95079  63900   81311.464286\n",
       "Prof      Female  161101  90450  121967.611111\n",
       "          Male    231545  57800  127120.822581"
      ]
     },
     "execution_count": 158,
     "metadata": {},
     "output_type": "execute_result"
    }
   ],
   "source": [
    "# We're importing numpy so we can use its mean function\n",
    "import numpy as np\n",
    "df.groupby(['rank','sex'])['salary'].agg([max, min, np.mean])"
   ]
  },
  {
   "cell_type": "markdown",
   "metadata": {
    "slideshow": {
     "slide_type": "fragment"
    }
   },
   "source": [
    "![Magic](http://i.imgur.com/YsbKHg1.gif)"
   ]
  },
  {
   "cell_type": "markdown",
   "metadata": {
    "slideshow": {
     "slide_type": "slide"
    }
   },
   "source": [
    "# pd.Series.map()\n",
    "\n",
    "9 times out of 10 we need to change our data in some way after we get it.\n",
    "\n",
    "For example, we might want to squash yrs.since.phd into three bands, or remove outliers.\n",
    "\n",
    "The concept of *mapping* a transformation -- applying the same change to every element in a series -- is very powerful.\n",
    "\n"
   ]
  },
  {
   "cell_type": "code",
   "execution_count": 5,
   "metadata": {
    "collapsed": false,
    "scrolled": true,
    "slideshow": {
     "slide_type": "slide"
    }
   },
   "outputs": [
    {
     "ename": "NameError",
     "evalue": "name 'df' is not defined",
     "output_type": "error",
     "traceback": [
      "\u001b[0;31m---------------------------------------------------------------------------\u001b[0m",
      "\u001b[0;31mNameError\u001b[0m                                 Traceback (most recent call last)",
      "\u001b[0;32m<ipython-input-5-db350795883b>\u001b[0m in \u001b[0;36m<module>\u001b[0;34m()\u001b[0m\n\u001b[1;32m      8\u001b[0m \u001b[0;31m# Choose the Series to apply the function to\u001b[0m\u001b[0;34m\u001b[0m\u001b[0;34m\u001b[0m\u001b[0m\n\u001b[1;32m      9\u001b[0m \u001b[0;31m# And map it!\u001b[0m\u001b[0;34m\u001b[0m\u001b[0;34m\u001b[0m\u001b[0m\n\u001b[0;32m---> 10\u001b[0;31m \u001b[0mdf\u001b[0m\u001b[0;34m.\u001b[0m\u001b[0mhead\u001b[0m\u001b[0;34m(\u001b[0m\u001b[0;36m10\u001b[0m\u001b[0;34m)\u001b[0m\u001b[0;34m[\u001b[0m\u001b[0;34m'sex'\u001b[0m\u001b[0;34m]\u001b[0m\u001b[0;34m.\u001b[0m\u001b[0mmap\u001b[0m\u001b[0;34m(\u001b[0m\u001b[0mreturn_abbrv\u001b[0m\u001b[0;34m)\u001b[0m\u001b[0;34m\u001b[0m\u001b[0m\n\u001b[0m",
      "\u001b[0;31mNameError\u001b[0m: name 'df' is not defined"
     ]
    }
   ],
   "source": [
    "# Define our function, or use a built-in one\n",
    "def return_abbrv(sex):\n",
    "    if sex == \"Male\" or sex == \"Female\":\n",
    "        return sex[0]\n",
    "    else:\n",
    "        return \"Other\"\n",
    "\n",
    "# Choose the Series to apply the function to\n",
    "# And map it!\n",
    "df.head(10)['sex'].map(return_abbrv)"
   ]
  },
  {
   "cell_type": "markdown",
   "metadata": {
    "slideshow": {
     "slide_type": "slide"
    }
   },
   "source": [
    "### This is frequently used to change a column or create a new column in a dataframe."
   ]
  },
  {
   "cell_type": "code",
   "execution_count": 180,
   "metadata": {
    "collapsed": false,
    "scrolled": true,
    "slideshow": {
     "slide_type": "fragment"
    }
   },
   "outputs": [
    {
     "data": {
      "text/plain": [
       "0    Male\n",
       "1    Male\n",
       "2    Male\n",
       "Name: sex, dtype: object"
      ]
     },
     "execution_count": 180,
     "metadata": {},
     "output_type": "execute_result"
    }
   ],
   "source": [
    "df['sex'][:3]"
   ]
  },
  {
   "cell_type": "code",
   "execution_count": 181,
   "metadata": {
    "collapsed": false,
    "slideshow": {
     "slide_type": "fragment"
    }
   },
   "outputs": [
    {
     "data": {
      "text/plain": [
       "0    M\n",
       "1    M\n",
       "2    M\n",
       "Name: sex, dtype: object"
      ]
     },
     "execution_count": 181,
     "metadata": {},
     "output_type": "execute_result"
    }
   ],
   "source": [
    "df['sex'] = df['sex'].map(return_abbrv)\n",
    "df['sex'][:3]"
   ]
  },
  {
   "cell_type": "markdown",
   "metadata": {
    "slideshow": {
     "slide_type": "slide"
    }
   },
   "source": [
    "### If you want a 1:1 or n:1 mapping, you can also use a dictionary"
   ]
  },
  {
   "cell_type": "code",
   "execution_count": 6,
   "metadata": {
    "collapsed": false,
    "slideshow": {
     "slide_type": "slide"
    }
   },
   "outputs": [
    {
     "ename": "NameError",
     "evalue": "name 'df' is not defined",
     "output_type": "error",
     "traceback": [
      "\u001b[0;31m---------------------------------------------------------------------------\u001b[0m",
      "\u001b[0;31mNameError\u001b[0m                                 Traceback (most recent call last)",
      "\u001b[0;32m<ipython-input-6-5625231b7712>\u001b[0m in \u001b[0;36m<module>\u001b[0;34m()\u001b[0m\n\u001b[1;32m      1\u001b[0m \u001b[0;31m# Let's reverse what we've done\u001b[0m\u001b[0;34m\u001b[0m\u001b[0;34m\u001b[0m\u001b[0m\n\u001b[1;32m      2\u001b[0m \u001b[0mabbrv_dict\u001b[0m \u001b[0;34m=\u001b[0m \u001b[0;34m{\u001b[0m\u001b[0;34m\"M\"\u001b[0m\u001b[0;34m:\u001b[0m\u001b[0;34m\"Male\"\u001b[0m\u001b[0;34m,\u001b[0m \u001b[0;34m\"F\"\u001b[0m\u001b[0;34m:\u001b[0m\u001b[0;34m\"Female\"\u001b[0m\u001b[0;34m}\u001b[0m\u001b[0;34m\u001b[0m\u001b[0m\n\u001b[0;32m----> 3\u001b[0;31m \u001b[0mdf\u001b[0m\u001b[0;34m[\u001b[0m\u001b[0;34m'sex'\u001b[0m\u001b[0;34m]\u001b[0m \u001b[0;34m=\u001b[0m \u001b[0mdf\u001b[0m\u001b[0;34m[\u001b[0m\u001b[0;34m'sex'\u001b[0m\u001b[0;34m]\u001b[0m\u001b[0;34m.\u001b[0m\u001b[0mmap\u001b[0m\u001b[0;34m(\u001b[0m\u001b[0mabbrv_dict\u001b[0m\u001b[0;34m)\u001b[0m\u001b[0;34m\u001b[0m\u001b[0m\n\u001b[0m\u001b[1;32m      4\u001b[0m \u001b[0mdf\u001b[0m\u001b[0;34m[\u001b[0m\u001b[0;34m'sex'\u001b[0m\u001b[0;34m]\u001b[0m\u001b[0;34m[\u001b[0m\u001b[0;34m:\u001b[0m\u001b[0;36m3\u001b[0m\u001b[0;34m]\u001b[0m\u001b[0;34m\u001b[0m\u001b[0m\n",
      "\u001b[0;31mNameError\u001b[0m: name 'df' is not defined"
     ]
    }
   ],
   "source": [
    "# Let's reverse what we've done\n",
    "abbrv_dict = {\"M\":\"Male\", \"F\":\"Female\"}\n",
    "df['sex'] = df['sex'].map(abbrv_dict)\n",
    "df['sex'][:3]"
   ]
  },
  {
   "cell_type": "markdown",
   "metadata": {
    "slideshow": {
     "slide_type": "slide"
    }
   },
   "source": [
    "# Once again...\n"
   ]
  },
  {
   "cell_type": "markdown",
   "metadata": {
    "slideshow": {
     "slide_type": "fragment"
    }
   },
   "source": [
    "\n",
    "![Magic](http://i.imgur.com/YsbKHg1.gif)"
   ]
  },
  {
   "cell_type": "markdown",
   "metadata": {
    "slideshow": {
     "slide_type": "slide"
    }
   },
   "source": [
    "### LESSON GUIDE\n",
    "| TIME  | TOPIC  |\n",
    "|:-:|---|\n",
    "| 10:00 - 10:15 | Introductions: Who's here? |\n",
    "| 10:15 - 10:30 | Requirements checklist |\n",
    "| 10:30 - 11:00 | The command line, .py files and Jupyter |\n",
    "| 11:00 - 11:15 | BREAK |\n",
    "| 11:15 - 12:15 | Python: data types, containers and control flow |\n",
    "| 12:15 - 1:00 | LUNCH |\n",
    "| 1:00 - 1:30 | Python practice  |\n",
    "| 1:30 - 1:50 | The data science ecosystem |\n",
    "| 1:50 - 2:50 | Pandas: dataframes, series and plots |\n",
    "| 2:50 - 3:00 | ** BREAK ** |\n",
    "| 3:00 - 3:45 | ** Python + pandas practice ** |\n",
    "| 3:45 - 4:00 |Your next steps |\n",
    "---"
   ]
  },
  {
   "cell_type": "markdown",
   "metadata": {
    "slideshow": {
     "slide_type": "slide"
    }
   },
   "source": [
    "# Independent practice\n",
    "\n",
    "1. Rewrite your function from this morning to convert USD to EUR\n",
    "2. Let's assume our dataset's salaries are in USD; map them to EUR with your function\n",
    "3. Change the discipline names: A is Engineering, B is Philosophy.\n",
    "4. Plot a histogram of the salaries for each discipline's faculty\n",
    "5. Find the maximum salary for each rank within each displine.\n",
    "\n",
    "\n",
    "BONUS: Load some of your own data into a dataframe!"
   ]
  },
  {
   "cell_type": "markdown",
   "metadata": {
    "slideshow": {
     "slide_type": "slide"
    }
   },
   "source": [
    "### LESSON GUIDE\n",
    "| TIME  | TOPIC  |\n",
    "|:-:|---|\n",
    "| 10:00 - 10:15 | Introductions: Who's here? |\n",
    "| 10:15 - 10:30 | Requirements checklist |\n",
    "| 10:30 - 11:00 | The command line, .py files and Jupyter |\n",
    "| 11:00 - 11:15 | BREAK |\n",
    "| 11:15 - 12:15 | Python: data types, containers and control flow |\n",
    "| 12:15 - 1:00 | LUNCH |\n",
    "| 1:00 - 1:30 | Python practice  |\n",
    "| 1:30 - 1:50 | The data science ecosystem |\n",
    "| 1:50 - 2:50 | Pandas: dataframes, series and plots |\n",
    "| 2:50 - 3:00 | BREAK |\n",
    "| 3:00 - 3:45 | Python + pandas practice |\n",
    "| 3:45 - 4:00 | ** Your next steps** |\n",
    "---"
   ]
  },
  {
   "cell_type": "markdown",
   "metadata": {
    "slideshow": {
     "slide_type": "slide"
    }
   },
   "source": [
    "![Questionnaire](./intro_python_bootcamp/ga_feedback.png)"
   ]
  },
  {
   "cell_type": "markdown",
   "metadata": {
    "slideshow": {
     "slide_type": "slide"
    }
   },
   "source": [
    "# Next steps: choose your own adventure...\n",
    "\n",
    "- ### Scraping web data?\n",
    "- ### Replacing your Excel macros?\n",
    "- ### Machine learning?\n",
    "\n",
    "You've made the first steps toward any of these applications, and more."
   ]
  },
  {
   "cell_type": "markdown",
   "metadata": {
    "slideshow": {
     "slide_type": "slide"
    }
   },
   "source": [
    "# A Python 102 curriculum\n",
    "\n",
    "There is a lot more to learn about Python. I'd recommend prioritizing:\n",
    "- Python tuple, dictionary and list methods\n",
    "- Python classes\n",
    "- Panda joins, .apply(), dataframe creation\n",
    "- Learning to read libraries' documentation\n",
    "- Effective searches on Stack Overflow via google\n",
    "- Sylistic best practices: follow PEP-8\n"
   ]
  },
  {
   "cell_type": "markdown",
   "metadata": {
    "slideshow": {
     "slide_type": "slide"
    }
   },
   "source": [
    "# Thank you!\n",
    "\n",
    "Feel free to connect: https://www.linkedin.com/in/winston-featherly-bean-6a050635/\n"
   ]
  }
 ],
 "metadata": {
  "anaconda-cloud": {},
  "celltoolbar": "Edit Metadata",
  "kernelspec": {
   "display_name": "Python [default]",
   "language": "python",
   "name": "python2"
  },
  "language_info": {
   "codemirror_mode": {
    "name": "ipython",
    "version": 2
   },
   "file_extension": ".py",
   "mimetype": "text/x-python",
   "name": "python",
   "nbconvert_exporter": "python",
   "pygments_lexer": "ipython2",
   "version": "2.7.12"
  }
 },
 "nbformat": 4,
 "nbformat_minor": 2
}
