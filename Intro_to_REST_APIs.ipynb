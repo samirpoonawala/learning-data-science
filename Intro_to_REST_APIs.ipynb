{
  "nbformat": 4,
  "nbformat_minor": 0,
  "metadata": {
    "colab": {
      "name": "Intro to REST APIs.ipynb",
      "version": "0.3.2",
      "provenance": [],
      "collapsed_sections": [],
      "include_colab_link": true
    }
  },
  "cells": [
    {
      "cell_type": "markdown",
      "metadata": {
        "id": "view-in-github",
        "colab_type": "text"
      },
      "source": [
        "[View in Colaboratory](https://colab.research.google.com/github/samirpoonawala/learning-data-science/blob/master/Intro_to_REST_APIs.ipynb)"
      ]
    },
    {
      "metadata": {
        "id": "7r73FNureIHG",
        "colab_type": "text"
      },
      "cell_type": "markdown",
      "source": [
        "# Introduction to REST APIs\n",
        "[Course link](https://teamtreehouse.com/library/introduction-to-rest-apis)\n",
        "\n",
        "Many of the APIs you'll encounter on the Web use an underlying design idea known as REST, which stands for Representational State Transfer. Understanding waht and how a REST API provides will help you build better and stronger REST APIs for your users.\n",
        "\n",
        "What you'll learn:\n",
        "\n",
        "\n",
        "*   REST concepts\n",
        "*   URI design\n",
        "*   Other API concerns\n",
        "\n"
      ]
    },
    {
      "metadata": {
        "id": "p2MGsyT8e0fW",
        "colab_type": "text"
      },
      "cell_type": "markdown",
      "source": [
        "## Getting the REST you need\n",
        "The RESTful API design pattern is a common, useful, and real world design pattern for turning your web app into a useful tool for building mobile apps, bots, desktop and server scripts, and more. Let's talk about what REST is, the building blocks and terminology of REST, and how you'll be using REST here at Treehouse.\n",
        "\n",
        "\n",
        "\n",
        "*   Introduction\n",
        "*   Endpoints\n",
        "*   Requests\n",
        "*   Responses\n",
        "*   Security\n",
        "*   Next steps\n",
        "\n"
      ]
    },
    {
      "metadata": {
        "id": "WntdQsXEffjw",
        "colab_type": "text"
      },
      "cell_type": "markdown",
      "source": [
        "### Introduction\n",
        "\n",
        "\n",
        "*   Postman --> common tool for testing API communications\n",
        "*   APIs are stateless\n",
        "\n"
      ]
    },
    {
      "metadata": {
        "id": "sZ7dw1NZgfyE",
        "colab_type": "text"
      },
      "cell_type": "markdown",
      "source": [
        "### Endpoints\n",
        "\n",
        "\n",
        "*   resource: usually a model in your application\n",
        "*   endpoints represent either a single record or a collection of records\n",
        "*  HTTP methods used in REST API\n",
        "    *  **GET** is used for fetching either a collection of resources or a single resource\n",
        "    *  **POST** is used to add a new resource to a* collection*\n",
        "    *  **PUT** is the HTTP method, or verb, that we use when we want to update a record. We wouldn't use PUT on collection or list URLs\n",
        "    *  **DELETE** is used for sending a DELETE request to a detail record, a URL for a single record, should delete just that record. Sending DELETE to an entire collection would delete the whole collection but that's usually not implemented, with good reason\n"
      ]
    },
    {
      "metadata": {
        "id": "iXvpav9grZyj",
        "colab_type": "text"
      },
      "cell_type": "markdown",
      "source": [
        "### Requests\n",
        "With our endpoint nouns and HTTP method verbs, we can start to build up the design of our API, but what happens when we need more information than those two things can give us?\n",
        "\n",
        "\n",
        "\n",
        "*   Query strings come after a question mark (?) in a URL. They have keys and values\n",
        "*   [Here is a complete list](https://en.wikipedia.org/wiki/List_of_HTTP_header_fields#Request_fields) of HTTP header fields that are available on requests. For many clients and servers, you can also create your own, usually following a format like X-MY-SPECIAL-HEADER\n",
        "*   HTTP headers\n",
        "     *  **Accept** specifies the file format the requester wants\n",
        "     *  **Accept-Language** specifies the human-readable language, like English, Spanish or Russian\n",
        "     *  **Cache-Control** specifies whether the resource can be generated from a cache or a quick-to-access memory bank of data or not\n",
        "*   Always provide version numbers for your APIs. Ensure backward compatability of versions"
      ]
    },
    {
      "metadata": {
        "id": "WglEUxWItiQ5",
        "colab_type": "text"
      },
      "cell_type": "markdown",
      "source": [
        "### Responses\n",
        "Once a client sends us a request, we need to generate and send back a response. There's more to a response, though, than just the data content.\n",
        "\n",
        "\n",
        "*   HTTP status codes\n",
        "  *   **200-299**: GOOD\n",
        "  *   **300-399**: UNDERSTOOD; located elsewhere\n",
        "  *   **400-499**: ERROR\n",
        "  *   **500-599**: Server End errors\n",
        "\n"
      ]
    },
    {
      "metadata": {
        "id": "GaEFMbiGuwB_",
        "colab_type": "text"
      },
      "cell_type": "markdown",
      "source": [
        "### Security\n",
        "\n",
        "Very few REST APIs are open for unlimited public consumption. Let's see what steps we can take to make our API stronger and safer\n",
        "\n",
        "\n",
        "*   A **cache** is a service that holds onto data that you need to be able to retrieve quickly. This is very useful when your data takes awhile to retrieve or calculate. Some common caches you might use are memcached, TimesTen if you use Oracle products, or HazelCast for the Java world. For caching compiled pages, Varnish is a very common and powerful choice\n",
        "*   Rate limiting\n",
        "*  Authentication\n",
        "    * API tokens\n"
      ]
    },
    {
      "metadata": {
        "id": "Sse9W9JKuy-5",
        "colab_type": "text"
      },
      "cell_type": "markdown",
      "source": [
        "### Next steps\n",
        "Take some time to play around with Postman and some of the more commonly used APIs: such as Google and Twitter"
      ]
    }
  ]
}